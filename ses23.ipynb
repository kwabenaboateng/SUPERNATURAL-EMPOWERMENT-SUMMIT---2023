{
 "cells": [
  {
   "cell_type": "markdown",
   "id": "d6f4c93f",
   "metadata": {},
   "source": [
    "## <center>SUPERNATURAL EMPOWERMENT SUMMIT, '23 </center>"
   ]
  },
  {
   "cell_type": "markdown",
   "id": "7d5bede5",
   "metadata": {},
   "source": [
    "### IMPORT PACKAGES"
   ]
  },
  {
   "cell_type": "code",
   "execution_count": 1,
   "id": "4b650685",
   "metadata": {},
   "outputs": [],
   "source": [
    "import numpy as np\n",
    "import pandas as pd\n",
    "import seaborn as sns\n",
    "import matplotlib.pyplot as plt\n",
    "import plotly.express as px"
   ]
  },
  {
   "cell_type": "code",
   "execution_count": 2,
   "id": "8ee1cdea",
   "metadata": {},
   "outputs": [],
   "source": [
    "ses23 = pd.read_csv(\"C:/Users/KWABENABOATENG/Desktop/DATA ANALYSIS/PERSONAL/SES 2023/SES '23.csv\")"
   ]
  },
  {
   "cell_type": "code",
   "execution_count": 3,
   "id": "ae2acdc5",
   "metadata": {},
   "outputs": [
    {
     "data": {
      "text/html": [
       "<div>\n",
       "<style scoped>\n",
       "    .dataframe tbody tr th:only-of-type {\n",
       "        vertical-align: middle;\n",
       "    }\n",
       "\n",
       "    .dataframe tbody tr th {\n",
       "        vertical-align: top;\n",
       "    }\n",
       "\n",
       "    .dataframe thead th {\n",
       "        text-align: right;\n",
       "    }\n",
       "</style>\n",
       "<table border=\"1\" class=\"dataframe\">\n",
       "  <thead>\n",
       "    <tr style=\"text-align: right;\">\n",
       "      <th></th>\n",
       "      <th>Timestamp</th>\n",
       "      <th>Title</th>\n",
       "      <th>First Name</th>\n",
       "      <th>Last Name</th>\n",
       "      <th>Mobile Number</th>\n",
       "      <th>WhatsApp Number</th>\n",
       "      <th>Email Address</th>\n",
       "      <th>Country</th>\n",
       "      <th>Occupation</th>\n",
       "      <th>Name of Church</th>\n",
       "    </tr>\n",
       "  </thead>\n",
       "  <tbody>\n",
       "    <tr>\n",
       "      <th>0</th>\n",
       "      <td>2023/05/22 7:06:16 PM GMT</td>\n",
       "      <td>Mr</td>\n",
       "      <td>Evans</td>\n",
       "      <td>Coffie</td>\n",
       "      <td>0249884472</td>\n",
       "      <td>0249884472</td>\n",
       "      <td>NaN</td>\n",
       "      <td>Ghana</td>\n",
       "      <td>NaN</td>\n",
       "      <td>Teminar</td>\n",
       "    </tr>\n",
       "    <tr>\n",
       "      <th>1</th>\n",
       "      <td>2023/05/22 7:07:14 PM GMT</td>\n",
       "      <td>Mr</td>\n",
       "      <td>Noble</td>\n",
       "      <td>King</td>\n",
       "      <td>0240219533</td>\n",
       "      <td>0240219533</td>\n",
       "      <td>NaN</td>\n",
       "      <td>Ghana</td>\n",
       "      <td>NaN</td>\n",
       "      <td>Perez Chapel</td>\n",
       "    </tr>\n",
       "    <tr>\n",
       "      <th>2</th>\n",
       "      <td>2023/05/22 7:07:20 PM GMT</td>\n",
       "      <td>Mr</td>\n",
       "      <td>Appiedu</td>\n",
       "      <td>Owusu Acheampong</td>\n",
       "      <td>0244450039</td>\n",
       "      <td>0244450039</td>\n",
       "      <td>appiedu.acheampong@gmail.com</td>\n",
       "      <td>Ghana</td>\n",
       "      <td>NaN</td>\n",
       "      <td>Perz Chapel</td>\n",
       "    </tr>\n",
       "    <tr>\n",
       "      <th>3</th>\n",
       "      <td>2023/05/22 7:08:43 PM GMT</td>\n",
       "      <td>Rev</td>\n",
       "      <td>Albert</td>\n",
       "      <td>T Kamara</td>\n",
       "      <td>0243801382</td>\n",
       "      <td>0243801382</td>\n",
       "      <td>NaN</td>\n",
       "      <td>Ghana</td>\n",
       "      <td>NaN</td>\n",
       "      <td>Perez Chapel</td>\n",
       "    </tr>\n",
       "    <tr>\n",
       "      <th>4</th>\n",
       "      <td>2023/05/22 7:08:43 PM GMT</td>\n",
       "      <td>Rev.</td>\n",
       "      <td>David K.</td>\n",
       "      <td>Smith</td>\n",
       "      <td>0245127629</td>\n",
       "      <td>0245127629</td>\n",
       "      <td>rev.davidkwesismith@yahoo.com</td>\n",
       "      <td>Ghana</td>\n",
       "      <td>Cleric (Pastors, Reverends etc)</td>\n",
       "      <td>C.Y.N</td>\n",
       "    </tr>\n",
       "    <tr>\n",
       "      <th>...</th>\n",
       "      <td>...</td>\n",
       "      <td>...</td>\n",
       "      <td>...</td>\n",
       "      <td>...</td>\n",
       "      <td>...</td>\n",
       "      <td>...</td>\n",
       "      <td>...</td>\n",
       "      <td>...</td>\n",
       "      <td>...</td>\n",
       "      <td>...</td>\n",
       "    </tr>\n",
       "    <tr>\n",
       "      <th>3593</th>\n",
       "      <td>2023/06/13 4:07:53 PM GMT</td>\n",
       "      <td>MR</td>\n",
       "      <td>MARCUS</td>\n",
       "      <td>DELA</td>\n",
       "      <td>0244021980</td>\n",
       "      <td>NaN</td>\n",
       "      <td>NaN</td>\n",
       "      <td>GHANA</td>\n",
       "      <td>NaN</td>\n",
       "      <td>PEREZ</td>\n",
       "    </tr>\n",
       "    <tr>\n",
       "      <th>3594</th>\n",
       "      <td>2023/06/13 4:08:47 PM GMT</td>\n",
       "      <td>MR</td>\n",
       "      <td>PATRICK</td>\n",
       "      <td>AMEGAZO</td>\n",
       "      <td>0597998224</td>\n",
       "      <td>NaN</td>\n",
       "      <td>NaN</td>\n",
       "      <td>GHANA</td>\n",
       "      <td>NaN</td>\n",
       "      <td>PEREZ</td>\n",
       "    </tr>\n",
       "    <tr>\n",
       "      <th>3595</th>\n",
       "      <td>2023/06/13 4:09:33 PM GMT</td>\n",
       "      <td>REV</td>\n",
       "      <td>EBENEZER</td>\n",
       "      <td>ALIBANWIE</td>\n",
       "      <td>0203044808</td>\n",
       "      <td>NaN</td>\n",
       "      <td>NaN</td>\n",
       "      <td>GHANA</td>\n",
       "      <td>NaN</td>\n",
       "      <td>MPCI</td>\n",
       "    </tr>\n",
       "    <tr>\n",
       "      <th>3596</th>\n",
       "      <td>2023/06/13 4:10:45 PM GMT</td>\n",
       "      <td>PASTOR</td>\n",
       "      <td>RAPHAEL</td>\n",
       "      <td>LAMKPOR</td>\n",
       "      <td>0249415892</td>\n",
       "      <td>NaN</td>\n",
       "      <td>NaN</td>\n",
       "      <td>GHANA</td>\n",
       "      <td>NaN</td>\n",
       "      <td>MPCI</td>\n",
       "    </tr>\n",
       "    <tr>\n",
       "      <th>3597</th>\n",
       "      <td>2023/06/13 4:11:56 PM GMT</td>\n",
       "      <td>MR</td>\n",
       "      <td>DANIEL</td>\n",
       "      <td>OWUSU GYEBI</td>\n",
       "      <td>0588124577</td>\n",
       "      <td>NaN</td>\n",
       "      <td>NaN</td>\n",
       "      <td>GHANA</td>\n",
       "      <td>NaN</td>\n",
       "      <td>CLWCI</td>\n",
       "    </tr>\n",
       "  </tbody>\n",
       "</table>\n",
       "<p>3598 rows × 10 columns</p>\n",
       "</div>"
      ],
      "text/plain": [
       "                      Timestamp   Title First Name         Last Name  \\\n",
       "0     2023/05/22 7:06:16 PM GMT      Mr      Evans            Coffie   \n",
       "1     2023/05/22 7:07:14 PM GMT      Mr      Noble              King   \n",
       "2     2023/05/22 7:07:20 PM GMT      Mr    Appiedu  Owusu Acheampong   \n",
       "3     2023/05/22 7:08:43 PM GMT    Rev      Albert          T Kamara   \n",
       "4     2023/05/22 7:08:43 PM GMT    Rev.   David K.             Smith   \n",
       "...                         ...     ...        ...               ...   \n",
       "3593  2023/06/13 4:07:53 PM GMT      MR     MARCUS              DELA   \n",
       "3594  2023/06/13 4:08:47 PM GMT      MR    PATRICK           AMEGAZO   \n",
       "3595  2023/06/13 4:09:33 PM GMT     REV   EBENEZER         ALIBANWIE   \n",
       "3596  2023/06/13 4:10:45 PM GMT  PASTOR    RAPHAEL           LAMKPOR   \n",
       "3597  2023/06/13 4:11:56 PM GMT      MR     DANIEL       OWUSU GYEBI   \n",
       "\n",
       "     Mobile Number WhatsApp Number                  Email Address Country  \\\n",
       "0       0249884472      0249884472                            NaN   Ghana   \n",
       "1       0240219533      0240219533                            NaN   Ghana   \n",
       "2       0244450039      0244450039   appiedu.acheampong@gmail.com   Ghana   \n",
       "3       0243801382      0243801382                            NaN   Ghana   \n",
       "4       0245127629      0245127629  rev.davidkwesismith@yahoo.com   Ghana   \n",
       "...            ...             ...                            ...     ...   \n",
       "3593    0244021980             NaN                            NaN   GHANA   \n",
       "3594    0597998224             NaN                            NaN   GHANA   \n",
       "3595    0203044808             NaN                            NaN   GHANA   \n",
       "3596    0249415892             NaN                            NaN   GHANA   \n",
       "3597    0588124577             NaN                            NaN   GHANA   \n",
       "\n",
       "                           Occupation Name of Church  \n",
       "0                                 NaN        Teminar  \n",
       "1                                 NaN   Perez Chapel  \n",
       "2                                 NaN    Perz Chapel  \n",
       "3                                 NaN   Perez Chapel  \n",
       "4     Cleric (Pastors, Reverends etc)          C.Y.N  \n",
       "...                               ...            ...  \n",
       "3593                              NaN          PEREZ  \n",
       "3594                              NaN          PEREZ  \n",
       "3595                              NaN           MPCI  \n",
       "3596                              NaN           MPCI  \n",
       "3597                              NaN          CLWCI  \n",
       "\n",
       "[3598 rows x 10 columns]"
      ]
     },
     "execution_count": 3,
     "metadata": {},
     "output_type": "execute_result"
    }
   ],
   "source": [
    "ses23"
   ]
  },
  {
   "cell_type": "code",
   "execution_count": 4,
   "id": "7588c705",
   "metadata": {},
   "outputs": [
    {
     "name": "stdout",
     "output_type": "stream",
     "text": [
      "<class 'pandas.core.frame.DataFrame'>\n",
      "RangeIndex: 3598 entries, 0 to 3597\n",
      "Data columns (total 10 columns):\n",
      " #   Column           Non-Null Count  Dtype \n",
      "---  ------           --------------  ----- \n",
      " 0   Timestamp        3598 non-null   object\n",
      " 1   Title            3598 non-null   object\n",
      " 2   First Name       3598 non-null   object\n",
      " 3   Last Name        3598 non-null   object\n",
      " 4   Mobile Number    3598 non-null   object\n",
      " 5   WhatsApp Number  883 non-null    object\n",
      " 6   Email Address    1467 non-null   object\n",
      " 7   Country          3598 non-null   object\n",
      " 8   Occupation       209 non-null    object\n",
      " 9   Name of Church   3188 non-null   object\n",
      "dtypes: object(10)\n",
      "memory usage: 281.2+ KB\n"
     ]
    }
   ],
   "source": [
    "ses23.info()"
   ]
  },
  {
   "cell_type": "code",
   "execution_count": 5,
   "id": "7a220ea9",
   "metadata": {},
   "outputs": [
    {
     "data": {
      "text/plain": [
       "(3598, 10)"
      ]
     },
     "execution_count": 5,
     "metadata": {},
     "output_type": "execute_result"
    }
   ],
   "source": [
    "ses23.shape"
   ]
  },
  {
   "cell_type": "markdown",
   "id": "bc28dfe4",
   "metadata": {},
   "source": [
    "### INSIGHTS\n",
    "\n",
    "In this data sets, there are;\n",
    "* 3598 rows & 10 columns."
   ]
  },
  {
   "cell_type": "code",
   "execution_count": 6,
   "id": "d77cc63f",
   "metadata": {},
   "outputs": [
    {
     "data": {
      "text/plain": [
       "Timestamp             0\n",
       "Title                 0\n",
       "First Name            0\n",
       "Last Name             0\n",
       "Mobile Number         0\n",
       "WhatsApp Number    2715\n",
       "Email Address      2131\n",
       "Country               0\n",
       "Occupation         3389\n",
       "Name of Church      410\n",
       "dtype: int64"
      ]
     },
     "execution_count": 6,
     "metadata": {},
     "output_type": "execute_result"
    }
   ],
   "source": [
    "#Check for missing values in this dataset.\n",
    "\n",
    "ses23.isna().sum()"
   ]
  },
  {
   "cell_type": "markdown",
   "id": "1a2fb0e6",
   "metadata": {},
   "source": [
    "#### INSIGHTS\n",
    "\n",
    "There were missing values in four columns of the dataset.<br>\n",
    "They are:\n",
    "* WhatsApp column       - 2715 missing values.\n",
    "* Email Address column  - 2131 missing values.\n",
    "* Occupation column     - 3389 missing values.\n",
    "* Name of Church column - 410 missing values."
   ]
  },
  {
   "cell_type": "code",
   "execution_count": 7,
   "id": "e07e7670",
   "metadata": {},
   "outputs": [
    {
     "data": {
      "text/html": [
       "<div>\n",
       "<style scoped>\n",
       "    .dataframe tbody tr th:only-of-type {\n",
       "        vertical-align: middle;\n",
       "    }\n",
       "\n",
       "    .dataframe tbody tr th {\n",
       "        vertical-align: top;\n",
       "    }\n",
       "\n",
       "    .dataframe thead th {\n",
       "        text-align: right;\n",
       "    }\n",
       "</style>\n",
       "<table border=\"1\" class=\"dataframe\">\n",
       "  <thead>\n",
       "    <tr style=\"text-align: right;\">\n",
       "      <th></th>\n",
       "      <th>Timestamp</th>\n",
       "      <th>Title</th>\n",
       "      <th>First Name</th>\n",
       "      <th>Last Name</th>\n",
       "      <th>Mobile Number</th>\n",
       "      <th>WhatsApp Number</th>\n",
       "      <th>Email Address</th>\n",
       "      <th>Country</th>\n",
       "      <th>Occupation</th>\n",
       "      <th>Name of Church</th>\n",
       "    </tr>\n",
       "  </thead>\n",
       "  <tbody>\n",
       "    <tr>\n",
       "      <th>count</th>\n",
       "      <td>3598</td>\n",
       "      <td>3598</td>\n",
       "      <td>3598</td>\n",
       "      <td>3598</td>\n",
       "      <td>3598</td>\n",
       "      <td>883</td>\n",
       "      <td>1467</td>\n",
       "      <td>3598</td>\n",
       "      <td>209</td>\n",
       "      <td>3188</td>\n",
       "    </tr>\n",
       "    <tr>\n",
       "      <th>unique</th>\n",
       "      <td>3554</td>\n",
       "      <td>109</td>\n",
       "      <td>1692</td>\n",
       "      <td>2536</td>\n",
       "      <td>3190</td>\n",
       "      <td>836</td>\n",
       "      <td>1437</td>\n",
       "      <td>86</td>\n",
       "      <td>7</td>\n",
       "      <td>763</td>\n",
       "    </tr>\n",
       "    <tr>\n",
       "      <th>top</th>\n",
       "      <td>2023/05/23 8:01:51 PM GMT</td>\n",
       "      <td>Mr</td>\n",
       "      <td>Emmanuel</td>\n",
       "      <td>Mensah</td>\n",
       "      <td>-</td>\n",
       "      <td>0243181458</td>\n",
       "      <td>—</td>\n",
       "      <td>Ghana</td>\n",
       "      <td>Cleric (Pastors, Reverends etc)</td>\n",
       "      <td>Perez</td>\n",
       "    </tr>\n",
       "    <tr>\n",
       "      <th>freq</th>\n",
       "      <td>2</td>\n",
       "      <td>1035</td>\n",
       "      <td>50</td>\n",
       "      <td>51</td>\n",
       "      <td>14</td>\n",
       "      <td>3</td>\n",
       "      <td>4</td>\n",
       "      <td>2418</td>\n",
       "      <td>98</td>\n",
       "      <td>546</td>\n",
       "    </tr>\n",
       "  </tbody>\n",
       "</table>\n",
       "</div>"
      ],
      "text/plain": [
       "                        Timestamp Title First Name Last Name Mobile Number  \\\n",
       "count                        3598  3598       3598      3598          3598   \n",
       "unique                       3554   109       1692      2536          3190   \n",
       "top     2023/05/23 8:01:51 PM GMT    Mr   Emmanuel    Mensah             -   \n",
       "freq                            2  1035         50        51            14   \n",
       "\n",
       "       WhatsApp Number Email Address Country                       Occupation  \\\n",
       "count              883          1467    3598                              209   \n",
       "unique             836          1437      86                                7   \n",
       "top         0243181458             —   Ghana  Cleric (Pastors, Reverends etc)   \n",
       "freq                 3             4    2418                               98   \n",
       "\n",
       "       Name of Church  \n",
       "count            3188  \n",
       "unique            763  \n",
       "top             Perez  \n",
       "freq              546  "
      ]
     },
     "execution_count": 7,
     "metadata": {},
     "output_type": "execute_result"
    }
   ],
   "source": [
    "ses23.describe(include='all')"
   ]
  },
  {
   "cell_type": "code",
   "execution_count": 9,
   "id": "49f91f86",
   "metadata": {},
   "outputs": [
    {
     "data": {
      "text/plain": [
       "array(['Mr', 'Rev ', 'Rev.', 'Pastor', 'ELDER MRS.', 'Mrs.', 'Mrs', 'Ps',\n",
       "       'Ms', 'Ms.', 'Mr.', 'Miss', 'Mrs ', 'Dr.', 'Rev', 'Miss ', 'Mr ',\n",
       "       'REV ', 'REV', 'SP', 'Mr. ', 'Mis', 'Apostle', 'Rev. ',\n",
       "       'Cell leader ', 'Ms ', 'Deacon', 'Cell leader', 'Reverend',\n",
       "       'Minister', 'Madam', 'Ps. ', 'Elder', 'Bro', 'Hon', 'Me', 'Ps.',\n",
       "       'Sir', 'Pastor ', 'Bishop', 'Deaconess ', 'Apostle ', 'Madam ',\n",
       "       'Prophet ', 'Dr', 'Djicopitro', 'Deaconess', 'Evangelist',\n",
       "       'Evangelist ', 'Pas', 'MRS', 'Mrs. ', 'MADAM', 'MR', 'PASTOR',\n",
       "       'MADAM ', 'Elder ', 'F', 'Apt', 'Asafo Maame', 'Reverend ',\n",
       "       'Mr/Ms', 'P. Eld.', 'Evang', 'Presiding Elder', 'M & E', 'M & E ',\n",
       "       'Bishop ', 'Prophet', 'Deacon ', 'mrs', 'Daniel', 'MISS', 'Mrs  ',\n",
       "       'Mes', 'Mt', 'Min', 'Madame ', 'Mr..', 'Pst', 'Mre', 'Mr/Miss',\n",
       "       'PS', 'Apst', 'Prof', 'MRS ', 'PS ', 'Mad', 'Deaconnes', 'Eld',\n",
       "       'Overseer', 'Brother ', 'Mme', 'Evan', 'Rev. Prophet', 'Pat ',\n",
       "       'Rev. Dr', 'Master', 'Ps ', 'Prb', 'Prb ', 'Madam Awortwe',\n",
       "       'Doctor ', 'M', 'MR ', 'mr', 'MS', 'BISHOP', 'PROPHET'],\n",
       "      dtype=object)"
      ]
     },
     "execution_count": 9,
     "metadata": {},
     "output_type": "execute_result"
    }
   ],
   "source": [
    "ses23['Title'].unique()"
   ]
  },
  {
   "cell_type": "code",
   "execution_count": 10,
   "id": "ed1c564e",
   "metadata": {},
   "outputs": [],
   "source": [
    "ses23['Title'] = ses23['Title'].replace('Presiding Elderer','Presiding Elder')\n",
    "ses23['Title'] = ses23['Title'].replace('Rev ','Rev')\n",
    "ses23['Title'] = ses23['Title'].replace('Pastor','Ps')\n",
    "ses23['Title'] = ses23['Title'].replace('ELDER MRS.','Elder Mrs')\n",
    "ses23['Title'] = ses23['Title'].replace('Mrs.','Mrs')\n",
    "ses23['Title'] = ses23['Title'].replace('Ms','Miss')\n",
    "ses23['Title'] = ses23['Title'].replace('Ms.','Miss')\n",
    "ses23['Title'] = ses23['Title'].replace('Mr.','Mr')\n",
    "ses23['Title'] = ses23['Title'].replace('Mrs ','Mrs')\n",
    "ses23['Title'] = ses23['Title'].replace('Dr.','Dr')\n",
    "ses23['Title'] = ses23['Title'].replace('Miss ','Miss')\n",
    "ses23['Title'] = ses23['Title'].replace('Mr ','Mr')\n",
    "ses23['Title'] = ses23['Title'].replace('REV ','Rev')\n",
    "ses23['Title'] = ses23['Title'].replace('REV','Rev')\n",
    "ses23['Title'] = ses23['Title'].replace('SP','Ps')\n",
    "ses23['Title'] = ses23['Title'].replace('Mr. ','Mr')\n",
    "ses23['Title'] = ses23['Title'].replace('Mis','Miss')\n",
    "ses23['Title'] = ses23['Title'].replace('Rev. ','Rev')\n",
    "ses23['Title'] = ses23['Title'].replace('Cell leader ','Cell leader')\n",
    "ses23['Title'] = ses23['Title'].replace('Ms ','Miss')\n",
    "ses23['Title'] = ses23['Title'].replace('Reverend','Rev')\n",
    "ses23['Title'] = ses23['Title'].replace('Madam','Mrs')\n",
    "ses23['Title'] = ses23['Title'].replace('Ps. ','Ps')\n",
    "ses23['Title'] = ses23['Title'].replace('Bro','Mr')\n",
    "ses23['Title'] = ses23['Title'].replace('Me','Mr')\n",
    "ses23['Title'] = ses23['Title'].replace('Ps.','Ps')\n",
    "ses23['Title'] = ses23['Title'].replace('Sir','Mr')\n",
    "ses23['Title'] = ses23['Title'].replace('Pastor ','Ps')\n",
    "ses23['Title'] = ses23['Title'].replace('Deaconess ','Deaconess')\n",
    "ses23['Title'] = ses23['Title'].replace('Apostle ','Apostle')\n",
    "ses23['Title'] = ses23['Title'].replace('Madam ','Mrs')\n",
    "ses23['Title'] = ses23['Title'].replace('Prophet ','Prophet')\n",
    "ses23['Title'] = ses23['Title'].replace('Evangelist ','Evangelist')\n",
    "ses23['Title'] = ses23['Title'].replace('Pas')\n",
    "ses23['Title'] = ses23['Title'].replace('MRS','Mrs')\n",
    "ses23['Title'] = ses23['Title'].replace('Mrs. ','Mrs')\n",
    "ses23['Title'] = ses23['Title'].replace('MADAM','Mrs')\n",
    "ses23['Title'] = ses23['Title'].replace('MR','Mr')\n",
    "ses23['Title'] = ses23['Title'].replace('PASTOR','Ps')\n",
    "ses23['Title'] = ses23['Title'].replace('MADAM ','Mrs')\n",
    "ses23['Title'] = ses23['Title'].replace('Elder ','Elder')\n",
    "ses23['Title'] = ses23['Title'].replace('Apt', 'Apostle')\n",
    "ses23['Title'] = ses23['Title'].replace('F','Mr')\n",
    "ses23['Title'] = ses23['Title'].replace('Asafo Maame','Mrs')\n",
    "ses23['Title'] = ses23['Title'].replace('Reverend ','Rev')\n",
    "ses23['Title'] = ses23['Title'].replace('Mr/Ms','Mr')\n",
    "ses23['Title'] = ses23['Title'].replace('P. Eld.','Presiding Elder')\n",
    "ses23['Title'] = ses23['Title'].replace('Evang','Evangelist')\n",
    "ses23['Title'] = ses23['Title'].replace('M & E','Mr')\n",
    "ses23['Title'] = ses23['Title'].replace('Bishop ','Bishop')\n",
    "ses23['Title'] = ses23['Title'].replace('Deacon ','Deacon')\n",
    "ses23['Title'] = ses23['Title'].replace('mrs','Mrs')\n",
    "ses23['Title'] = ses23['Title'].replace('Daniel','Mr')\n",
    "ses23['Title'] = ses23['Title'].replace('MISS','Miss')\n",
    "ses23['Title'] = ses23['Title'].replace('Mrs  ','Mrs')\n",
    "ses23['Title'] = ses23['Title'].replace('Mes','Mrs')\n",
    "ses23['Title'] = ses23['Title'].replace('Mt','Mr')\n",
    "ses23['Title'] = ses23['Title'].replace('Min','Mr')\n",
    "ses23['Title'] = ses23['Title'].replace('Madame ','Mrs')\n",
    "ses23['Title'] = ses23['Title'].replace('Mr..','Mr')\n",
    "ses23['Title'] = ses23['Title'].replace('Pst','Ps')\n",
    "ses23['Title'] = ses23['Title'].replace('Mre','Mrs')\n",
    "ses23['Title'] = ses23['Title'].replace('Mr/Miss','Mr')\n",
    "ses23['Title'] = ses23['Title'].replace('PS','Ps')\n",
    "ses23['Title'] = ses23['Title'].replace('Apst','Apostle')\n",
    "ses23['Title'] = ses23['Title'].replace('MRS ','Mrs')\n",
    "ses23['Title'] = ses23['Title'].replace('PS ','Ps')\n",
    "ses23['Title'] = ses23['Title'].replace('Mad','Mrs')\n",
    "ses23['Title'] = ses23['Title'].replace('Deaconnes','Deaconess')\n",
    "ses23['Title'] = ses23['Title'].replace('Eld','Elder')\n",
    "ses23['Title'] = ses23['Title'].replace('Overseer','Ps')\n",
    "ses23['Title'] = ses23['Title'].replace('Brother ','Mr')\n",
    "ses23['Title'] = ses23['Title'].replace('Mme','Mrs')\n",
    "ses23['Title'] = ses23['Title'].replace('Evan','Evangelist')\n",
    "ses23['Title'] = ses23['Title'].replace('Pat ','Ps')\n",
    "ses23['Title'] = ses23['Title'].replace('Master','Mr')\n",
    "ses23['Title'] = ses23['Title'].replace('Ps ','Ps')\n",
    "ses23['Title'] = ses23['Title'].replace('Prb','Prophet')\n",
    "ses23['Title'] = ses23['Title'].replace('Prb ','Prophet')\n",
    "ses23['Title'] = ses23['Title'].replace('Madam Awortwe','Mrs')\n",
    "ses23['Title'] = ses23['Title'].replace('Doctor ','Dr')\n",
    "ses23['Title'] = ses23['Title'].replace('M','Mr')\n",
    "ses23['Title'] = ses23['Title'].replace('MR','Mr')\n",
    "ses23['Title'] = ses23['Title'].replace('mr','Mr')\n",
    "ses23['Title'] = ses23['Title'].replace('MS','Miss')\n",
    "ses23['Title'] = ses23['Title'].replace('BISHOP','Bishop')\n",
    "ses23['Title'] = ses23['Title'].replace('PROPHET','Prophet')\n",
    "ses23['Title'] = ses23['Title'].replace('M & E ','Mr')\n",
    "ses23['Title'] = ses23['Title'].replace('Djicopitro','Mr')\n",
    "ses23['Title'] = ses23['Title'].replace('MR ','Mr')\n",
    "ses23['Title'] = ses23['Title'].replace('Rev.','Rev')\n",
    "ses23['Title'] = ses23['Title'].replace('Minister','Mr')\n",
    "ses23['Title'] = ses23['Title'].replace('Rev. Dr','Rev')\n",
    "ses23['Title'] = ses23['Title'].replace('Rev. Prophet' ,'Prophet')"
   ]
  },
  {
   "cell_type": "code",
   "execution_count": 15,
   "id": "87daafc9",
   "metadata": {},
   "outputs": [
    {
     "name": "stdout",
     "output_type": "stream",
     "text": [
      "These are the unique titles in this dataset: \n"
     ]
    },
    {
     "data": {
      "text/plain": [
       "array(['Mr', 'Rev', 'Ps', 'Elder Mrs', 'Mrs', 'Miss', 'Dr', 'Apostle',\n",
       "       'Cell leader', 'Deacon', 'Elder', 'Hon', 'Bishop', 'Deaconess',\n",
       "       'Prophet', 'Evangelist', 'Presiding Elder', 'Prof'], dtype=object)"
      ]
     },
     "execution_count": 15,
     "metadata": {},
     "output_type": "execute_result"
    }
   ],
   "source": [
    "ses23['Title'].unique()"
   ]
  },
  {
   "cell_type": "code",
   "execution_count": 18,
   "id": "1a6872bb",
   "metadata": {},
   "outputs": [
    {
     "name": "stdout",
     "output_type": "stream",
     "text": [
      "These are the unique titles and their count in this dataset: \n"
     ]
    },
    {
     "data": {
      "text/plain": [
       "Mr                 1466\n",
       "Mrs                 973\n",
       "Miss                600\n",
       "Ps                  232\n",
       "Rev                 200\n",
       "Apostle              31\n",
       "Elder                23\n",
       "Evangelist           13\n",
       "Deaconess            11\n",
       "Bishop               10\n",
       "Prophet              10\n",
       "Deacon               10\n",
       "Dr                   10\n",
       "Hon                   2\n",
       "Cell leader           2\n",
       "Presiding Elder       2\n",
       "Prof                  2\n",
       "Elder Mrs             1\n",
       "Name: Title, dtype: int64"
      ]
     },
     "execution_count": 18,
     "metadata": {},
     "output_type": "execute_result"
    }
   ],
   "source": [
    "print(\"These are the unique titles and their count in this dataset: \")\n",
    "\n",
    "ses23['Title'].value_counts()"
   ]
  },
  {
   "cell_type": "code",
   "execution_count": 35,
   "id": "90d35446",
   "metadata": {},
   "outputs": [
    {
     "data": {
      "image/png": "[encoded data removed]",
      "text/plain": [
       "<Figure size 640x480 with 1 Axes>"
      ]
     },
     "metadata": {},
     "output_type": "display_data"
    }
   ],
   "source": [
    "Total_title = ses23['Title'].value_counts()\n",
    "\n",
    "# Sort in descending order\n",
    "Total_title  = Total_title .sort_values(ascending=True)\n",
    "\n",
    "# Set up the figure and axes\n",
    "fig, ax = plt.subplots()\n",
    "\n",
    "# Create a bar plot\n",
    "ax.bar(Total_title .index, Total_title.values)\n",
    "\n",
    "# Customize the plot\n",
    "ax.set_title('TOTAL NUMBER OF TITLE THAT CAME FOR THE SES 2023')\n",
    "ax.set_xlabel('Title')\n",
    "ax.set_ylabel('Count')\n",
    "\n",
    "# Rotate x-axis labels if needed\n",
    "plt.xticks(rotation=90)\n",
    "\n",
    "# Display the plot\n",
    "plt.show()"
   ]
  },
  {
   "cell_type": "code",
   "execution_count": 40,
   "id": "4f15b48e",
   "metadata": {},
   "outputs": [
    {
     "data": {
      "text/plain": [
       "array(['Ghana', 'Togo', 'Nigeria', 'Gabon', 'Netherlands', 'Chad',\n",
       "       'Benin', 'Congo', 'France', 'United Kingdom', 'Senegal',\n",
       "       'Cameroon', 'Guinea', 'Côté d’Ivoire', 'Holland', 'Niger',\n",
       "       'Central African Republic', 'Burkina Faso', 'Switzerland',\n",
       "       'Sierra Leone', 'Democratic Republic of Congo', 'South Africa',\n",
       "       'Zambia', 'Mali', 'Belgique', 'United States of America'],\n",
       "      dtype=object)"
      ]
     },
     "execution_count": 40,
     "metadata": {},
     "output_type": "execute_result"
    }
   ],
   "source": [
    "ses23['Country'].unique()"
   ]
  },
  {
   "cell_type": "code",
   "execution_count": 41,
   "id": "30a3e592",
   "metadata": {},
   "outputs": [],
   "source": [
    "ses23['Country'] = ses23['Country'].replace('GHANA','Ghana')\n",
    "ses23['Country'] = ses23['Country'].replace('Ghana ','Ghana')\n",
    "ses23['Country'] = ses23['Country'].replace('Netherlands ','Netherlands')\n",
    "ses23['Country'] = ses23['Country'].replace('Tchad ','Chad')\n",
    "ses23['Country'] = ses23['Country'].replace('Tchad','Chad')\n",
    "ses23['Country'] = ses23['Country'].replace('Ghaba','Ghana')\n",
    "ses23['Country'] = ses23['Country'].replace('GHANA ','Ghana')\n",
    "ses23['Country'] = ses23['Country'].replace('Ghans','Ghana')\n",
    "ses23['Country'] = ses23['Country'].replace('Nigeria ','Nigeria')\n",
    "ses23['Country'] = ses23['Country'].replace('United Kingdom ','United Kingdom')\n",
    "ses23['Country'] = ses23['Country'].replace('Togo ','Togo')\n",
    "ses23['Country'] = ses23['Country'].replace('Cameroon ','Cameroon')\n",
    "ses23['Country'] = ses23['Country'].replace('Ghanaian ','Ghana')\n",
    "ses23['Country'] = ses23['Country'].replace('Congo ','Congo')\n",
    "ses23['Country'] = ses23['Country'].replace('Gabon ','Gabon')\n",
    "ses23['Country'] = ses23['Country'].replace('Benin ','Benin')\n",
    "ses23['Country'] = ses23['Country'].replace('Ivory coast','Côté d’Ivoire')\n",
    "ses23['Country'] = ses23['Country'].replace('Lvory coast ','Côté d’Ivoire')\n",
    "ses23['Country'] = ses23['Country'].replace('Coast Ivory','Côté d’Ivoire')\n",
    "ses23['Country'] = ses23['Country'].replace(\"Cote D'Ivoire \",'Côté d’Ivoire')\n",
    "ses23['Country'] = ses23['Country'].replace('C I','Côté d’Ivoire')\n",
    "ses23['Country'] = ses23['Country'].replace('Cote divoire','Côté d’Ivoire')\n",
    "ses23['Country'] = ses23['Country'].replace('CAR','Central African Republic')\n",
    "ses23['Country'] = ses23['Country'].replace('Ivory Coast ','Côté d’Ivoire')\n",
    "ses23['Country'] = ses23['Country'].replace('Cole divore ','Côté d’Ivoire')\n",
    "ses23['Country'] = ses23['Country'].replace('Gabon/Ghana','Gabon')\n",
    "ses23['Country'] = ses23['Country'].replace('R.D.C','Democratic Republic of Congo')\n",
    "ses23['Country'] = ses23['Country'].replace(\"Cote D'Ivorie\",'Côté d’Ivoire')\n",
    "ses23['Country'] = ses23['Country'].replace('Ghana/US','Ghana')\n",
    "ses23['Country'] = ses23['Country'].replace('South Africa ','South Africa')\n",
    "ses23['Country'] = ses23['Country'].replace('lawsoneleanor920@gmail.com','Ghana')\n",
    "ses23['Country'] = ses23['Country'].replace('Cote D’Ivoire','Côté d’Ivoire')\n",
    "ses23['Country'] = ses23['Country'].replace('Cote D’Ivoire ','Côté d’Ivoire')\n",
    "ses23['Country'] = ses23['Country'].replace('C.A.R','Central African Republic')\n",
    "ses23['Country'] = ses23['Country'].replace('darkohilda@gmail.com','Ghana')\n",
    "ses23['Country'] = ses23['Country'].replace(\"Cóte D'voire\",'Côté d’Ivoire')\n",
    "ses23['Country'] = ses23['Country'].replace('Cote d ivai','Côté d’Ivoire')\n",
    "ses23['Country'] = ses23['Country'].replace('Ivory Coast','Côté d’Ivoire')\n",
    "ses23['Country'] = ses23['Country'].replace('T Chad','Chad')\n",
    "ses23['Country'] = ses23['Country'].replace('UK','United Kingdom')\n",
    "ses23['Country'] = ses23['Country'].replace('C. A. R','Central African Republic')\n",
    "ses23['Country'] = ses23['Country'].replace('C.I','Côté d’Ivoire')\n",
    "ses23['Country'] = ses23['Country'].replace('Cote D’Ivore','Côté d’Ivoire')\n",
    "ses23['Country'] = ses23['Country'].replace('Preciouskaledzi77@gmail.com','Ghana')\n",
    "ses23['Country'] = ses23['Country'].replace('Ghanan','Ghana')\n",
    "ses23['Country'] = ses23['Country'].replace('C.A.R ','Central African Republic')\n",
    "ses23['Country'] = ses23['Country'].replace('Central African Republic ','Central African Republic')\n",
    "ses23['Country'] = ses23['Country'].replace(\"Cote d' ivior\",'Côté d’Ivoire')\n",
    "ses23['Country'] = ses23['Country'].replace('CMR','Cameroon')\n",
    "ses23['Country'] = ses23['Country'].replace('USA','United States of America')\n",
    "ses23['Country'] = ses23['Country'].replace('CONGO','Congo')\n",
    "ses23['Country'] = ses23['Country'].replace('GABON','Gabon')\n",
    "ses23['Country'] = ses23['Country'].replace('CHAD','Chad')\n",
    "ses23['Country'] = ses23['Country'].replace('SENEGAL','Senegal')\n",
    "ses23['Country'] = ses23['Country'].replace('COTE DIVOIRE','Côté d’Ivoire')\n",
    "ses23['Country'] = ses23['Country'].replace('BURKINA FASO','Burkina Faso')\n",
    "ses23['Country'] = ses23['Country'].replace('SOUTH AFRICA','South Africa')\n",
    "ses23['Country'] = ses23['Country'].replace('ghana','Ghana')\n",
    "ses23['Country'] = ses23['Country'].replace('Guana','Ghana')\n",
    "ses23['Country'] = ses23['Country'].replace(\"Cote D'Ivoire\",'Côté d’Ivoire')\n",
    "ses23['Country'] = ses23['Country'].replace(\"Cote d'Ivoire \",'Côté d’Ivoire')\n",
    "ses23['Country'] = ses23['Country'].replace('Abijan','Côté d’Ivoire')\n",
    "ses23['Country'] = ses23['Country'].replace('RCI','Côté d’Ivoire')\n",
    "ses23['Country'] = ses23['Country'].replace('RCI ','Côté d’Ivoire')\n",
    "ses23['Country'] = ses23['Country'].replace('Swiss','Switzerland')\n",
    "ses23['Country'] = ses23['Country'].replace('CHC','Ghana')"
   ]
  },
  {
   "cell_type": "code",
   "execution_count": 42,
   "id": "918464bb",
   "metadata": {},
   "outputs": [
    {
     "data": {
      "text/plain": [
       "array(['Ghana', 'Togo', 'Nigeria', 'Gabon', 'Netherlands', 'Chad',\n",
       "       'Benin', 'Congo', 'France', 'United Kingdom', 'Senegal',\n",
       "       'Cameroon', 'Guinea', 'Côté d’Ivoire', 'Holland', 'Niger',\n",
       "       'Central African Republic', 'Burkina Faso', 'Switzerland',\n",
       "       'Sierra Leone', 'Democratic Republic of Congo', 'South Africa',\n",
       "       'Zambia', 'Mali', 'Belgique', 'United States of America'],\n",
       "      dtype=object)"
      ]
     },
     "execution_count": 42,
     "metadata": {},
     "output_type": "execute_result"
    }
   ],
   "source": [
    "ses23['Country'].unique()"
   ]
  },
  {
   "cell_type": "code",
   "execution_count": 43,
   "id": "a3136a45",
   "metadata": {},
   "outputs": [
    {
     "data": {
      "text/plain": [
       "Ghana                           3294\n",
       "Côté d’Ivoire                     75\n",
       "Congo                             54\n",
       "Gabon                             49\n",
       "Benin                             35\n",
       "Togo                              20\n",
       "Nigeria                           13\n",
       "Chad                              10\n",
       "Central African Republic           7\n",
       "Cameroon                           7\n",
       "Senegal                            5\n",
       "South Africa                       5\n",
       "France                             4\n",
       "United Kingdom                     3\n",
       "Burkina Faso                       3\n",
       "Guinea                             2\n",
       "Mali                               2\n",
       "Sierra Leone                       2\n",
       "Belgique                           1\n",
       "Zambia                             1\n",
       "Holland                            1\n",
       "Democratic Republic of Congo       1\n",
       "Switzerland                        1\n",
       "Niger                              1\n",
       "Netherlands                        1\n",
       "United States of America           1\n",
       "Name: Country, dtype: int64"
      ]
     },
     "execution_count": 43,
     "metadata": {},
     "output_type": "execute_result"
    }
   ],
   "source": [
    "ses23['Country'].value_counts()"
   ]
  },
  {
   "cell_type": "code",
   "execution_count": 46,
   "id": "bbce5850",
   "metadata": {},
   "outputs": [
    {
     "data": {
      "text/plain": [
       "array([nan, 'Cleric (Pastors, Reverends etc)', 'Business Owners',\n",
       "       'Students', 'White collar (those with office jobs)',\n",
       "       'Civil servant (police, immigration, etc)',\n",
       "       'Blue collar (those into construction, painting, plumbing etc)',\n",
       "       'Educationists (e.g. teachers, lecturers )'], dtype=object)"
      ]
     },
     "execution_count": 46,
     "metadata": {},
     "output_type": "execute_result"
    }
   ],
   "source": [
    "ses23['Occupation'].unique()"
   ]
  },
  {
   "cell_type": "code",
   "execution_count": 47,
   "id": "d45548c6",
   "metadata": {},
   "outputs": [
    {
     "data": {
      "text/plain": [
       "Cleric (Pastors, Reverends etc)                                  98\n",
       "White collar (those with office jobs)                            72\n",
       "Students                                                         18\n",
       "Business Owners                                                   9\n",
       "Blue collar (those into construction, painting, plumbing etc)     9\n",
       "Civil servant (police, immigration, etc)                          2\n",
       "Educationists (e.g. teachers, lecturers )                         1\n",
       "Name: Occupation, dtype: int64"
      ]
     },
     "execution_count": 47,
     "metadata": {},
     "output_type": "execute_result"
    }
   ],
   "source": [
    "ses23['Occupation'].value_counts()"
   ]
  },
  {
   "cell_type": "code",
   "execution_count": null,
   "id": "51742e77",
   "metadata": {},
   "outputs": [],
   "source": []
  },
  {
   "cell_type": "code",
   "execution_count": null,
   "id": "92e4cb3a",
   "metadata": {},
   "outputs": [],
   "source": []
  },
  {
   "cell_type": "code",
   "execution_count": null,
   "id": "12341d9c",
   "metadata": {},
   "outputs": [],
   "source": []
  },
  {
   "cell_type": "code",
   "execution_count": null,
   "id": "5fd6a598",
   "metadata": {},
   "outputs": [],
   "source": []
  }
 ],
 "metadata": {
  "kernelspec": {
   "display_name": "Python 3 (ipykernel)",
   "language": "python",
   "name": "python3"
  },
  "language_info": {
   "codemirror_mode": {
    "name": "ipython",
    "version": 3
   },
   "file_extension": ".py",
   "mimetype": "text/x-python",
   "name": "python",
   "nbconvert_exporter": "python",
   "pygments_lexer": "ipython3",
   "version": "3.11.1"
  }
 },
 "nbformat": 4,
 "nbformat_minor": 5
}
