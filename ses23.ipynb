{
 "cells": [
  {
   "cell_type": "markdown",
   "id": "d6f4c93f",
   "metadata": {},
   "source": [
    "## <center>SUPERNATURAL EMPOWERMENT SUMMIT,2023 </center>"
   ]
  },
  {
   "cell_type": "markdown",
   "id": "7d5bede5",
   "metadata": {},
   "source": [
    "##### IMPORT PACKAGES"
   ]
  },
  {
   "cell_type": "code",
   "execution_count": 8,
   "id": "4b650685",
   "metadata": {},
   "outputs": [],
   "source": [
    "import numpy as np\n",
    "import pandas as pd\n",
    "import seaborn as sns\n",
    "import plotly.express as px\n",
    "import matplotlib.pyplot as plt\n",
    "import warnings\n",
    "warnings.filterwarnings('always') "
   ]
  },
  {
   "cell_type": "markdown",
   "id": "4f133037",
   "metadata": {},
   "source": [
    "##### LOAD AND DISPLAY DATASET"
   ]
  },
  {
   "cell_type": "code",
   "execution_count": 10,
   "id": "8ee1cdea",
   "metadata": {},
   "outputs": [
    {
     "data": {
      "text/html": [
       "<div>\n",
       "<style scoped>\n",
       "    .dataframe tbody tr th:only-of-type {\n",
       "        vertical-align: middle;\n",
       "    }\n",
       "\n",
       "    .dataframe tbody tr th {\n",
       "        vertical-align: top;\n",
       "    }\n",
       "\n",
       "    .dataframe thead th {\n",
       "        text-align: right;\n",
       "    }\n",
       "</style>\n",
       "<table border=\"1\" class=\"dataframe\">\n",
       "  <thead>\n",
       "    <tr style=\"text-align: right;\">\n",
       "      <th></th>\n",
       "      <th>Timestamp</th>\n",
       "      <th>Title</th>\n",
       "      <th>First Name</th>\n",
       "      <th>Last Name</th>\n",
       "      <th>Mobile Number</th>\n",
       "      <th>WhatsApp Number</th>\n",
       "      <th>Email Address</th>\n",
       "      <th>Country</th>\n",
       "      <th>Occupation</th>\n",
       "      <th>Name of Church</th>\n",
       "    </tr>\n",
       "  </thead>\n",
       "  <tbody>\n",
       "    <tr>\n",
       "      <th>0</th>\n",
       "      <td>2023/05/22 7:06:16 PM GMT</td>\n",
       "      <td>Mr</td>\n",
       "      <td>Evans</td>\n",
       "      <td>Coffie</td>\n",
       "      <td>0249884472</td>\n",
       "      <td>0249884472</td>\n",
       "      <td>NaN</td>\n",
       "      <td>Ghana</td>\n",
       "      <td>NaN</td>\n",
       "      <td>Teminar</td>\n",
       "    </tr>\n",
       "    <tr>\n",
       "      <th>1</th>\n",
       "      <td>2023/05/22 7:07:14 PM GMT</td>\n",
       "      <td>Mr</td>\n",
       "      <td>Noble</td>\n",
       "      <td>King</td>\n",
       "      <td>0240219533</td>\n",
       "      <td>0240219533</td>\n",
       "      <td>NaN</td>\n",
       "      <td>Ghana</td>\n",
       "      <td>NaN</td>\n",
       "      <td>Perez Chapel</td>\n",
       "    </tr>\n",
       "    <tr>\n",
       "      <th>2</th>\n",
       "      <td>2023/05/22 7:07:20 PM GMT</td>\n",
       "      <td>Mr</td>\n",
       "      <td>Appiedu</td>\n",
       "      <td>Owusu Acheampong</td>\n",
       "      <td>0244450039</td>\n",
       "      <td>0244450039</td>\n",
       "      <td>appiedu.acheampong@gmail.com</td>\n",
       "      <td>Ghana</td>\n",
       "      <td>NaN</td>\n",
       "      <td>Perz Chapel</td>\n",
       "    </tr>\n",
       "    <tr>\n",
       "      <th>3</th>\n",
       "      <td>2023/05/22 7:08:43 PM GMT</td>\n",
       "      <td>Rev</td>\n",
       "      <td>Albert</td>\n",
       "      <td>T Kamara</td>\n",
       "      <td>0243801382</td>\n",
       "      <td>0243801382</td>\n",
       "      <td>NaN</td>\n",
       "      <td>Ghana</td>\n",
       "      <td>NaN</td>\n",
       "      <td>Perez Chapel</td>\n",
       "    </tr>\n",
       "    <tr>\n",
       "      <th>4</th>\n",
       "      <td>2023/05/22 7:08:43 PM GMT</td>\n",
       "      <td>Rev.</td>\n",
       "      <td>David K.</td>\n",
       "      <td>Smith</td>\n",
       "      <td>0245127629</td>\n",
       "      <td>0245127629</td>\n",
       "      <td>rev.davidkwesismith@yahoo.com</td>\n",
       "      <td>Ghana</td>\n",
       "      <td>Cleric (Pastors, Reverends etc)</td>\n",
       "      <td>C.Y.N</td>\n",
       "    </tr>\n",
       "  </tbody>\n",
       "</table>\n",
       "</div>"
      ],
      "text/plain": [
       "                   Timestamp Title First Name         Last Name Mobile Number  \\\n",
       "0  2023/05/22 7:06:16 PM GMT    Mr      Evans            Coffie    0249884472   \n",
       "1  2023/05/22 7:07:14 PM GMT    Mr      Noble              King    0240219533   \n",
       "2  2023/05/22 7:07:20 PM GMT    Mr    Appiedu  Owusu Acheampong    0244450039   \n",
       "3  2023/05/22 7:08:43 PM GMT  Rev      Albert          T Kamara    0243801382   \n",
       "4  2023/05/22 7:08:43 PM GMT  Rev.   David K.             Smith    0245127629   \n",
       "\n",
       "  WhatsApp Number                  Email Address Country  \\\n",
       "0      0249884472                            NaN   Ghana   \n",
       "1      0240219533                            NaN   Ghana   \n",
       "2      0244450039   appiedu.acheampong@gmail.com   Ghana   \n",
       "3      0243801382                            NaN   Ghana   \n",
       "4      0245127629  rev.davidkwesismith@yahoo.com   Ghana   \n",
       "\n",
       "                        Occupation Name of Church  \n",
       "0                              NaN        Teminar  \n",
       "1                              NaN   Perez Chapel  \n",
       "2                              NaN    Perz Chapel  \n",
       "3                              NaN   Perez Chapel  \n",
       "4  Cleric (Pastors, Reverends etc)          C.Y.N  "
      ]
     },
     "execution_count": 10,
     "metadata": {},
     "output_type": "execute_result"
    }
   ],
   "source": [
    "ses23 = pd.read_csv(\"SES '23.csv\")\n",
    "ses23.head()"
   ]
  },
  {
   "cell_type": "markdown",
   "id": "97052805",
   "metadata": {},
   "source": [
    "##### GENERAL OVERVIEW OF THE DATASET."
   ]
  },
  {
   "cell_type": "markdown",
   "id": "fe39e6c2",
   "metadata": {},
   "source": [
    "##### CHECK THE SHAPE OF THE DATASET."
   ]
  },
  {
   "cell_type": "code",
   "execution_count": 11,
   "id": "eaaad36f",
   "metadata": {},
   "outputs": [
    {
     "name": "stdout",
     "output_type": "stream",
     "text": [
      "Shape of the dataset: (3598, 10)\n"
     ]
    }
   ],
   "source": [
    "print(\"Shape of the dataset:\", ses23.shape)"
   ]
  },
  {
   "cell_type": "markdown",
   "id": "2dc8870c",
   "metadata": {},
   "source": [
    "##### DISPLAY THE COLUMNS AND THEIR DATA TYPES"
   ]
  },
  {
   "cell_type": "code",
   "execution_count": 12,
   "id": "d52bb219",
   "metadata": {},
   "outputs": [
    {
     "name": "stdout",
     "output_type": "stream",
     "text": [
      "Columns and data types:\n",
      "Timestamp          object\n",
      "Title              object\n",
      "First Name         object\n",
      "Last Name          object\n",
      "Mobile Number      object\n",
      "WhatsApp Number    object\n",
      "Email Address      object\n",
      "Country            object\n",
      "Occupation         object\n",
      "Name of Church     object\n",
      "dtype: object\n"
     ]
    }
   ],
   "source": [
    "print(\"Columns and data types:\")\n",
    "print(ses23.dtypes)"
   ]
  },
  {
   "cell_type": "markdown",
   "id": "98ae5b07",
   "metadata": {},
   "source": [
    "##### GENERAL INFO OF THE DATASET"
   ]
  },
  {
   "cell_type": "code",
   "execution_count": 13,
   "id": "a328a6f4",
   "metadata": {},
   "outputs": [
    {
     "name": "stdout",
     "output_type": "stream",
     "text": [
      "<class 'pandas.core.frame.DataFrame'>\n",
      "RangeIndex: 3598 entries, 0 to 3597\n",
      "Data columns (total 10 columns):\n",
      " #   Column           Non-Null Count  Dtype \n",
      "---  ------           --------------  ----- \n",
      " 0   Timestamp        3598 non-null   object\n",
      " 1   Title            3598 non-null   object\n",
      " 2   First Name       3598 non-null   object\n",
      " 3   Last Name        3598 non-null   object\n",
      " 4   Mobile Number    3598 non-null   object\n",
      " 5   WhatsApp Number  883 non-null    object\n",
      " 6   Email Address    1467 non-null   object\n",
      " 7   Country          3598 non-null   object\n",
      " 8   Occupation       209 non-null    object\n",
      " 9   Name of Church   3188 non-null   object\n",
      "dtypes: object(10)\n",
      "memory usage: 281.2+ KB\n"
     ]
    }
   ],
   "source": [
    "ses23.info()"
   ]
  },
  {
   "cell_type": "markdown",
   "id": "c43c5a91",
   "metadata": {},
   "source": [
    "##### CHECK FOR MISSING VALUES."
   ]
  },
  {
   "cell_type": "code",
   "execution_count": 14,
   "id": "4f13f437",
   "metadata": {},
   "outputs": [
    {
     "name": "stdout",
     "output_type": "stream",
     "text": [
      "Count of missing values per column:\n",
      "Timestamp             0\n",
      "Title                 0\n",
      "First Name            0\n",
      "Last Name             0\n",
      "Mobile Number         0\n",
      "WhatsApp Number    2715\n",
      "Email Address      2131\n",
      "Country               0\n",
      "Occupation         3389\n",
      "Name of Church      410\n",
      "dtype: int64\n"
     ]
    }
   ],
   "source": [
    "# Display the count of missing values per column\n",
    "print(\"Count of missing values per column:\")\n",
    "print(ses23.isnull().sum())"
   ]
  },
  {
   "cell_type": "markdown",
   "id": "6fdb1e04",
   "metadata": {},
   "source": [
    "##### DISPLAY THE HEATMAP FOR ALL MISSING VALUES."
   ]
  },
  {
   "cell_type": "code",
   "execution_count": 15,
   "id": "54f7f09f",
   "metadata": {},
   "outputs": [
    {
     "data": {
      "text/plain": [
       "<AxesSubplot: >"
      ]
     },
     "execution_count": 15,
     "metadata": {},
     "output_type": "execute_result"
    },
    {
     "data": {
      "image/png": "[encoded data removed]",
      "text/plain": [
       "<Figure size 640x480 with 2 Axes>"
      ]
     },
     "metadata": {},
     "output_type": "display_data"
    }
   ],
   "source": [
    "sns.heatmap(ses23.isnull())"
   ]
  },
  {
   "cell_type": "markdown",
   "id": "e8cf466c",
   "metadata": {},
   "source": [
    "##### Insights\n",
    "From the above statistics, it has been identified that there are some missing values in the <b>SUPERNATURAL EMPOWERMENT SUMMIT, 2023</b>, data set.\n",
    "\n",
    "Below are the statistics of the missing data:\n",
    "    \n",
    "- WhatsApp Number - 2715 missing values\n",
    "\n",
    "\n",
    "- Email Address   - 2131 missing values\n",
    "\n",
    "\n",
    "- Occupation      - 3389 missing values\n",
    "\n",
    "\n",
    "- Name of Church  - 410  missing values"
   ]
  },
  {
   "cell_type": "markdown",
   "id": "3adfcea2",
   "metadata": {},
   "source": [
    "##### DISPLAY TOTAL NUMBER OF MISSING VALUES."
   ]
  },
  {
   "cell_type": "code",
   "execution_count": 16,
   "id": "eb567b47",
   "metadata": {},
   "outputs": [
    {
     "name": "stdout",
     "output_type": "stream",
     "text": [
      "The total number of missing values in this dataset is 8645\n"
     ]
    }
   ],
   "source": [
    "Total_MV = ses23.isna().sum().sum()\n",
    "print('The total number of missing values in this dataset is', Total_MV)"
   ]
  },
  {
   "cell_type": "markdown",
   "id": "8bfc9f5e",
   "metadata": {},
   "source": [
    "##### CREATE A COPY OF THE ORIGINAL DATASET"
   ]
  },
  {
   "cell_type": "code",
   "execution_count": 17,
   "id": "71786b03",
   "metadata": {},
   "outputs": [],
   "source": [
    "ses23.copy = ses23.copy()"
   ]
  },
  {
   "cell_type": "markdown",
   "id": "f00a7242",
   "metadata": {},
   "source": [
    "##### DROP UNNECESSARY COLUMNS"
   ]
  },
  {
   "cell_type": "code",
   "execution_count": 18,
   "id": "59dc999e",
   "metadata": {},
   "outputs": [],
   "source": [
    "ses23.drop (columns=['Last Name','Mobile Number','WhatsApp Number','Email Address'], inplace = True)"
   ]
  },
  {
   "cell_type": "markdown",
   "id": "51fc56e5",
   "metadata": {},
   "source": [
    "##### DISPLAY VALUES IN THE OCCUPATION COLUMNS."
   ]
  },
  {
   "cell_type": "code",
   "execution_count": 19,
   "id": "e25354aa",
   "metadata": {},
   "outputs": [
    {
     "data": {
      "text/plain": [
       "array([nan, 'Cleric (Pastors, Reverends etc)', 'Business Owners',\n",
       "       'Students', 'White collar (those with office jobs)',\n",
       "       'Civil servant (police, immigration, etc)',\n",
       "       'Blue collar (those into construction, painting, plumbing etc)',\n",
       "       'Educationists (e.g. teachers, lecturers )'], dtype=object)"
      ]
     },
     "execution_count": 19,
     "metadata": {},
     "output_type": "execute_result"
    }
   ],
   "source": [
    "ses23['Occupation'].unique()"
   ]
  },
  {
   "cell_type": "markdown",
   "id": "53713060",
   "metadata": {},
   "source": [
    "##### RENAME THE VARIOUS OCCUPATION"
   ]
  },
  {
   "cell_type": "code",
   "execution_count": 20,
   "id": "9da1b1a3",
   "metadata": {},
   "outputs": [],
   "source": [
    "ses23['Occupation']=ses23['Occupation'].replace('Cleric (Pastors, Reverends etc)', 'Clergy')\n",
    "ses23['Occupation']=ses23['Occupation'].replace('White collar (those with office jobs)', 'Office Workers')\n",
    "ses23['Occupation']=ses23['Occupation'].replace('Civil servant (police, immigration, etc)', 'Civil Servants')\n",
    "ses23['Occupation']=ses23['Occupation'].replace('Blue collar (those into construction, painting, plumbing etc)', 'Artisans')\n",
    "ses23['Occupation']=ses23['Occupation'].replace('Educationists (e.g. teachers, lecturers )', 'Educationists')"
   ]
  },
  {
   "cell_type": "markdown",
   "id": "3a0e15ed",
   "metadata": {},
   "source": [
    "##### FILL NULL VALUES WITH CLERGY."
   ]
  },
  {
   "cell_type": "code",
   "execution_count": 21,
   "id": "2354bdb9",
   "metadata": {},
   "outputs": [
    {
     "data": {
      "text/plain": [
       "array(['Clergy', 'Business Owners', 'Students', 'Office Workers',\n",
       "       'Civil Servants', 'Artisans', 'Educationists'], dtype=object)"
      ]
     },
     "execution_count": 21,
     "metadata": {},
     "output_type": "execute_result"
    }
   ],
   "source": [
    "ses23['Occupation'].fillna('Clergy', inplace=True)\n",
    "ses23['Occupation'].unique()"
   ]
  },
  {
   "cell_type": "markdown",
   "id": "668216ee",
   "metadata": {},
   "source": [
    "##### DISPLAY THE NAME OF CHURCHES IN THIS DATASET."
   ]
  },
  {
   "cell_type": "code",
   "execution_count": 22,
   "id": "030067b3",
   "metadata": {},
   "outputs": [
    {
     "data": {
      "text/plain": [
       "array(['Teminar', 'Perez Chapel', 'Perz Chapel', 'C.Y.N',\n",
       "       'Perez Chapel, Lome', 'Peniel', 'PEREZ TRASAACO', 'GIPM',\n",
       "       'Perez Dome', 'Perez ', 'Perez Dome ', 'R.D',\n",
       "       'Living Hope Internetional', 'Perez', 'L.D.S', 'LGCG', 'PCI',\n",
       "       'Calvary Power', 'Dome', 'FOLP', 'C.O.P', 'GHARIS', 'Coin Int',\n",
       "       'PCM', 'TBC', 'AWG', 'Perez Aflao ', 'Cantoments', 'PCI Denu',\n",
       "       'Perez/French', nan, 'PCI ', 'Perez French ', 'Action Chapel',\n",
       "       'Christ Lunie du Nation', 'LGC', 'FMBU', 'MK', 'Royalhouse', 'WCI',\n",
       "       'KCIC', 'Fire family', 'Top Church International ', 'TAC',\n",
       "       'Ghana ', 'Fiqa', 'Pentecost', 'Perez Amanfro', 'Jesus Power',\n",
       "       'Anglican', 'KCM', 'VGM', 'HKOMI', '3R', 'Perez- zoeland ', 'EECA',\n",
       "       'ATOG', 'Havest', 'Posibilities', 'HJM', 'LIBC', 'Perez Zoeland ',\n",
       "       'Roman', 'Church of Christ', 'Rapha Centre', '-', 'Pci', 'ICGC',\n",
       "       'CSWC', 'MELN ', 'EFC', 'MELN', 'First Century', 'Deeper Life',\n",
       "       'TFGM', 'AWC', 'Harvest Trmple', 'Zoeland', 'PCi',\n",
       "       'Builders Christian church', 'UBCI', 'Brigade', 'KLM',\n",
       "       'Torchworld Ministries', 'Possibilities ', 'Assemblies of God',\n",
       "       'PCI-La', 'AIG', 'Light of life', 'Blessed', 'MDRC',\n",
       "       'Perez Chapel ', 'QFC', 'Kiwgiv', 'PCI Zoe', 'Foursquare',\n",
       "       'Fours quare', 'Perez Zealand', 'First fruit', 'Shiloh Outreach ',\n",
       "       'CEE', 'Church of God', 'CPI', 'CPU', 'A.G.A', 'C.K.P.C', 'PRC',\n",
       "       'PCI Dome', 'All Nations', 'GDC', 'SFCI', 'Kabowd', 'P C I',\n",
       "       'Dome-Above Chapel ', 'Methodist', 'C C I', 'Church Of God',\n",
       "       'PCI Hq', 'WCCI', 'Perez Takoradi', 'PCI FRENCH', 'C A M',\n",
       "       'Christ Glorious', 'PCI DOME', 'D C I', 'EP Church', 'Pci Nkwanta',\n",
       "       'AD', 'TFCCI', 'EMMA', 'RHCI', 'TWI', 'WGM', 'Mallam', 'Kim',\n",
       "       'Ephrata', 'Jesu est la solute', 'TCI', 'Nsuta Nkwakaw',\n",
       "       'Nations Chapel', 'Perez/Amsterdam', 'GVL', 'Perez/Dome', 'KICC',\n",
       "       'MPV', 'Zoeland ', 'Dome ', 'MDG', 'EPE', 'DLC', 'Pci/ French',\n",
       "       'PCI French', 'CCI', 'DCM', 'POWI', 'DCA',\n",
       "       'Blessing Arista center ', 'TCCG', 'P.O.E.C', 'GEC ', 'ICC',\n",
       "       'Perez Campus Ministry', 'CLM', 'Perez Campus Ministry ', 'GEC',\n",
       "       'Jesus power church ', 'Jesus power church', 'ROGHC', 'Pci ',\n",
       "       'MEVAA', 'COP', 'Solution of Christ Ministry', 'Ebenezer',\n",
       "       'Global', 'Gasem ', 'PCI-Dome', 'Ebenezer ', 'EPD', 'Perez DOme',\n",
       "       'Spirit of life', 'AG', 'PCI-Zoeland', 'C.I.C', 'Methodist ',\n",
       "       'CCC', 'PCI-Atomic', 'Royal Fortress Ministry', 'HGACI',\n",
       "       \"For Christ's Sake Ministry\", 'Klm', 'Faith Word Prayer', 'EPNB',\n",
       "       'HIM', 'A.G', 'Awesome Grace Network', 'GRM', 'Perez/French ',\n",
       "       'PCI-Tesano', 'Zoe', 'SOLCI', 'C.A. Min. Int', 'Perez/ French',\n",
       "       'Perez French SCE', 'PCI-Odorkor', 'Perez/ Frecnch',\n",
       "       'Perez French', 'Pottes City', 'Perez/ Dome', 'T.C.R.C',\n",
       "       'Christ Love Evan', 'JPC', 'Springs of Life ', 'Generations',\n",
       "       'Springs of life', 'Krokobite branch', 'VCC', 'Dome French ',\n",
       "       'Harvest Chapel ', 'Christian Love', 'I.C.G.C', 'Perez Zoe', 'MCI',\n",
       "       'EGIN', 'PENSA', 'CEM', 'Dominion', 'LPMI', 'PCI - Zoeland ',\n",
       "       'Ghana', 'Assemblies of God ', 'Sheepgate', 'TFHC',\n",
       "       'Christian Light Gos.', 'Kabauel', 'M.E.V.c', 'PCI H.T',\n",
       "       'Mischout', 'Calvary Methodist ', 'Pentecost ', 'PCG',\n",
       "       'Royals Chapel ', 'Espire vic', 'The Royal Church ',\n",
       "       'Yopougon church ', 'MAPR', 'Perez chapel ', 'UPRR', 'TABI',\n",
       "       'CLFC', 'Mercy 63', 'Resurrection Power International ',\n",
       "       'MERCI 55', 'Perez K.K.', 'Perez H.Q', 'ECDV', 'Truth',\n",
       "       'True Christian Life Ministry ', 'Assembles of God', 'Abiding ',\n",
       "       'Bread of Life', 'Action Chapel International ', 'MMVC',\n",
       "       'Prayer Sub', 'CLF', 'WWWM', 'P.C.T', 'God church ',\n",
       "       'Prevailing House of Prayer',\n",
       "       'Perez chapel international -Odorkor', 'Presby',\n",
       "       'Perez Chapel international ', 'Church of Pentecost ', 'Preze',\n",
       "       'T/N branch', 'Victory Bible Church', 'P.C.I', 'NCCS',\n",
       "       'Shiloh Temple - Dawhenya Branch ', 'PLI', 'G.E.M.I', 'EWC',\n",
       "       'F.G.C', 'Victory Bible church ', 'PSAM', 'Light house ',\n",
       "       'Gate of life church ', 'LCSAG', 'Fire Camp Universal Mission',\n",
       "       'CK. Global', 'GLIC', 'Perez Chapel International ',\n",
       "       'Gate of Life Church', 'Refirm', 'LAPSE', 'PC1', 'LNC', 'F.G.M.I ',\n",
       "       'JFC', 'La-okacect', 'R.P', 'Springs of Life Chapel ',\n",
       "       'Perfecting Faith ', 'Apostolic', 'Presby ', 'PCL', 'IGG', 'PIC',\n",
       "       'LCI', 'Abokobi', 'Abokobi ', 'Possibilities', 'BCI', 'LAN',\n",
       "       'Perez Chapel Information ', 'P.O.P', 'FIG ministry',\n",
       "       'Spring of Life', 'FIG', 'Higher lifeCC', 'PCCI', 'Dowi', 'WF ',\n",
       "       'PEREZ', 'PXI', 'PCIF', 'cac', 'J.P.M.I', 'Lighthouse ', 'Refem',\n",
       "       'CEC', 'Victory bible church', 'Jesus Salvation', 'PPVP3',\n",
       "       'Winners ', 'Zion mission outreach ', 'Word of Testimony ',\n",
       "       'Light house', 'RCC', 'Rep. Ministry ',\n",
       "       'Convenant Revelation Ministry ', 'Zion Mission Outreach', 'GPLE',\n",
       "       'POP', 'Destiny Revival Ministries ', 'Winners Chapel ',\n",
       "       'Catholic ', 'GNBC', 'GHC', 'GCC', 'ILFM', 'Radiant Place', 'Jaic',\n",
       "       'Winners Chapel', 'CMC', 'Perez  Chapel', 'PCI-Ofankor ',\n",
       "       'FOIGVIE', 'IG', 'WCRM', 'GGM', 'Perez (Spintex)', 'Revail',\n",
       "       'GEMI', 'ALG', 'Favour Ministry', 'Shallom Chapel',\n",
       "       'Resurrection Temple', 'Glory Embarry ', 'Assembles Of God',\n",
       "       'Grace Mountain', 'Gospel Light', 'Living Bread', 'NCM',\n",
       "       'Presbyterian Kasoa', 'K.O.C', 'WPNL', 'Perez Spintex', 'Scoan ',\n",
       "       'C.A.M.T', 'Perez Pokuase', 'Perez Madina', 'Aphongman',\n",
       "       'Perez Odorkor', 'Perez. Adenta', 'Zoe Temple', 'Keep gate',\n",
       "       'Elolim Proaouce', 'CEMI', 'CEMI ', 'LHC', 'PCI (East Legon)',\n",
       "       'Covenant Revelation Ministry', 'G.P.L.E', 'Success Academy ',\n",
       "       'CND', 'LTV', 'JWC', 'CNI ', 'Triumph A/G', 'TOP ministry',\n",
       "       'Not well written ', 'Not Written', 'Vbci ', 'Light House', 'ACI',\n",
       "       'Catholic', 'CVI', 'Deserti', 'CAC', 'DRM', 'GVM', 'RCIM',\n",
       "       'Possibilities Chapel', 'Possibilities Chapel ',\n",
       "       'Church of Missions International ', 'Zion Citadel',\n",
       "       'Church of Pentecost', 'Watchword Chapel', 'Possibility chapel',\n",
       "       'Gospel Outreach', 'Transforming life', 'Evergreen Harvest',\n",
       "       '1st Baptist Church', 'Christ Heavenly', 'Joyful life Church',\n",
       "       'Word Of Faith', 'C.D.C', 'Possibilities Church',\n",
       "       'Church on Missions', 'Church on Mission', 'Comi.Int',\n",
       "       'Comi International ', 'RHIC', 'SBJM', 'E.F.C', 'OLHC', 'AGCM',\n",
       "       'Reves ', 'Com International ', 'PCMVCC', 'Discovering Ministry ',\n",
       "       'PCM-KNUST', 'PCM - KNUST', 'PCM -KNUST', 'Life Cathederal', 'PC',\n",
       "       'UCC', 'Charis', 'Jesus Life Ministry ', 'BOG', 'ICUC',\n",
       "       'Desmond Yarjah Ministries', 'Charis Ministries', 'GAE',\n",
       "       'Church on mission', 'ICMC', 'RDJC', 'Faith Power', 'NGN', 'RDJG',\n",
       "       'Deeper life', 'Passion Church International ',\n",
       "       'Church of possibilities', 'PCI Lome', 'Possibilities Church ',\n",
       "       'EBSE Cotonuo ', 'Royal house', 'Jericho', 'GGA', 'Pabtist',\n",
       "       'CGBC', 'G.V.M', 'L.O.R.C', 'LWP', 'The Church on Rock',\n",
       "       'Presbyterian ', 'Action Chapel ', 'SPM', 'LAB',\n",
       "       'Christian love church ', 'TDC', 'GLK', 'Fruitful Vine ', 'CACI',\n",
       "       'Winners Chapel International ', 'NLM', 'GIL', 'WLT', 'Baptis',\n",
       "       'Pure Love Family Ministry', 'Shiloe  Temp', 'CRC', 'FGPMI',\n",
       "       'Dunamic Grace Chapel', 'Jesus Profession', 'Life Worship Center',\n",
       "       'Christian Light', 'R.C.C', 'TFCCI ', 'PLFM', 'C.A.C', 'ACC',\n",
       "       'MSE', 'E.P', 'D.R.M', 'JWLIM', 'AIG ', 'True Word', 'LIM', 'CBC',\n",
       "       'PCI Kpando', 'Mission Temple', 'PCI Hohoe', 'PCI Ho', 'MSPM',\n",
       "       'CHORKOR', 'SCI', 'CCCW', 'COM. Int', 'PCI UCC', 'PCM UCC', 'VPC',\n",
       "       'IPPM', 'TWS', 'Full light', 'CGK', 'True Covenant',\n",
       "       'Zion Prayer Min', 'KDAI', 'PCM KNUST', 'El-Adonai',\n",
       "       \"El's Prayer Palace\", 'AOG', 'Call Out Min. Int. Ho',\n",
       "       'Holy Fire Prophetic Min', 'Perez Brazzaville', 'Spintex', 'PJLM',\n",
       "       'RGCI', 'University ', 'Universe', 'PCM, UCC',\n",
       "       'PCI Spintex branch', \"Perez Cite D'Impact\", 'PCM, Winneba',\n",
       "       'Lighthouse', 'GCW', 'PCM Winneba', 'PCM UEW',\n",
       "       'Jesus Power Church', 'KCC', 'Royal House Chapel ',\n",
       "       'Glorious Church ', 'House Prayer Chapel ', 'GPCPI', 'FCGC',\n",
       "       'Love Harvest ', 'JCM', 'TACG', 'PCI/ French', 'C A R', 'LIC',\n",
       "       'G.E.C', 'Life City', 'Persz', 'PMC', 'St.Barnabas', 'EPFM',\n",
       "       'Baptise', 'R.C.G.C.I', 'CIM', 'C.S.C', 'S.C.I', 'COM INT',\n",
       "       'Banner Of Love ', 'INT COM', 'COMM INT', 'Com Int', 'Grace Temp',\n",
       "       'FIA', 'COM INTL’ ', 'WOFS', 'Word of faith', 'Figa', 'ICWC',\n",
       "       'Destiny International ', 'Dominion Winners', 'TRC ', 'CMI',\n",
       "       'Potter’s ', 'PCI ZOELAND', 'Christ Embassy',\n",
       "       'Christian Prescence Room', 'PCM ', 'BOGM', 'CDA', 'GLB Min',\n",
       "       'Sam Light Min', 'Ridge', 'Word of Faith', 'The Royal Church',\n",
       "       'Fountain of Revival ', 'Steadfast Love ', 'Baptist Church ',\n",
       "       'PEG', 'Banner Tema', 'CKC', 'Banner Tema ', 'TRC', 'VBCI', 'ICEC',\n",
       "       'Church On Missions ', 'Apostolic ', 'Banner of Grace',\n",
       "       'Christ Alive ', 'Charis Church ', 'HHC.AG', 'HOFM', 'Charis ',\n",
       "       'LHI', 'Visiting ', 'TPC', 'Royal Chapel ', 'Royal Church ',\n",
       "       'Assemblies Of God ', 'Banner of Grace ', 'Assemblies of god ',\n",
       "       'Adenta Perez ', 'RC', 'CINCC', 'CWCC', 'KECC', 'CLGM', 'JGM',\n",
       "       'Passion Chapel', 'JP Ministries ', 'Faith Temple', 'PPC', 'TLO',\n",
       "       'Promises Chapel Int.', 'LCM', 'BOAM ', 'EMC', 'PENTECOST',\n",
       "       'Word Of Faith Sanctuary ', 'Word Of Sanctuary ', 'Holy Hill ',\n",
       "       'RWCI', 'LSI', 'Jehovah Witness', 'GWM', 'CDMI', 'WMWW', 'R/C',\n",
       "       'CARM', 'LA', 'Banner fo Grace Min', 'MCC', 'AC', 'LICC', 'PWPM',\n",
       "       'Harvest', 'Fire Camp', 'GO', 'COMI', 'Kings', 'BOGM ', 'BOG ',\n",
       "       'LCRC', 'TBC ', 'BG', 'BG ', 'Banner', 'Pci Zoeland', 'PIWC, Tema',\n",
       "       'Catholic church', 'Pci east legon', 'LCRC The Royal Church',\n",
       "       'Pentecost, Labone', 'Prise bir', 'H of L', 'Pci Dzorwulu', 'LGIM',\n",
       "       'GLC', 'Perez Gbawe', 'Perez Chorkor', 'Perez Mallam',\n",
       "       'Charis Minitries Int.', 'Charis Ministries int.',\n",
       "       'Charis Mininstries Int', 'Charis Minitries Int', \"K'dua\",\n",
       "       'Perez Manhean', 'Perez Afiaman', 'Perez Mankesim', 'Revival',\n",
       "       'Quodesh', 'Zion Temple', 'PRAISE CHAPEL', 'PEREZ LA',\n",
       "       'LIGHTHOUSE', 'PEREZ ', 'CATHOLIC', 'SOLUTION CENTER',\n",
       "       'BANNER OF GRACE', 'RCCG', 'KANDA PCZ', 'KASOA', 'DOME',\n",
       "       'JESUS POWER', 'C. I', 'SWCC', 'ASSEMBLY', 'IBC', 'ZOELAND',\n",
       "       'PEREZ FRANCOPHONE', 'EGLISE FRANCOPHONE', 'GHANA', 'PEREZ FRENCH',\n",
       "       'PRZ', 'ACTION CHAPEL', 'BANNER OFGRACE', 'CATHOLIC (ST. JOHN)',\n",
       "       'CARC', 'PRESBY', 'A/G', 'NEW WAVE', 'APOSTOLIC', 'SDA', 'ROYALS',\n",
       "       'EXCHANGE CHURCH', 'SFHC', 'FTC', 'TLRC', 'TESHIE', 'DAWHENYA',\n",
       "       'METHODIST', 'ASSEMBLIES', 'SGO', 'DPGS', 'PEREZ TESANO', 'TESANO',\n",
       "       'CIMM', 'BANNER', 'STEN', 'TRIUMPH A/G', 'PEREZ CHAPEL', 'MAN',\n",
       "       'PCI MANKESIM', 'STAN', 'ROMAN', 'MOG', 'GPC', 'PDC', 'POPPG',\n",
       "       'TPLC', 'GTO', 'RXC', 'GLT', 'CFVC', 'HARVEST',\n",
       "       'ASSEMBLIES OF GOD', 'MPCI', 'CLWCI'], dtype=object)"
      ]
     },
     "execution_count": 22,
     "metadata": {},
     "output_type": "execute_result"
    }
   ],
   "source": [
    "ses23['Name of Church'].unique()"
   ]
  },
  {
   "cell_type": "markdown",
   "id": "b1fbfe03",
   "metadata": {},
   "source": [
    "##### CORRECT WRONGLY SPELT NAMES OF CHURCHES"
   ]
  },
  {
   "cell_type": "code",
   "execution_count": 23,
   "id": "d46d9e07",
   "metadata": {},
   "outputs": [],
   "source": [
    "ses23['Name of Church'] = ses23['Name of Church'].replace('Perz Chapel','Perez Chapel International')\n",
    "ses23['Name of Church'] = ses23['Name of Church'].replace('Perez Chapel, Lome','Perez Chapel International')\n",
    "ses23['Name of Church'] = ses23['Name of Church'].replace('Perez Dome','Perez Chapel International')\n",
    "ses23['Name of Church'] = ses23['Name of Church'].replace('Perez ','Perez Chapel International')\n",
    "ses23['Name of Church'] = ses23['Name of Church'].replace('Perez Dome ','Perez Chapel International')\n",
    "ses23['Name of Church'] = ses23['Name of Church'].replace('Perez','Perez Chapel International')\n",
    "ses23['Name of Church'] = ses23['Name of Church'].replace('Dome','Perez Chapel International')\n",
    "ses23['Name of Church'] = ses23['Name of Church'].replace('PCM','Perez Chapel International')\n",
    "ses23['Name of Church'] = ses23['Name of Church'].replace('Perez Aflao ','Perez Chapel International')\n",
    "ses23['Name of Church'] = ses23['Name of Church'].replace('Cantoments','Perez Chapel International')\n",
    "ses23['Name of Church'] = ses23['Name of Church'].replace('PCI Denu','Perez Chapel International')\n",
    "ses23['Name of Church'] = ses23['Name of Church'].replace('Perez/French','Perez Chapel International')\n",
    "ses23['Name of Church'] = ses23['Name of Church'].replace('PCI ','Perez Chapel International')\n",
    "ses23['Name of Church'] = ses23['Name of Church'].replace('Perez French ','Perez Chapel International')\n",
    "ses23['Name of Church'] = ses23['Name of Church'].replace('Perez Amanfro','Perez Chapel International')\n",
    "ses23['Name of Church'] = ses23['Name of Church'].replace('Perez- zoeland ','Perez Chapel International')\n",
    "ses23['Name of Church'] = ses23['Name of Church'].replace('Perez Zoeland ','Perez Chapel International')\n",
    "ses23['Name of Church'] = ses23['Name of Church'].replace('Pci','Perez Chapel International')\n",
    "ses23['Name of Church'] = ses23['Name of Church'].replace('Zoeland','Perez Chapel International')\n",
    "ses23['Name of Church'] = ses23['Name of Church'].replace('PCi','Perez Chapel International')\n",
    "ses23['Name of Church'] = ses23['Name of Church'].replace('PCI-La','Perez Chapel International')\n",
    "ses23['Name of Church'] = ses23['Name of Church'].replace('Perez Chapel ','Perez Chapel International')\n",
    "ses23['Name of Church'] = ses23['Name of Church'].replace('PCI Zoe','Perez Chapel International')\n",
    "ses23['Name of Church'] = ses23['Name of Church'].replace('Perez Zealand','Perez Chapel International')\n",
    "ses23['Name of Church'] = ses23['Name of Church'].replace('PCI Dome','Perez Chapel International')\n",
    "ses23['Name of Church'] = ses23['Name of Church'].replace('P C I','Perez Chapel International')\n",
    "ses23['Name of Church'] = ses23['Name of Church'].replace('Dome-Above Chapel ','Perez Chapel International')\n",
    "ses23['Name of Church'] = ses23['Name of Church'].replace('PCI Hq','Perez Chapel International')\n",
    "ses23['Name of Church'] = ses23['Name of Church'].replace('Perez Takoradi','Perez Chapel International')\n",
    "ses23['Name of Church'] = ses23['Name of Church'].replace('PCI FRENCH','Perez Chapel International')\n",
    "ses23['Name of Church'] = ses23['Name of Church'].replace('PCI DOME','Perez Chapel International')\n",
    "ses23['Name of Church'] = ses23['Name of Church'].replace('Pci Nkwanta','Perez Chapel International')\n",
    "ses23['Name of Church'] = ses23['Name of Church'].replace('Perez/Amsterdam','Perez Chapel International')\n",
    "ses23['Name of Church'] = ses23['Name of Church'].replace('Perez/Dome','Perez Chapel International')\n",
    "ses23['Name of Church'] = ses23['Name of Church'].replace('Zoeland ','Perez Chapel International')\n",
    "ses23['Name of Church'] = ses23['Name of Church'].replace('Dome ','Perez Chapel International')\n",
    "ses23['Name of Church'] = ses23['Name of Church'].replace('Pci/ French','Perez Chapel International')\n",
    "ses23['Name of Church'] = ses23['Name of Church'].replace('PCI French','Perez Chapel International')\n",
    "ses23['Name of Church'] = ses23['Name of Church'].replace('Perez Campus Ministry','Perez Chapel International')\n",
    "ses23['Name of Church'] = ses23['Name of Church'].replace('Perez Campus Ministry ','Perez Chapel International')\n",
    "ses23['Name of Church'] = ses23['Name of Church'].replace('Pci ','Perez Chapel International')\n",
    "ses23['Name of Church'] = ses23['Name of Church'].replace('PCI-Dome','Perez Chapel International')\n",
    "ses23['Name of Church'] = ses23['Name of Church'].replace('Perez DOme','Perez Chapel International')\n",
    "ses23['Name of Church'] = ses23['Name of Church'].replace('PCI-Zoeland','Perez Chapel International')\n",
    "ses23['Name of Church'] = ses23['Name of Church'].replace('PCI-Atomic','Perez Chapel International')\n",
    "ses23['Name of Church'] = ses23['Name of Church'].replace('PEREZ TRASAACO','Perez Chapel International')\n",
    "ses23['Name of Church'] = ses23['Name of Church'].replace('Perez ChapelDome','Perez Chapel International')\n",
    "ses23['Name of Church'] = ses23['Name of Church'].replace('Perez ChapelHq','Perez Chapel International')\n",
    "ses23['Name of Church'] = ses23['Name of Church'].replace('Perez ChapelFRENCH','Perez Chapel International')\n",
    "ses23['Name of Church'] = ses23['Name of Church'].replace('Perez ChapelZoe','Perez Chapel International')\n",
    "ses23['Name of Church'] = ses23['Name of Church'].replace('Perez ChapelHq','Perez Chapel International')\n",
    "ses23['Name of Church'] = ses23['Name of Church'].replace('Perez ChapelFRENCH','Perez Chapel International')\n",
    "ses23['Name of Church'] = ses23['Name of Church'].replace('Perez ChapelDOME','Perez Chapel International')\n",
    "ses23['Name of Church'] = ses23['Name of Church'].replace('Perez Chapel/ French','Perez Chapel International')\n",
    "ses23['Name of Church'] = ses23['Name of Church'].replace('Perez ChapelFrench','Perez Chapel International')\n",
    "ses23['Name of Church'] = ses23['Name of Church'].replace('Perez ChapelNkwanta','Perez Chapel International')\n",
    "ses23['Name of Church'] = ses23['Name of Church'].replace('-','Other Churches')\n",
    "ses23['Name of Church'] = ses23['Name of Church'].replace('Perez/French ','Perez Chapel International')\n",
    "ses23['Name of Church'] = ses23['Name of Church'].replace('PCI-Tesano','Perez Chapel International')\n",
    "ses23['Name of Church'] = ses23['Name of Church'].replace('Zoe','Perez Chapel International')\n",
    "ses23['Name of Church'] = ses23['Name of Church'].replace('Perez/ French','Perez Chapel International')\n",
    "ses23['Name of Church'] = ses23['Name of Church'].replace('Perez French SCE','Perez Chapel International')\n",
    "ses23['Name of Church'] = ses23['Name of Church'].replace('PCI-Odorkor','Perez Chapel International')\n",
    "ses23['Name of Church'] = ses23['Name of Church'].replace('Perez/ Frecnch','Perez Chapel International')\n",
    "ses23['Name of Church'] = ses23['Name of Church'].replace('Perez French','Perez Chapel International')\n",
    "ses23['Name of Church'] = ses23['Name of Church'].replace('Perez/ Dome','Perez Chapel International')\n",
    "ses23['Name of Church'] = ses23['Name of Church'].replace('Krokobite branch','Perez Chapel International')\n",
    "ses23['Name of Church'] = ses23['Name of Church'].replace('Dome French ','Perez Chapel International')\n",
    "ses23['Name of Church'] = ses23['Name of Church'].replace('Perez Zoe','Perez Chapel International')\n",
    "ses23['Name of Church'] = ses23['Name of Church'].replace('PCI - Zoeland ','Perez Chapel International')\n",
    "ses23['Name of Church'] = ses23['Name of Church'].replace('PCI H.T','Perez Chapel International')\n",
    "ses23['Name of Church'] = ses23['Name of Church'].replace('Perez chapel ','Perez Chapel International')\n",
    "ses23['Name of Church'] = ses23['Name of Church'].replace('Perez K.K.','Perez Chapel International')\n",
    "ses23['Name of Church'] = ses23['Name of Church'].replace('Perez H.Q','Perez Chapel International')\n",
    "ses23['Name of Church'] = ses23['Name of Church'].replace('Perez chapel international -Odorkor','Perez Chapel International')\n",
    "ses23['Name of Church'] = ses23['Name of Church'].replace('Perez Chapel international ','Perez Chapel International')\n",
    "ses23['Name of Church'] = ses23['Name of Church'].replace('Preze','Perez Chapel International')\n",
    "ses23['Name of Church'] = ses23['Name of Church'].replace('P.C.I','Perez Chapel International')\n",
    "ses23['Name of Church'] = ses23['Name of Church'].replace('Shiloh Temple - Dawhenya Branch ','Perez Chapel International')\n",
    "ses23['Name of Church'] = ses23['Name of Church'].replace('Perez Chapel International ','Perez Chapel International')\n",
    "ses23['Name of Church'] = ses23['Name of Church'].replace('PC1','Perez Chapel International')\n",
    "ses23['Name of Church'] = ses23['Name of Church'].replace('Perez Chapel Information ','Perez Chapel International')\n",
    "ses23['Name of Church'] = ses23['Name of Church'].replace('PEREZ','Perez Chapel International')\n",
    "ses23['Name of Church'] = ses23['Name of Church'].replace('Perez  Chapel','Perez Chapel International')\n",
    "ses23['Name of Church'] = ses23['Name of Church'].replace('Perez (Spintex)','Perez Chapel International')\n",
    "ses23['Name of Church'] = ses23['Name of Church'].replace('Perez Spintex','Perez Chapel International')\n",
    "ses23['Name of Church'] = ses23['Name of Church'].replace('Perez Madina','Perez Chapel International')\n",
    "ses23['Name of Church'] = ses23['Name of Church'].replace('Perez Odorkor','Perez Chapel International')\n",
    "ses23['Name of Church'] = ses23['Name of Church'].replace('Perez. Adenta','Perez Chapel International')\n",
    "ses23['Name of Church'] = ses23['Name of Church'].replace('Zoe Temple','Perez Chapel International')\n",
    "ses23['Name of Church'] = ses23['Name of Church'].replace('PCI (East Legon)','Perez Chapel International')\n",
    "ses23['Name of Church'] = ses23['Name of Church'].replace('PCI','Perez Chapel International')\n",
    "ses23['Name of Church'] = ses23['Name of Church'].replace('PCI-Ofankor ','Perez Chapel International')\n",
    "ses23['Name of Church'] = ses23['Name of Church'].replace('Not well written ','Other Churches')\n",
    "ses23['Name of Church'] = ses23['Name of Church'].replace('PC','Perez Chapel International')\n",
    "ses23['Name of Church'] = ses23['Name of Church'].replace('PCI Kpando','Perez Chapel International')\n",
    "ses23['Name of Church'] = ses23['Name of Church'].replace('PCI Hohoe','Perez Chapel International')\n",
    "ses23['Name of Church'] = ses23['Name of Church'].replace('PCI Ho','Perez Chapel International')\n",
    "ses23['Name of Church'] = ses23['Name of Church'].replace('Perez Pokuase','Perez Chapel International')\n",
    "ses23['Name of Church'] = ses23['Name of Church'].replace('Perez Brazzaville','Perez Chapel International')\n",
    "ses23['Name of Church'] = ses23['Name of Church'].replace('PCI UCC','Perez Chapel International')\n",
    "ses23['Name of Church'] = ses23['Name of Church'].replace('PCM UCC','Perez Chapel International')\n",
    "ses23['Name of Church'] = ses23['Name of Church'].replace('PCM KNUST','Perez Chapel International')\n",
    "ses23['Name of Church'] = ses23['Name of Church'].replace('PCI/ French','Perez Chapel International')\n",
    "ses23['Name of Church'] = ses23['Name of Church'].replace('Persz','Perez Chapel International')\n",
    "ses23['Name of Church'] = ses23['Name of Church'].replace('PCI Spintex branch','Perez Chapel International')\n",
    "ses23['Name of Church'] = ses23['Name of Church'].replace('Perez Brazzaville','Perez Chapel International')\n",
    "ses23['Name of Church'] = ses23['Name of Church'].replace('University ','Perez Chapel International')\n",
    "ses23['Name of Church'] = ses23['Name of Church'].replace('Pci Dzorwulu','Perez Chapel International')\n",
    "ses23['Name of Church'] = ses23['Name of Church'].replace('Perez Gbawe','Perez Chapel International')\n",
    "ses23['Name of Church'] = ses23['Name of Church'].replace('Perez Chorkor','Perez Chapel International')\n",
    "ses23['Name of Church'] = ses23['Name of Church'].replace('Perez Mallam','Perez Chapel International')\n",
    "ses23['Name of Church'] = ses23['Name of Church'].replace('Pci east legon','Perez Chapel International')\n",
    "ses23['Name of Church'] = ses23['Name of Church'].replace(\"K'dua\",'Perez Chapel International')\n",
    "ses23['Name of Church'] = ses23['Name of Church'].replace('Perez Manhean','Perez Chapel International')\n",
    "ses23['Name of Church'] = ses23['Name of Church'].replace('Perez Afiaman','Perez Chapel International')\n",
    "ses23['Name of Church'] = ses23['Name of Church'].replace('Perez Mankesim','Perez Chapel International')\n",
    "ses23['Name of Church'] = ses23['Name of Church'].replace('Zion Temple','Perez Chapel International')\n",
    "ses23['Name of Church'] = ses23['Name of Church'].replace('PEREZ LA','Perez Chapel International')\n",
    "ses23['Name of Church'] = ses23['Name of Church'].replace('Pci Zoeland','Perez Chapel International')\n",
    "ses23['Name of Church'] = ses23['Name of Church'].replace('Adenta Perez ','Perez Chapel International')\n",
    "ses23['Name of Church'] = ses23['Name of Church'].replace('PEREZ TESANO','Perez Chapel International')\n",
    "ses23['Name of Church'] = ses23['Name of Church'].replace('PEREZ ','Perez Chapel International')\n",
    "ses23['Name of Church'] = ses23['Name of Church'].replace('EGLISE FRANCOPHONE','Perez Chapel International')\n",
    "ses23['Name of Church'] = ses23['Name of Church'].replace('PCI MANKESIM','Perez Chapel International')\n",
    "ses23['Name of Church'] = ses23['Name of Church'].replace('PEREZ CHAPEL','Perez Chapel International')\n",
    "ses23['Name of Church'] = ses23['Name of Church'].replace('TESANO','Perez Chapel International')\n",
    "ses23['Name of Church'] = ses23['Name of Church'].replace('DAWHENYA','Perez Chapel International')\n",
    "ses23['Name of Church'] = ses23['Name of Church'].replace('TESHIE','Perez Chapel International')\n",
    "ses23['Name of Church'] = ses23['Name of Church'].replace('PRZ','Perez Chapel International')\n",
    "ses23['Name of Church'] = ses23['Name of Church'].replace('PEREZ FRENCH','Perez Chapel International')\n",
    "ses23['Name of Church'] = ses23['Name of Church'].replace('PEREZ FRANCOPHONE','Perez Chapel International')\n",
    "ses23['Name of Church'] = ses23['Name of Church'].replace('ZOELAND','Perez Chapel International')\n",
    "ses23['Name of Church'] = ses23['Name of Church'].replace('PCI ZOELAND','Perez Chapel International')\n",
    "ses23['Name of Church'] = ses23['Name of Church'].replace('PCM Winneba','Perez Chapel International')\n",
    "ses23['Name of Church'] = ses23['Name of Church'].replace('PCM UEW','Perez Chapel International')\n",
    "ses23['Name of Church'] = ses23['Name of Church'].replace('PCM, Winneba','Perez Chapel International')\n",
    "ses23['Name of Church'] = ses23['Name of Church'].replace('PCM -KNUST','Perez Chapel International')\n",
    "ses23['Name of Church'] = ses23['Name of Church'].replace('PCM - KNUST','Perez Chapel International')\n",
    "ses23['Name of Church'] = ses23['Name of Church'].replace('PCM-KNUST','Perez Chapel International')\n",
    "ses23['Name of Church'] = ses23['Name of Church'].replace('Not Written','Perez Chapel International')\n",
    "ses23['Name of Church'] = ses23['Name of Church'].replace('PCI MANKESIM','Perez Chapel International')\n",
    "ses23['Name of Church'] = ses23['Name of Church'].replace('PEREZ CHAPEL','Perez Chapel International')\n",
    "ses23['Name of Church'] = ses23['Name of Church'].replace('DOME','Perez Chapel International')\n",
    "ses23['Name of Church'] = ses23['Name of Church'].replace('GHANA','Perez Chapel International')\n",
    "ses23['Name of Church'] = ses23['Name of Church'].replace('KANDA PCZ','Perez Chapel International')\n",
    "ses23['Name of Church'] = ses23['Name of Church'].replace('KASOA','Perez Chapel International')\n",
    "ses23['Name of Church'] = ses23['Name of Church'].replace(\"Perez Cite D'Impact\",'Perez Chapel International')\n",
    "ses23['Name of Church'] = ses23['Name of Church'].replace('PCI Lome','Perez Chapel International')\n",
    "ses23['Name of Church'] = ses23['Name of Church'].replace('Nsuta Nkwakaw','Perez Chapel International')\n",
    "ses23['Name of Church'] = ses23['Name of Church'].replace('Ghana ','Perez Chapel International')\n",
    "ses23['Name of Church'] = ses23['Name of Church'].replace('PCM, UCC','Perez Chapel International')\n",
    "ses23['Name of Church'] = ses23['Name of Church'].replace('C.O.P','Church of Pentecost')\n",
    "ses23['Name of Church'] = ses23['Name of Church'].replace('Church of Pentecost ','Church of Pentecost')\n",
    "ses23['Name of Church'] = ses23['Name of Church'].replace('PENTECOST','Church of Pentecost')\n",
    "ses23['Name of Church'] = ses23['Name of Church'].replace('Pentecost','Church of Pentecost')\n",
    "ses23['Name of Church'] = ses23['Name of Church'].replace('UBCI','Victory Bible Church International')\n",
    "ses23['Name of Church'] = ses23['Name of Church'].replace('Victory Bible Church','Victory Bible Church International')\n",
    "ses23['Name of Church'] = ses23['Name of Church'].replace('Victory Bible church ','Victory Bible Church International')\n",
    "ses23['Name of Church'] = ses23['Name of Church'].replace('Victory bible church','Victory Bible Church International')\n",
    "ses23['Name of Church'] = ses23['Name of Church'].replace('Vbci ','Victory Bible Church International')\n",
    "ses23['Name of Church'] = ses23['Name of Church'].replace('VBCI','Victory Bible Church International')\n",
    "ses23['Name of Church'] = ses23['Name of Church'].replace('ASSEMBLIES OF GOD','Assemblies of God')\n",
    "ses23['Name of Church'] = ses23['Name of Church'].replace('TRIUMPH A/G','Assemblies of God')\n",
    "ses23['Name of Church'] = ses23['Name of Church'].replace('ASSEMBLIES','Assemblies of God')\n",
    "ses23['Name of Church'] = ses23['Name of Church'].replace('A/G','Assemblies of God')\n",
    "ses23['Name of Church'] = ses23['Name of Church'].replace('Holy Hill ','Assemblies of God')\n",
    "ses23['Name of Church'] = ses23['Name of Church'].replace('Assemblies of god ','Assemblies of God')\n",
    "ses23['Name of Church'] = ses23['Name of Church'].replace('Assemblies Of God ','Assemblies of God')\n",
    "ses23['Name of Church'] = ses23['Name of Church'].replace('HHC.AG','Assemblies of God')\n",
    "ses23['Name of Church'] = ses23['Name of Church'].replace('Triumph A/G','Assemblies of God')\n",
    "ses23['Name of Church'] = ses23['Name of Church'].replace('Assembles Of God','Assemblies of God')\n",
    "ses23['Name of Church'] = ses23['Name of Church'].replace('AG','Assemblies of God')\n",
    "ses23['Name of Church'] = ses23['Name of Church'].replace('Assemblies of God ','Assemblies of God')\n",
    "ses23['Name of Church'] = ses23['Name of Church'].replace('AOG','Assemblies of God')\n",
    "ses23['Name of Church'] = ses23['Name of Church'].replace('Living Hope Internetional','Living Hope International')\n",
    "ses23['Name of Church'] = ses23['Name of Church'].replace('Perz Chapel','Perez Chapel International')\n",
    "ses23['Name of Church'] = ses23['Name of Church'].replace('C.Y.N','Christ Youth Network')\n",
    "ses23['Name of Church'] = ses23['Name of Church'].replace('Perez ','Perez Chapel International')\n",
    "ses23['Name of Church'] = ses23['Name of Church'].replace('Perez Chapel, Lome','Perez Chapel International')\n",
    "ses23['Name of Church'] = ses23['Name of Church'].replace('PEREZ TRASAACO','Perez Chapel International')\n",
    "ses23['Name of Church'] = ses23['Name of Church'].replace('Perez Dome','Perez Chapel International')\n",
    "ses23['Name of Church'] = ses23['Name of Church'].replace('Perez Dome ','Perez Chapel International')\n",
    "ses23['Name of Church'] = ses23['Name of Church'].replace('TBC','Trinity Baptist Church')\n",
    "ses23['Name of Church'] = ses23['Name of Church'].replace('Royalhouse','Royalhouse Chapel International')\n",
    "ses23['Name of Church'] = ses23['Name of Church'].replace('Havest','Harvest Chapel International')\n",
    "ses23['Name of Church'] = ses23['Name of Church'].replace('Roman','Roman Catholic')\n",
    "ses23['Name of Church'] = ses23['Name of Church'].replace('Perez','Perez Chapel International')\n",
    "ses23['Name of Church'] = ses23['Name of Church'].replace('PCI','Perez Chapel International')\n",
    "ses23['Name of Church'] = ses23['Name of Church'].replace('Perez Chapel','Perez Chapel International')\n",
    "ses23['Name of Church'] = ses23['Name of Church'].replace('COP','Church of Pentecost')\n",
    "ses23['Name of Church'] = ses23['Name of Church'].replace('A.G','Assemblies of God')\n",
    "ses23['Name of Church'] = ses23['Name of Church'].replace('PCG','Presbyterian Church of Ghana')\n",
    "ses23['Name of Church'] = ses23['Name of Church'].replace('CEM','charismatic Evangelistic Ministry')\n",
    "ses23['Name of Church'] = ses23['Name of Church'].replace('Assembles of God','Assemblies of God')\n",
    "ses23['Name of Church'] = ses23['Name of Church'].replace('cac','Christ Apostolic church')\n",
    "ses23['Name of Church'] = ses23['Name of Church'].replace('Living Hope Internetional','Living Hope International')\n",
    "ses23['Name of Church'] = ses23['Name of Church'].replace('GIPM','Other Churches')\n",
    "ses23['Name of Church'] = ses23['Name of Church'].replace('R.D','Other Churches')\n",
    "ses23['Name of Church'] = ses23['Name of Church'].replace('FOLP','Other Churches')\n",
    "ses23['Name of Church'] = ses23['Name of Church'].replace('L.D.S','Other Churches')\n",
    "ses23['Name of Church'] = ses23['Name of Church'].replace('LGCG','Other Churches')\n",
    "ses23['Name of Church'] = ses23['Name of Church'].replace('CSWC','Other Churches')\n",
    "ses23['Name of Church'] = ses23['Name of Church'].replace('AWG','Other Churches')\n",
    "ses23['Name of Church'] = ses23['Name of Church'].replace('MK','Other churches')\n",
    "ses23['Name of Church'] = ses23['Name of Church'].replace('KCIC','Other Churches')\n",
    "ses23['Name of Church'] = ses23['Name of Church'].replace('WCI','Other Churches')\n",
    "ses23['Name of Church'] = ses23['Name of Church'].replace('FMBU','Other Churches')\n",
    "ses23['Name of Church'] = ses23['Name of Church'].replace('A.G.A','Other Churches')\n",
    "ses23['Name of Church'] = ses23['Name of Church'].replace('LGC','Other Churches')\n",
    "ses23['Name of Church'] = ses23['Name of Church'].replace('HKOMI','Other Churches')\n",
    "ses23['Name of Church'] = ses23['Name of Church'].replace('TAC','Other Churches')\n",
    "ses23['Name of Church'] = ses23['Name of Church'].replace('ATOG','Other Churches')\n",
    "ses23['Name of Church'] = ses23['Name of Church'].replace('MELN','Other churches')\n",
    "ses23['Name of Church'] = ses23['Name of Church'].replace('CFVC','Other Churches')\n",
    "ses23['Name of Church'] = ses23['Name of Church'].replace('GLT','Other Churches')\n",
    "ses23['Name of Church'] = ses23['Name of Church'].replace('SGO','Other Churches')\n",
    "ses23['Name of Church'] = ses23['Name of Church'].replace('GLC','Other Churches')\n",
    "ses23['Name of Church'] = ses23['Name of Church'].replace('FTC','Other Churches')\n",
    "ses23['Name of Church'] = ses23['Name of Church'].replace('BG ','Other Churches')\n",
    "ses23['Name of Church'] = ses23['Name of Church'].replace('BG','Other Churches')\n",
    "ses23['Name of Church'] = ses23['Name of Church'].replace('H of L','Other Churches')\n",
    "ses23['Name of Church'] = ses23['Name of Church'].replace('STAN','Other Churches')\n",
    "ses23['Name of Church'] = ses23['Name of Church'].replace('C. I','Other Churches')\n",
    "ses23['Name of Church'] = ses23['Name of Church'].replace('PDC','Other Churches')\n",
    "ses23['Name of Church'] = ses23['Name of Church'].replace('AC','Other Churches')\n",
    "ses23['Name of Church'] = ses23['Name of Church'].replace('LSI','Other Churches')\n",
    "ses23['Name of Church'] = ses23['Name of Church'].replace('CDMI','Other Churches')\n",
    "ses23['Name of Church'] = ses23['Name of Church'].replace('WCCI','Other Churches')\n",
    "ses23['Name of Church'] = ses23['Name of Church'].replace('CPI','Other Churches')\n",
    "ses23['Name of Church'] = ses23['Name of Church'].replace('Other churches','Other Churches')\n",
    "ses23['Name of Church'] = ses23['Name of Church'].replace('EECA','Other Churches')\n",
    "ses23['Name of Church'] = ses23['Name of Church'].replace('VGM','Other Churches')\n",
    "ses23['Name of Church'] = ses23['Name of Church'].replace('LIBC','Other Churches')\n",
    "ses23['Name of Church'] = ses23['Name of Church'].replace('TFGM','Other Churches')\n",
    "ses23['Name of Church'] = ses23['Name of Church'].replace('MELN ','Other Churches')\n",
    "ses23['Name of Church'] = ses23['Name of Church'].replace('AIG','Other Churches')\n",
    "ses23['Name of Church'] = ses23['Name of Church'].replace('KLM','Other Churches')\n",
    "ses23['Name of Church'] = ses23['Name of Church'].replace('POWI','Other Churches')\n",
    "ses23['Name of Church'] = ses23['Name of Church'].replace('AD','Other Churches')\n",
    "ses23['Name of Church'] = ses23['Name of Church'].replace('EFC','Other Churches')\n",
    "ses23['Name of Church'] = ses23['Name of Church'].replace('MDRC','Other Churches')\n",
    "ses23['Name of Church'] = ses23['Name of Church'].replace('QFC','Other Churches')\n",
    "ses23['Name of Church'] = ses23['Name of Church'].replace('C C I','Other Churches')\n",
    "ses23['Name of Church'] = ses23['Name of Church'].replace('CCI','Other Churches')\n",
    "ses23['Name of Church'] = ses23['Name of Church'].replace('CEE','Other Churches')\n",
    "ses23['Name of Church'] = ses23['Name of Church'].replace('CPU','Other Churches')\n",
    "ses23['Name of Church'] = ses23['Name of Church'].replace('P.O.E.C','Other Churches')\n",
    "ses23['Name of Church'] = ses23['Name of Church'].replace('TCCG','Other Churches')\n",
    "ses23['Name of Church'] = ses23['Name of Church'].replace('DCA','Other Churches')\n",
    "ses23['Name of Church'] = ses23['Name of Church'].replace('Brigade','Other Churches')\n",
    "ses23['Name of Church'] = ses23['Name of Church'].replace('GEC ','Other Churches')\n",
    "ses23['Name of Church'] = ses23['Name of Church'].replace('Klm','Other Churches')\n",
    "ses23['Name of Church'] = ses23['Name of Church'].replace('AWC','Other Churches')\n",
    "ses23['Name of Church'] = ses23['Name of Church'].replace('CCC','Other Churches')\n",
    "ses23['Name of Church'] = ses23['Name of Church'].replace('C.K.P.C','Other Churches')\n",
    "ses23['Name of Church'] = ses23['Name of Church'].replace('PRC','Other Churches')\n",
    "ses23['Name of Church'] = ses23['Name of Church'].replace('D C I','Other Churches')\n",
    "ses23['Name of Church'] = ses23['Name of Church'].replace('GDC','Other Churches')\n",
    "ses23['Name of Church'] = ses23['Name of Church'].replace('ROGHC','Other Churches')\n",
    "ses23['Name of Church'] = ses23['Name of Church'].replace('TFCCI','Other Churches')\n",
    "ses23['Name of Church'] = ses23['Name of Church'].replace('C A M','Other Churches')\n",
    "ses23['Name of Church'] = ses23['Name of Church'].replace('Mallam','Other Churches')\n",
    "ses23['Name of Church'] = ses23['Name of Church'].replace('TCI','Other Churches')\n",
    "ses23['Name of Church'] = ses23['Name of Church'].replace('HGACI','Other Churches')\n",
    "ses23['Name of Church'] = ses23['Name of Church'].replace('LPMI','Other Churches')\n",
    "ses23['Name of Church'] = ses23['Name of Church'].replace('M.E.V.c','Other Churches')\n",
    "ses23['Name of Church'] = ses23['Name of Church'].replace('TFHC','Other Churches')\n",
    "ses23['Name of Church'] = ses23['Name of Church'].replace('JPC','Other Churches')\n",
    "ses23['Name of Church'] = ses23['Name of Church'].replace('RDJC','Other Churches')\n",
    "ses23['Name of Church'] = ses23['Name of Church'].replace('L.O.R.C','Other Churches')\n",
    "ses23['Name of Church'] = ses23['Name of Church'].replace('Abiding ','Other Churches')\n",
    "ses23['Name of Church'] = ses23['Name of Church'].replace('Kim','Other Churches')\n",
    "ses23['Name of Church'] = ses23['Name of Church'].replace('DLC','Other Churches')\n",
    "ses23['Name of Church'] = ses23['Name of Church'].replace('HJM','Other Churches')\n",
    "ses23['Name of Church'] = ses23['Name of Church'].replace('COMI','Other Churches')\n",
    "ses23['Name of Church'] = ses23['Name of Church'].replace('MAN','Other Churches')\n",
    "ses23['Name of Church'] = ses23['Name of Church'].replace('TLRC','Other Churches')\n",
    "ses23['Name of Church'] = ses23['Name of Church'].replace('RXC','Other Churches')\n",
    "ses23['Name of Church'] = ses23['Name of Church'].replace('GO','Other Churches')\n",
    "ses23['Name of Church'] = ses23['Name of Church'].replace('LCRC','Other Churches')\n",
    "ses23['Name of Church'] = ses23['Name of Church'].replace('PPC','Other Churches')\n",
    "ses23['Name of Church'] = ses23['Name of Church'].replace('CARC','Other Churches')\n",
    "ses23['Name of Church'] = ses23['Name of Church'].replace('TPLC','Other Churches')\n",
    "ses23['Name of Church'] = ses23['Name of Church'].replace('TLO','Other Churches')\n",
    "ses23['Name of Church'] = ses23['Name of Church'].replace('Prise bir','Other Churches')\n",
    "ses23['Name of Church'] = ses23['Name of Church'].replace('LHI','Other Churches')\n",
    "ses23['Name of Church'] = ses23['Name of Church'].replace('LICC','Other Churches')\n",
    "ses23['Name of Church'] = ses23['Name of Church'].replace('GPC','Other Churches')\n",
    "ses23['Name of Church'] = ses23['Name of Church'].replace('CIMM','Other Churches')\n",
    "ses23['Name of Church'] = ses23['Name of Church'].replace('RC','Other Churches')\n",
    "ses23['Name of Church'] = ses23['Name of Church'].replace('WMWW','Other Churches')\n",
    "ses23['Name of Church'] = ses23['Name of Church'].replace('GWM','Other Churches')\n",
    "ses23['Name of Church'] = ses23['Name of Church'].replace('GTO','Other Churches')\n",
    "ses23['Name of Church'] = ses23['Name of Church'].replace('DPGS','Other Churches')\n",
    "ses23['Name of Church'] = ses23['Name of Church'].replace('LCM','Other Churches')\n",
    "ses23['Name of Church'] = ses23['Name of Church'].replace('PEG','Other Churches')\n",
    "ses23['Name of Church'] = ses23['Name of Church'].replace('R.C.G.C.I','Other Churches')\n",
    "ses23['Name of Church'] = ses23['Name of Church'].replace('RGCI','Other Churches')\n",
    "ses23['Name of Church'] = ses23['Name of Church'].replace('CRC','Other Churches')\n",
    "ses23['Name of Church'] = ses23['Name of Church'].replace('C.A.C','Other Churches')\n",
    "ses23['Name of Church'] = ses23['Name of Church'].replace('EBSE Cotonuo ','Other Churches')\n",
    "ses23['Name of Church'] = ses23['Name of Church'].replace('ACC','Other Churches')\n",
    "ses23['Name of Church'] = ses23['Name of Church'].replace('GCW','Other Churches')\n",
    "ses23['Name of Church'] = ses23['Name of Church'].replace('CGK','Other Churches') \n",
    "ses23['Name of Church'] = ses23['Name of Church'].replace('FCGC','Other Churches')\n",
    "ses23['Name of Church'] = ses23['Name of Church'].replace('Com Int','Other Churches')\n",
    "ses23['Name of Church'] = ses23['Name of Church'].replace('HOFM','Other Churches')\n",
    "ses23['Name of Church'] = ses23['Name of Church'].replace('WOFS','Other Churches')\n",
    "ses23['Name of Church'] = ses23['Name of Church'].replace('EMC','Other Churches')\n",
    "ses23['Name of Church'] = ses23['Name of Church'].replace('ICEC','Other Churches')\n",
    "ses23['Name of Church'] = ses23['Name of Church'].replace('CINCC','Other Churches')\n",
    "ses23['Name of Church'] = ses23['Name of Church'].replace('PWPM','Other Churches')\n",
    "ses23['Name of Church'] = ses23['Name of Church'].replace('CMI','Other Churches')\n",
    "ses23['Name of Church'] = ses23['Name of Church'].replace('Charis Minitries Int.','Charis Minitries International')\n",
    "ses23['Name of Church'] = ses23['Name of Church'].replace('Charis Ministries int.','Charis Minitries International')\n",
    "ses23['Name of Church'] = ses23['Name of Church'].replace('Com International ','Other Churches')\n",
    "ses23['Name of Church'] = ses23['Name of Church'].replace('NGN','Other Churches')\n",
    "ses23['Name of Church'] = ses23['Name of Church'].replace('LAB','Other Churches')\n",
    "ses23['Name of Church'] = ses23['Name of Church'].replace('C.D.C','Other Churches')\n",
    "ses23['Name of Church'] = ses23['Name of Church'].replace('GGA','Other Churches')\n",
    "ses23['Name of Church'] = ses23['Name of Church'].replace('DRM','Other Churches')\n",
    "ses23['Name of Church'] = ses23['Name of Church'].replace('Jaic','Other Churches')\n",
    "ses23['Name of Church'] = ses23['Name of Church'].replace('NCM','Other Churches')\n",
    "ses23['Name of Church'] = ses23['Name of Church'].replace('GNBC','Other Churches')\n",
    "ses23['Name of Church'] = ses23['Name of Church'].replace('GGM','Other Churches')\n",
    "ses23['Name of Church'] = ses23['Name of Church'].replace('PPVP3','Other Churches')\n",
    "ses23['Name of Church'] = ses23['Name of Church'].replace('GEMI','Other Churches')\n",
    "ses23['Name of Church'] = ses23['Name of Church'].replace('LTV','Other Churches')\n",
    "ses23['Name of Church'] = ses23['Name of Church'].replace('C.A.M.T','Other Churches')\n",
    "ses23['Name of Church'] = ses23['Name of Church'].replace('GVM','Other Churches')\n",
    "ses23['Name of Church'] = ses23['Name of Church'].replace('K.O.C','Other Churches')\n",
    "ses23['Name of Church'] = ses23['Name of Church'].replace('CFVC','Other Churches')\n",
    "ses23['Name of Church'] = ses23['Name of Church'].replace('GPLE','Other Churches')\n",
    "ses23['Name of Church'] = ses23['Name of Church'].replace('IG','Other Churches')\n",
    "ses23['Name of Church'] = ses23['Name of Church'].replace('PXI','Other Churches')\n",
    "ses23['Name of Church'] = ses23['Name of Church'].replace('RCC','Other Churches')\n",
    "ses23['Name of Church'] = ses23['Name of Church'].replace('FOIGVIE','Other Churches')\n",
    "ses23['Name of Church'] = ses23['Name of Church'].replace('GHC','Other Churches')\n",
    "ses23['Name of Church'] = ses23['Name of Church'].replace('Refem','Other Churches')\n",
    "ses23['Name of Church'] = ses23['Name of Church'].replace('J.P.M.I','Other Churches')\n",
    "ses23['Name of Church'] = ses23['Name of Church'].replace('CNI ','Other Churches')\n",
    "ses23['Name of Church'] = ses23['Name of Church'].replace('RCIM','Other Churches')\n",
    "ses23['Name of Church'] = ses23['Name of Church'].replace('KCM','Other Churches')\n",
    "ses23['Name of Church'] = ses23['Name of Church'].replace('3R','Other Churches')\n",
    "ses23['Name of Church'] = ses23['Name of Church'].replace('WGM','Other Churches')\n",
    "ses23['Name of Church'] = ses23['Name of Church'].replace('TWI','Other Churches')\n",
    "ses23['Name of Church'] = ses23['Name of Church'].replace('KICC','Other Churches')\n",
    "ses23['Name of Church'] = ses23['Name of Church'].replace('DCM','Other Churches')\n",
    "ses23['Name of Church'] = ses23['Name of Church'].replace('GEC','Other Churches')\n",
    "ses23['Name of Church'] = ses23['Name of Church'].replace('EMMA','Other Churches')\n",
    "ses23['Name of Church'] = ses23['Name of Church'].replace('EPE','Other Churches')\n",
    "ses23['Name of Church'] = ses23['Name of Church'].replace('Kiwgiv','Other Churches')\n",
    "ses23['Name of Church'] = ses23['Name of Church'].replace('T.C.R.C','Other Churches')\n",
    "ses23['Name of Church'] = ses23['Name of Church'].replace('VCC','Other Churches')\n",
    "ses23['Name of Church'] = ses23['Name of Church'].replace('MEVAA','Other Churches')\n",
    "ses23['Name of Church'] = ses23['Name of Church'].replace('C.I.C','Other Churches')\n",
    "ses23['Name of Church'] = ses23['Name of Church'].replace('GRM','Other Churches')\n",
    "ses23['Name of Church'] = ses23['Name of Church'].replace('MCI','Other Churches')\n",
    "ses23['Name of Church'] = ses23['Name of Church'].replace('EPD','Other Churches')\n",
    "ses23['Name of Church'] = ses23['Name of Church'].replace('MPV','Other Churches')\n",
    "ses23['Name of Church'] = ses23['Name of Church'].replace('ICC','Other Churches')\n",
    "ses23['Name of Church'] = ses23['Name of Church'].replace('Mercy 63','Other Churches')\n",
    "ses23['Name of Church'] = ses23['Name of Church'].replace('ECDV','Other Churches')\n",
    "ses23['Name of Church'] = ses23['Name of Church'].replace('TABI','Other Churches')\n",
    "ses23['Name of Church'] = ses23['Name of Church'].replace('CLM','Other Churches')\n",
    "ses23['Name of Church'] = ses23['Name of Church'].replace('EGIN','Other Churches')\n",
    "ses23['Name of Church'] = ses23['Name of Church'].replace('Ghana','Other Churches')\n",
    "ses23['Name of Church'] = ses23['Name of Church'].replace('MERCI 55','Other Churches')\n",
    "ses23['Name of Church'] = ses23['Name of Church'].replace('UPRR','Other Churches')\n",
    "ses23['Name of Church'] = ses23['Name of Church'].replace('MAPR','Other Churches')\n",
    "ses23['Name of Church'] = ses23['Name of Church'].replace('GVL','Other Churches')\n",
    "ses23['Name of Church'] = ses23['Name of Church'].replace('SFCI','Other Churches')\n",
    "ses23['Name of Church'] = ses23['Name of Church'].replace('MDG','Other Churches')\n",
    "ses23['Name of Church'] = ses23['Name of Church'].replace('EPNB','Other Churches')\n",
    "ses23['Name of Church'] = ses23['Name of Church'].replace('nan','Other Churches')\n",
    "ses23['Name of Church'] = ses23['Name of Church'].replace('RHCI','Other Churches')\n",
    "ses23['Name of Church'] = ses23['Name of Church'].replace('Gasem ','Other Churches')\n",
    "ses23['Name of Church'] = ses23['Name of Church'].replace('MMVC','Other Churches')\n",
    "ses23['Name of Church'] = ses23['Name of Church'].replace('HIM','Other Churches')\n",
    "ses23['Name of Church'] = ses23['Name of Church'].replace('CLF','Other Churches')\n",
    "ses23['Name of Church'] = ses23['Name of Church'].replace('WWWM','Other Churches')\n",
    "ses23['Name of Church'] = ses23['Name of Church'].replace('GLIC','Other Churches')\n",
    "ses23['Name of Church'] = ses23['Name of Church'].replace('Mischout','Other Churches')\n",
    "ses23['Name of Church'] = ses23['Name of Church'].replace('NCCS','Other Churches')\n",
    "ses23['Name of Church'] = ses23['Name of Church'].replace('P.C.T','Other Churches')\n",
    "ses23['Name of Church'] = ses23['Name of Church'].replace('T/N branch','Other Churches')\n",
    "ses23['Name of Church'] = ses23['Name of Church'].replace('G.E.M.I','Other Churches')\n",
    "ses23['Name of Church'] = ses23['Name of Church'].replace('PLI','Other Churches')\n",
    "ses23['Name of Church'] = ses23['Name of Church'].replace('WF ','Other Churches')\n",
    "ses23['Name of Church'] = ses23['Name of Church'].replace('Kabauel','Other Churches')\n",
    "ses23['Name of Church'] = ses23['Name of Church'].replace('JFC','Other Churches')\n",
    "ses23['Name of Church'] = ses23['Name of Church'].replace('LCSAG','Other Churches')\n",
    "ses23['Name of Church'] = ses23['Name of Church'].replace('F.G.M.I ','Other Churches')\n",
    "ses23['Name of Church'] = ses23['Name of Church'].replace('BCI','Other Churches')\n",
    "ses23['Name of Church'] = ses23['Name of Church'].replace('R.P','Other Churches')\n",
    "ses23['Name of Church'] = ses23['Name of Church'].replace('FIG','Other Churches')\n",
    "ses23['Name of Church'] = ses23['Name of Church'].replace('CEMI','Other Churches')\n",
    "ses23['Name of Church'] = ses23['Name of Church'].replace('PCL','Other Churches')\n",
    "ses23['Name of Church'] = ses23['Name of Church'].replace('POP','Other Churches')\n",
    "ses23['Name of Church'] = ses23['Name of Church'].replace('F.G.C','Other Churches')\n",
    "ses23['Name of Church'] = ses23['Name of Church'].replace('UCC','Other Churches')\n",
    "ses23['Name of Church'] = ses23['Name of Church'].replace('G.P.L.E','Other Churches')\n",
    "ses23['Name of Church'] = ses23['Name of Church'].replace('LAN','Other Churches')\n",
    "ses23['Name of Church'] = ses23['Name of Church'].replace('FGPMI','Other Churches')\n",
    "ses23['Name of Church'] = ses23['Name of Church'].replace('COM INTL’ ','Other Churches')\n",
    "ses23['Name of Church'] = ses23['Name of Church'].replace('ALG','Other Churches')\n",
    "ses23['Name of Church'] = ses23['Name of Church'].replace('CVI','Other Churches')\n",
    "ses23['Name of Church'] = ses23['Name of Church'].replace('PSAM','Other Churches')\n",
    "ses23['Name of Church'] = ses23['Name of Church'].replace('CND','Other Churches')\n",
    "ses23['Name of Church'] = ses23['Name of Church'].replace('GCC','Other Churches')\n",
    "ses23['Name of Church'] = ses23['Name of Church'].replace('PCCI','Other Churches')\n",
    "ses23['Name of Church'] = ses23['Name of Church'].replace('ICUC','Other Churches')\n",
    "ses23['Name of Church'] = ses23['Name of Church'].replace('IGG','Other Churches')\n",
    "ses23['Name of Church'] = ses23['Name of Church'].replace('LHC','Other Churches')\n",
    "ses23['Name of Church'] = ses23['Name of Church'].replace('CEMI ','Other Churches')\n",
    "ses23['Name of Church'] = ses23['Name of Church'].replace('ICMC','Other Churches')\n",
    "ses23['Name of Church'] = ses23['Name of Church'].replace('WPNL','Other Churches')\n",
    "ses23['Name of Church'] = ses23['Name of Church'].replace('PIC','Other Churches')\n",
    "ses23['Name of Church'] = ses23['Name of Church'].replace('ILFM','Other Churches')\n",
    "ses23['Name of Church'] = ses23['Name of Church'].replace('SBJM','Other Churches')\n",
    "ses23['Name of Church'] = ses23['Name of Church'].replace('C A R','Other Churches')\n",
    "ses23['Name of Church'] = ses23['Name of Church'].replace('CLFC','Other Churches')\n",
    "ses23['Name of Church'] = ses23['Name of Church'].replace('PCIF','Other Churches')\n",
    "ses23['Name of Church'] = ses23['Name of Church'].replace('SOLCI','Other Churches')\n",
    "ses23['Name of Church'] = ses23['Name of Church'].replace('LAPSE','Other Churches')\n",
    "ses23['Name of Church'] = ses23['Name of Church'].replace('Refirm','Other Churches')\n",
    "ses23['Name of Church'] = ses23['Name of Church'].replace('La-okacect','Other Churches')\n",
    "ses23['Name of Church'] = ses23['Name of Church'].replace('RHIC','Other Churches')\n",
    "ses23['Name of Church'] = ses23['Name of Church'].replace('Dowi','Other Churches')\n",
    "ses23['Name of Church'] = ses23['Name of Church'].replace('GAE','Other Churches')\n",
    "ses23['Name of Church'] = ses23['Name of Church'].replace('LNC','Other Churches')\n",
    "ses23['Name of Church'] = ses23['Name of Church'].replace('E.F.C','Other Churches')\n",
    "ses23['Name of Church'] = ses23['Name of Church'].replace('OLHC','Other Churches')\n",
    "ses23['Name of Church'] = ses23['Name of Church'].replace('AGCM','Other Churches')\n",
    "ses23['Name of Church'] = ses23['Name of Church'].replace('TFCCI ','Other Churches')\n",
    "ses23['Name of Church'] = ses23['Name of Church'].replace('BOGM','Other Churches')\n",
    "ses23['Name of Church'] = ses23['Name of Church'].replace('BOG','Other Churches')\n",
    "ses23['Name of Church'] = ses23['Name of Church'].replace('NLM','Other Churches')\n",
    "ses23['Name of Church'] = ses23['Name of Church'].replace('RDJG','Other Churches')\n",
    "ses23['Name of Church'] = ses23['Name of Church'].replace('MSE','Other Churches')\n",
    "ses23['Name of Church'] = ses23['Name of Church'].replace('PCMVCC','Other Churches')\n",
    "ses23['Name of Church'] = ses23['Name of Church'].replace('WCRM','Other Churches')\n",
    "ses23['Name of Church'] = ses23['Name of Church'].replace('PJLM','Other Churches')\n",
    "ses23['Name of Church'] = ses23['Name of Church'].replace('ICWC','Other Churches')\n",
    "ses23['Name of Church'] = ses23['Name of Church'].replace('BANNER','Banner of Grace')\n",
    "ses23['Name of Church'] = ses23['Name of Church'].replace('Action Chapel','Action Chapel International')\n",
    "ses23['Name of Church'] = ses23['Name of Church'].replace('ICGC','International Central Gospel Church')\n",
    "ses23['Name of Church'] = ses23['Name of Church'].replace('BANNER OF GRACE','Banner of Grace')\n",
    "ses23['Name of Church'] = ses23['Name of Church'].replace('LIGHTHOUSE','Lighthouse Chapel International')\n",
    "ses23['Name of Church'] = ses23['Name of Church'].replace('ACTION CHAPEL','Action Chapel International')\n",
    "ses23['Name of Church'] = ses23['Name of Church'].replace('BANNER OFGRACE','Banner of Grace')\n",
    "ses23['Name of Church'] = ses23['Name of Church'].replace('Banner','Banner of Grace')\n",
    "ses23['Name of Church'] = ses23['Name of Church'].replace('Charis Minitries Int','Charis Ministries International')\n",
    "ses23['Name of Church'] = ses23['Name of Church'].replace('Charis Mininstries Int','Charis Ministries International')\n",
    "ses23['Name of Church'] = ses23['Name of Church'].replace('GHARIS','Charis Ministries International')\n",
    "ses23['Name of Church'] = ses23['Name of Church'].replace('CATHOLIC (ST. JOHN)','Roman Catholic')\n",
    "ses23['Name of Church'] = ses23['Name of Church'].replace('Banner of Grace ','Banner of Grace') \n",
    "ses23['Name of Church'] = ses23['Name of Church'].replace('I.C.G.C','International Central Gospel Church')\n",
    "ses23['Name of Church'] = ses23['Name of Church'].replace('CATHOLIC','Roman Catholic')\n",
    "ses23['Name of Church'] = ses23['Name of Church'].replace('Pentecost ','Church of Pentecost')\n",
    "ses23['Name of Church'] = ses23['Name of Church'].replace('Jesus power church','Jesus Power Church')\n",
    "ses23['Name of Church'] = ses23['Name of Church'].replace('Presbyterian Kasoa','Presbyterian Church of Ghana')\n",
    "ses23['Name of Church'] = ses23['Name of Church'].replace('Presby','Presbyterian Church of Ghana')\n",
    "ses23['Name of Church'] = ses23['Name of Church'].replace('Banner Tema ','Banner of Grace')\n",
    "ses23['Name of Church'] = ses23['Name of Church'].replace('Charis Church ','Charis Ministries International')\n",
    "ses23['Name of Church'] = ses23['Name of Church'].replace('Banner fo Grace Min','Banner of Grace')\n",
    "ses23['Name of Church'] = ses23['Name of Church'].replace('PRESBY','Presbyterian Church of Ghana')\n",
    "ses23['Name of Church'] = ses23['Name of Church'].replace('Church Of God','Church of God')\n",
    "ses23['Name of Church'] = ses23['Name of Church'].replace('Methodist ','Methodist Church of Ghana')\n",
    "ses23['Name of Church'] = ses23['Name of Church'].replace('Abokobi','Other Churches')\n",
    "ses23['Name of Church'] = ses23['Name of Church'].replace('Charis','Charis Ministries International')\n",
    "ses23['Name of Church'] = ses23['Name of Church'].replace('COMM INT','Other Churches')\n",
    "ses23['Name of Church'] = ses23['Name of Church'].replace('Comi.Int','Other Churches')\n",
    "ses23['Name of Church'] = ses23['Name of Church'].replace('Banner Tema','Banner of Grace')\n",
    "ses23['Name of Church'] = ses23['Name of Church'].replace('SDA','Seventh Day Adventist')\n",
    "ses23['Name of Church'] = ses23['Name of Church'].replace('APOSTOLIC','Christ Apostolic Church')\n",
    "ses23['Name of Church'] = ses23['Name of Church'].replace('METHODIST','Methodist Church of Ghana')\n",
    "ses23['Name of Church'] = ses23['Name of Church'].replace('LGIM','Other Churches')\n",
    "ses23['Name of Church'] = ses23['Name of Church'].replace('Pentecost, Labone','Church of Pentecost')\n",
    "ses23['Name of Church'] = ses23['Name of Church'].replace('JESUS POWER','Jesus Power Church')\n",
    "ses23['Name of Church'] = ses23['Name of Church'].replace('LA','Other Churches')\n",
    "ses23['Name of Church'] = ses23['Name of Church'].replace('CEC','Other Churches')\n",
    "ses23['Name of Church'] = ses23['Name of Church'].replace('Pottes City',\"Potter's'City\")\n",
    "ses23['Name of Church'] = ses23['Name of Church'].replace('Quodesh','Other Churches')\n",
    "ses23['Name of Church'] = ses23['Name of Church'].replace('Potter’s ',\"Potter's'City\")\n",
    "ses23['Name of Church'] = ses23['Name of Church'].replace('CKC','Other Churches')\n",
    "ses23['Name of Church'] = ses23['Name of Church'].replace('Springs of Life ','Springs of Life')\n",
    "ses23['Name of Church'] = ses23['Name of Church'].replace('Charis Minitries International','Charis Ministries International')\n",
    "ses23['Name of Church'] = ses23['Name of Church'].replace('COM INT','Other Churches')\n",
    "ses23['Name of Church'] = ses23['Name of Church'].replace('Kabowd','Other Churches')\n",
    "ses23['Name of Church'] = ses23['Name of Church'].replace('R/C','Other Churches')\n",
    "ses23['Name of Church'] = ses23['Name of Church'].replace('EWC','Empowerment Worship Center')\n",
    "ses23['Name of Church'] = ses23['Name of Church'].replace('CLGM','Other Churches')\n",
    "ses23['Name of Church'] = ses23['Name of Church'].replace('P.O.P','Other Churches')\n",
    "ses23['Name of Church'] = ses23['Name of Church'].replace('Catholic','Roman Catholic')\n",
    "ses23['Name of Church'] = ses23['Name of Church'].replace('CK. Global','Other Churches')\n",
    "ses23['Name of Church'] = ses23['Name of Church'].replace('Gate of life church ','Gate of Life Church')\n",
    "ses23['Name of Church'] = ses23['Name of Church'].replace('EP Church','Evangelical Presbyterian Church')\n",
    "ses23['Name of Church'] = ses23['Name of Church'].replace('MPCI','Other Churches')\n",
    "ses23['Name of Church'] = ses23['Name of Church'].replace('Aphongman','Other Churches')\n",
    "ses23['Name of Church'] = ses23['Name of Church'].replace('Calvary Methodist ','Methodist Church of Ghana')\n",
    "ses23['Name of Church'] = ses23['Name of Church'].replace('Shiloh Outreach ','Shiloh Outreach')\n",
    "ses23['Name of Church'] = ses23['Name of Church'].replace('PIWC, Tema','Church of Pentecost')\n",
    "ses23['Name of Church'] = ses23['Name of Church'].replace('Catholic church','Roman Catholic')\n",
    "ses23['Name of Church'] = ses23['Name of Church'].replace('Fours quare','Foursquare Gospel Church')\n",
    "ses23['Name of Church'] = ses23['Name of Church'].replace('Foursquare','Foursquare Gospel Church')\n",
    "ses23['Name of Church'] = ses23['Name of Church'].replace('IBC','Other Churches')\n",
    "ses23['Name of Church'] = ses23['Name of Church'].replace('LCRC The Royal Church','The Royal Church')\n",
    "ses23['Name of Church'] = ses23['Name of Church'].replace('MCC','Other Churches')\n",
    "ses23['Name of Church'] = ses23['Name of Church'].replace('Christ Love Evan','Christ Love Evangelistic')\n",
    "ses23['Name of Church'] = ses23['Name of Church'].replace('BOG ','Other Churches')\n",
    "ses23['Name of Church'] = ses23['Name of Church'].replace('ACI','Action Chapel International')\n",
    "ses23['Name of Church'] = ses23['Name of Church'].replace('CLWCI','Other Churches')\n",
    "ses23['Name of Church'] = ses23['Name of Church'].replace('TWS','Other Churches')\n",
    "ses23['Name of Church'] = ses23['Name of Church'].replace('LCI','Lighthouse Chapel International')\n",
    "ses23['Name of Church'] = ses23['Name of Church'].replace('Methodist','Methodist Church of Ghana')\n",
    "ses23['Name of Church'] = ses23['Name of Church'].replace('SFHC','Other Churches')\n",
    "ses23['Name of Church'] = ses23['Name of Church'].replace('TDC','Other Churches')\n",
    "ses23['Name of Church'] = ses23['Name of Church'].replace('ASSEMBLY','Assemblies of God')\n",
    "ses23['Name of Church'] = ses23['Name of Church'].replace('CARM','Other Churches')\n",
    "ses23['Name of Church'] = ses23['Name of Church'].replace('RCCG','Redeemed Christian Church of God')\n",
    "ses23['Name of Church'] = ses23['Name of Church'].replace('RWCI','Other Churches')\n",
    "ses23['Name of Church'] = ses23['Name of Church'].replace('Global','Global Evangelical')\n",
    "ses23['Name of Church'] = ses23['Name of Church'].replace('SWCC','Other Churches')\n",
    "ses23['Name of Church'] = ses23['Name of Church'].replace('TBC ','Trinity Baptist Church')\n",
    "ses23['Name of Church'] = ses23['Name of Church'].replace('Jesus power church ','Jesus Power Church')\n",
    "ses23['Name of Church'] = ses23['Name of Church'].replace('BOGM ','Other Churches')\n",
    "ses23['Name of Church'] = ses23['Name of Church'].replace('Presby ','Presbyterian Church of Ghana')\n",
    "ses23['Name of Church'] = ses23['Name of Church'].replace('Apostolic','Christ Apostolic Church')\n",
    "ses23['Name of Church'] = ses23['Name of Church'].replace('Abokobi ','Other Churches')\n",
    "ses23['Name of Church'] = ses23['Name of Church'].replace('Zion mission outreach ','Zion Mission Outreach')\n",
    "ses23['Name of Church'] = ses23['Name of Church'].replace('BOAM ','Other Churches')\n",
    "ses23['Name of Church'] = ses23['Name of Church'].replace('charismatic Evangelistic Ministry','Charismatic Evangelistic Ministry')\n",
    "ses23['Name of Church'] = ses23['Name of Church'].replace('Harvest','Harvest Chapel International')\n",
    "ses23['Name of Church'] = ses23['Name of Church'].replace('Scoan ','Synagogue Church of All Nations')\n",
    "ses23['Name of Church'] = ses23['Name of Church'].replace('Royals Chapel ','The Royal Chapel')\n",
    "ses23['Name of Church'] = ses23['Name of Church'].replace('CMC','Other Churches')\n",
    "ses23['Name of Church'] = ses23['Name of Church'].replace('Glory Embarry ','Glory Embassy')\n",
    "ses23['Name of Church'] = ses23['Name of Church'].replace('C.A. Min. Int','Other Churches')\n",
    "ses23['Name of Church'] = ses23['Name of Church'].replace('Church on Mission','Church on Missions')\n",
    "ses23['Name of Church'] = ses23['Name of Church'].replace('Word of Testimony ','Word of Testimony')\n",
    "ses23['Name of Church'] = ses23['Name of Church'].replace('JWC','Jehovah Witness Center')\n",
    "ses23['Name of Church'] = ses23['Name of Church'].replace('Reves ','Other Churches')\n",
    "ses23['Name of Church'] = ses23['Name of Church'].replace('PRAISE CHAPEL','Praise Chapel')\n",
    "ses23['Name of Church'] = ses23['Name of Church'].replace('SPM','Other Churches')\n",
    "ses23['Name of Church'] = ses23['Name of Church'].replace('Discovering Ministry ','Discovering Ministry')\n",
    "ses23['Name of Church'] = ses23['Name of Church'].replace('Yopougon church ','Yopougon church')\n",
    "ses23['Name of Church'] = ses23['Name of Church'].replace('Winners Chapel ','Winners Chapel')\n",
    "ses23['Name of Church'] = ses23['Name of Church'].replace('JP Ministries ','JP Ministries')\n",
    "ses23['Name of Church'] = ses23['Name of Church'].replace('Resurrection Power International ','Resurrection Power International')\n",
    "ses23['Name of Church'] = ses23['Name of Church'].replace('Word Of Faith Sanctuary ','Word Of Faith Sanctuary')\n",
    "ses23['Name of Church'] = ses23['Name of Church'].replace('Winners ','Winners Chapel')\n",
    "ses23['Name of Church'] = ses23['Name of Church'].replace('TRC','Other Churches')\n",
    "ses23['Name of Church'] = ses23['Name of Church'].replace('Ebenezer ','Other Churches')\n",
    "ses23['Name of Church'] = ses23['Name of Church'].replace('The Royal Church ','The Royal Church')\n",
    "ses23['Name of Church'] = ses23['Name of Church'].replace('Church of Missions International ','Church of Missions International')\n",
    "ses23['Name of Church'] = ses23['Name of Church'].replace( 'Light house ','Lighthouse Chapel International')\n",
    "ses23['Name of Church'] = ses23['Name of Church'].replace('ROYALS','The Royal Church')\n",
    "ses23['Name of Church'] = ses23['Name of Church'].replace('Catholic ','Roman Catholic')\n",
    "ses23['Name of Church'] = ses23['Name of Church'].replace('True Christian Life Ministry ','True Christian Life Ministry')\n",
    "ses23['Name of Church'] = ses23['Name of Church'].replace('Possibilities Chapel ','Possibilities Chapel')\n",
    "ses23['Name of Church'] = ses23['Name of Church'].replace('Posibilities','Possibilities Chapel')\n",
    "ses23['Name of Church'] = ses23['Name of Church'].replace('Harvest Chapel ','Harvest Chapel International')\n",
    "ses23['Name of Church'] = ses23['Name of Church'].replace('Light House','Lighthouse Chapel International')\n",
    "ses23['Name of Church'] = ses23['Name of Church'].replace('Destiny Revival Ministries ','Destiny Revival Ministries')\n",
    "ses23['Name of Church'] = ses23['Name of Church'].replace('Perfecting Faith ','Perfecting Faith')\n",
    "ses23['Name of Church'] = ses23['Name of Church'].replace('Rep. Ministry ','Rep. Ministry')\n",
    "ses23['Name of Church'] = ses23['Name of Church'].replace('CAC','Christ Apostolic Church')\n",
    "ses23['Name of Church'] = ses23['Name of Church'].replace('Possibilities Church ','Possibilities Chapel')\n",
    "ses23['Name of Church'] = ses23['Name of Church'].replace('Action Chapel International ','Action Chapel International')\n",
    "ses23['Name of Church'] = ses23['Name of Church'].replace('Success Academy ','Success Academy')\n",
    "ses23['Name of Church'] = ses23['Name of Church'].replace('ROMAN','Roman Catholic')\n",
    "ses23['Name of Church'] = ses23['Name of Church'].replace('God church ','Church of God')\n",
    "ses23['Name of Church'] = ses23['Name of Church'].replace('Jesus Life Ministry ','Jesus Life Ministry')\n",
    "ses23['Name of Church'] = ses23['Name of Church'].replace('JGM','Other Churches')\n",
    "ses23['Name of Church'] = ses23['Name of Church'].replace('GLK','Other Churches')\n",
    "ses23['Name of Church'] = ses23['Name of Church'].replace('CACI','Christ Apostolic Church')\n",
    "ses23['Name of Church'] = ses23['Name of Church'].replace('CIM','Other Churches')\n",
    "ses23['Name of Church'] = ses23['Name of Church'].replace('Possibilities','Possibilities Chapel')\n",
    "ses23['Name of Church'] = ses23['Name of Church'].replace('Possibilities Church','Possibilities Chapel')\n",
    "ses23['Name of Church'] = ses23['Name of Church'].replace('GIL','Other Churches')\n",
    "ses23['Name of Church'] = ses23['Name of Church'].replace('PCM ','Other Churches')\n",
    "ses23['Name of Church'] = ses23['Name of Church'].replace('Lighthouse ','Lighthouse Chapel International')\n",
    "ses23['Name of Church'] = ses23['Name of Church'].replace('CCCW','Other Churches')\n",
    "ses23['Name of Church'] = ses23['Name of Church'].replace('G.V.M','Other Churches')\n",
    "ses23['Name of Church'] = ses23['Name of Church'].replace('WLT','Other Churches')\n",
    "ses23['Name of Church'] = ses23['Name of Church'].replace('R.C.C','Other Churches')\n",
    "ses23['Name of Church'] = ses23['Name of Church'].replace('Baptis','Baptist Church of Ghana')\n",
    "ses23['Name of Church'] = ses23['Name of Church'].replace('Springs of Life Chapel ','Springs of Life')\n",
    "ses23['Name of Church'] = ses23['Name of Church'].replace('Springs of life','Springs of Life')\n",
    "ses23['Name of Church'] = ses23['Name of Church'].replace('Light house','Lighthouse Chapel International')\n",
    "ses23['Name of Church'] = ses23['Name of Church'].replace('E.P','Evangelical Presbyterian Church')\n",
    "ses23['Name of Church'] = ses23['Name of Church'].replace('G.E.C','Other Churches')\n",
    "ses23['Name of Church'] = ses23['Name of Church'].replace('S.C.I','Other Churches')\n",
    "ses23['Name of Church'] = ses23['Name of Church'].replace('AIG ','Other Churches')\n",
    "ses23['Name of Church'] = ses23['Name of Church'].replace('CGBC','Other Churches')\n",
    "ses23['Name of Church'] = ses23['Name of Church'].replace('LWP','Other Churches')\n",
    "ses23['Name of Church'] = ses23['Name of Church'].replace('SCI','Other Churches')\n",
    "ses23['Name of Church'] = ses23['Name of Church'].replace('CDA','Other Churches')\n",
    "ses23['Name of Church'] = ses23['Name of Church'].replace('JCM','Other Churches')\n",
    "ses23['Name of Church'] = ses23['Name of Church'].replace('D.R.M','Other Churches')\n",
    "ses23['Name of Church'] = ses23['Name of Church'].replace('COM. Int','Other Churches')\n",
    "ses23['Name of Church'] = ses23['Name of Church'].replace('VPC','Other Churches')\n",
    "ses23['Name of Church'] = ses23['Name of Church'].replace('LIC','Other Churches')\n",
    "ses23['Name of Church'] = ses23['Name of Church'].replace('CWCC','Other Churches')\n",
    "ses23['Name of Church'] = ses23['Name of Church'].replace('IPPM','Other Churches')\n",
    "ses23['Name of Church'] = ses23['Name of Church'].replace('TPC','Other Churches')\n",
    "ses23['Name of Church'] = ses23['Name of Church'].replace('Comi International ','Other Churches')\n",
    "ses23['Name of Church'] = ses23['Name of Church'].replace('KECC','Other Churches')\n",
    "ses23['Name of Church'] = ses23['Name of Church'].replace('INT COM','Other Churches')\n",
    "ses23['Name of Church'] = ses23['Name of Church'].replace('Action Chapel ','Action Chapel International')\n",
    "ses23['Name of Church'] = ses23['Name of Church'].replace('Ebenezer','Other Churches')\n",
    "ses23['Name of Church'] = ses23['Name of Church'].replace('Presbyterian ','Presbyterian Church of Ghana')\n",
    "ses23['Name of Church'] = ses23['Name of Church'].replace('Christian love church ','Christian Love Church')\n",
    "ses23['Name of Church'] = ses23['Name of Church'].replace('Spintex','Other Churches')\n",
    "ses23['Name of Church'] = ses23['Name of Church'].replace('GLB Min','Other Churches')\n",
    "ses23['Name of Church'] = ses23['Name of Church'].replace('FIA','Other Churches')\n",
    "ses23['Name of Church'] = ses23['Name of Church'].replace('TRC ','Other Churches')\n",
    "ses23['Name of Church'] = ses23['Name of Church'].replace('PLFM','Other Churches')\n",
    "ses23['Name of Church'] = ses23['Name of Church'].replace('C.S.C','Other Churches')\n",
    "ses23['Name of Church'] = ses23['Name of Church'].replace('Charis ','Charis Ministries International')\n",
    "ses23['Name of Church'] = ses23['Name of Church'].replace('St.Barnabas','Other Churches')\n",
    "ses23['Name of Church'] = ses23['Name of Church'].replace('LIM','Other Churches')\n",
    "ses23['Name of Church'] = ses23['Name of Church'].replace('TACG','Other Churches')\n",
    "ses23['Name of Church'] = ses23['Name of Church'].replace('KDAI','Other Churches')\n",
    "ses23['Name of Church'] = ses23['Name of Church'].replace('JWLIM','Other Churches')\n",
    "ses23['Name of Church'] = ses23['Name of Church'].replace('Deserti','Other Churches')\n",
    "ses23['Name of Church'] = ses23['Name of Church'].replace('Truth','Other Churches')\n",
    "ses23['Name of Church'] = ses23['Name of Church'].replace('Shiloe  Temp','Shiloh Temple')\n",
    "ses23['Name of Church'] = ses23['Name of Church'].replace('Word Of Sanctuary ','Word Of Sanctuary')\n",
    "ses23['Name of Church'] = ses23['Name of Church'].replace('KCC','Other Churches')\n",
    "ses23['Name of Church'] = ses23['Name of Church'].replace('Christ Alive ','Other Churches')\n",
    "ses23['Name of Church'] = ses23['Name of Church'].replace('CHORKOR','Other Churches')\n",
    "ses23['Name of Church'] = ses23['Name of Church'].replace('Ridge','Other Churches')\n",
    "ses23['Name of Church'] = ses23['Name of Church'].replace('PMC','Other Churches')\n",
    "ses23['Name of Church'] = ses23['Name of Church'].replace('Jericho','Other Churches')\n",
    "ses23['Name of Church'] = ses23['Name of Church'].replace('Universe','Other Churches')\n",
    "ses23['Name of Church'] = ses23['Name of Church'].replace('GPCPI','Other Churches')\n",
    "ses23['Name of Church'] = ses23['Name of Church'].replace('Pabtist','Baptist Church of Ghana')\n",
    "ses23['Name of Church'] = ses23['Name of Church'].replace('CBC','Other Churches')\n",
    "ses23['Name of Church'] = ses23['Name of Church'].replace('Royal house','Royalhouse Chapel International')\n",
    "ses23['Name of Church'] = ses23['Name of Church'].replace('EPFM','Other Churches')\n",
    "ses23['Name of Church'] = ses23['Name of Church'].replace('Visiting ','Other Churches')\n",
    "ses23['Name of Church'] = ses23['Name of Church'].replace('MSPM','Other Churches')\n",
    "ses23['Name of Church'] = ses23['Name of Church'].replace('PENSA','Church of Pentecost')\n",
    "ses23['Name of Church'] = ses23['Name of Church'].replace('Baptist Church ','Baptist Church of Ghana')\n",
    "ses23['Name of Church'] = ses23['Name of Church'].replace('Royal Church ','The Royal Church')\n",
    "ses23['Name of Church'] = ses23['Name of Church'].replace('Royal Chapel ','The Royal Church')\n",
    "ses23['Name of Church'] = ses23['Name of Church'].replace('Passion Church International ','Passion Church International')\n",
    "ses23['Name of Church'] = ses23['Name of Church'].replace('Charis Ministries','Charis Ministries International')\n",
    "ses23['Name of Church'] = ses23['Name of Church'].replace('Fruitful Vine ','Fruitful Vine')\n",
    "ses23['Name of Church'] = ses23['Name of Church'].replace('SOLUTION CENTER','Solution Center')\n",
    "ses23['Name of Church'] = ses23['Name of Church'].replace('Top Church International ','Top Church International')\n",
    "ses23['Name of Church'] = ses23['Name of Church'].replace('Banner Of Love ','Banner of Love')\n",
    "ses23['Name of Church'] = ses23['Name of Church'].replace('Ashongman Estates','Other Churches')\n",
    "ses23['Name of Church'] = ses23['Name of Church'].replace('MOG','Other Churches')\n",
    "ses23['Name of Church'] = ses23['Name of Church'].replace('POPPG','Other Churches')\n",
    "ses23['Name of Church'] = ses23['Name of Church'].replace('STEN','Other Churches')\n",
    "ses23['Name of Church'] = ses23['Name of Church'].replace('HARVEST','Harvest Chapel International')\n",
    "ses23['Name of Church'] = ses23['Name of Church'].replace('NEW WAVE','New Wave')\n",
    "ses23['Name of Church'] = ses23['Name of Church'].replace('EXCHANGE CHURCH','Exchange Church')\n",
    "ses23['Name of Church'] = ses23['Name of Church'].replace('Fiqa','Other Churches')\n",
    "ses23['Name of Church'] = ses23['Name of Church'].replace('Kings','Other Churches')\n",
    "ses23['Name of Church'] = ses23['Name of Church'].replace('Roman catholic','Roman Catholic')\n",
    "ses23['Name of Church'] = ses23['Name of Church'].replace('Apostolic ','Christ Apostolic Church')\n",
    "ses23['Name of Church'] = ses23['Name of Church'].replace('Fire Camp','Fire Camp Universal Mission')\n",
    "ses23['Name of Church'] = ses23['Name of Church'].replace('Teminar','Other Churches')\n",
    "ses23['Name of Church'] = ses23['Name of Church'].replace('Peniel','Other Churches')\n",
    "ses23['Name of Church'] = ses23['Name of Church'].replace('Harvest Trmple','Harvest Temple')\n",
    "ses23['Name of Church'] = ses23['Name of Church'].replace('First fruit','First Fruit')\n",
    "ses23['Name of Church'] = ses23['Name of Church'].replace('Possibilities ','Possibilities Chapel')\n",
    "ses23['Name of Church'] = ses23['Name of Church'].replace('Blessed','Other Churches')\n",
    "ses23['Name of Church'] = ses23['Name of Church'].replace('Blessing Arista center ','Blessing Arista center')\n",
    "ses23['Name of Church'] = ses23['Name of Church'].replace('Convenant Revelation Ministry ','Covenant Revelation Ministry')\n",
    "ses23['Name of Church'] = ses23['Name of Church'].replace('Life Cathederal','Life Cathedral')\n",
    "ses23['Name of Church'] = ses23['Name of Church'].replace('Possibility chapel','Possibilities Chapel')\n",
    "ses23['Name of Church'] = ses23['Name of Church'].replace('El-Adonai','Other Churches')\n",
    "ses23['Name of Church'] = ses23['Name of Church'].replace('Winners Chapel International ','Winners Chapel International')\n",
    "ses23['Name of Church'] = ses23['Name of Church'].replace('Royal House Chapel ','Royalhouse Chapel International')\n",
    "ses23['Name of Church'] = ses23['Name of Church'].replace('House Prayer Chapel ','House of Prayer Chapel')\n",
    "ses23['Name of Church'] = ses23['Name of Church'].replace('Figa','Other Churches')\n",
    "ses23['Name of Church'] = ses23['Name of Church'].replace('Church on mission','Church on Missions')\n",
    "ses23['Name of Church'] = ses23['Name of Church'].replace('Church of possibilities','Possibilities Chapel')\n",
    "ses23['Name of Church'] = ses23['Name of Church'].replace('Steadfast Love ','Steadfast Love')\n",
    "ses23['Name of Church'] = ses23['Name of Church'].replace('Glorious Church ','Glorious Church')\n",
    "ses23['Name of Church'] = ses23['Name of Church'].replace('Fountain of Revival ','Fountain of Revival')\n",
    "ses23['Name of Church'] = ses23['Name of Church'].replace('Destiny International ','Destiny International')\n",
    "ses23['Name of Church'] = ses23['Name of Church'].replace('Baptise','Baptist Church of Ghana')\n",
    "ses23['Name of Church'] = ses23['Name of Church'].replace('Grace Temp','Grace Temple')\n",
    "ses23['Name of Church'] = ses23['Name of Church'].replace('Church On Missions ','Church On Missions')\n",
    "ses23['Name of Church'] = ses23['Name of Church'].replace('Dunamic Grace Chapel','Dunamis Grace Chapel')\n",
    "ses23['Name of Church'] = ses23['Name of Church'].replace('Transforming life','Transforming Life')\n",
    "ses23['Name of Church'] = ses23['Name of Church'].replace('Espire vic','Other Churches')\n",
    "ses23['Name of Church'] = ses23['Name of Church'].replace('Prayer Sub','Other Churches')\n",
    "ses23['Name of Church'] = ses23['Name of Church'].replace('Word of Faith','Other Churches')\n",
    "ses23['Name of Church'] = ses23['Name of Church'].replace('Revival','Other Churches')\n",
    "ses23['Name of Church'] = ses23['Name of Church'].replace('Exchange Church','Other Churches')\n",
    "ses23['Name of Church'] = ses23['Name of Church'].replace('Seventh Day Adventist','Other Churches')\n",
    "ses23['Name of Church'] = ses23['Name of Church'].replace('Coin Int','Other Churches')\n",
    "ses23['Name of Church'] = ses23['Name of Church'].replace('JP Ministries','Other Churches')\n",
    "ses23['Name of Church'] = ses23['Name of Church'].replace('Jehovah Witness','Other Churches')\n",
    "ses23['Name of Church'] = ses23['Name of Church'].replace('Higher lifeCC','Other Churches')\n",
    "ses23['Name of Church'] = ses23['Name of Church'].replace('TOP ministry','Other Churches')\n",
    "ses23['Name of Church'] = ses23['Name of Church'].replace('Call Out Min. Int. Ho','Other Churches')\n",
    "ses23['Name of Church'] = ses23['Name of Church'].replace(\"For Christ's Sake Ministry\",'Other Churches')\n",
    "ses23['Name of Church'] = ses23['Name of Church'].replace('First Fruit','Other Churches')\n",
    "ses23['Name of Church'] = ses23['Name of Church'].replace('Glorious Church','Other Churches')\n",
    "ses23['Name of Church'] = ses23['Name of Church'].replace('Living Hope International','Other Churches')\n",
    "ses23['Name of Church'] = ses23['Name of Church'].replace('Full light','Other Churches')\n",
    "ses23['Name of Church'] = ses23['Name of Church'].replace('House of Prayer Chapel','Other Churches')\n",
    "ses23['Name of Church'] = ses23['Name of Church'].replace('Jesus Profession','Other Churches')\n",
    "ses23['Name of Church'] = ses23['Name of Church'].replace('New Wave','Other Churches')\n",
    "ses23['Name of Church'] = ses23['Name of Church'].replace('Keep gate','Other Churches')\n",
    "ses23['Name of Church'] = ses23['Name of Church'].replace('Generations','Other Churches')\n",
    "ses23['Name of Church'] = ses23['Name of Church'].replace('Transforming Life','Other Churches')\n",
    "ses23['Name of Church'] = ses23['Name of Church'].replace('Steadfast Love','Other Churches')\n",
    "ses23['Name of Church'] = ses23['Name of Church'].replace('Evergreen Harvest','Other Churches')\n",
    "ses23['Name of Church'] = ses23['Name of Church'].replace('Perfecting Faith','Other Churches')\n",
    "ses23['Name of Church'] = ses23['Name of Church'].replace('Word of faith','Other Churches')\n",
    "ses23['Name of Church'] = ses23['Name of Church'].replace('Ephrata','Other Churches')\n",
    "ses23['Name of Church'] = ses23['Name of Church'].replace('Christ Apostolic church','Christ Apostolic Church')\n",
    "ses23['Name of Church'] = ses23['Name of Church'].replace('Dominion Winners','Other Churches')\n",
    "ses23['Name of Church'] = ses23['Name of Church'].replace('FIG ministry','Other Churches')\n",
    "ses23['Name of Church'] = ses23['Name of Church'].replace('Solution Center','Other Churches')\n",
    "ses23['Name of Church'] = ses23['Name of Church'].replace('Word Of Faith Sanctuary','Other Churches')\n",
    "ses23['Name of Church'] = ses23['Name of Church'].replace('Success Academy','Other Churches')\n",
    "ses23['Name of Church'] = ses23['Name of Church'].replace('Jehovah Witness Center','Other Churches')\n",
    "ses23['Name of Church'] = ses23['Name of Church'].replace('Living Bread','Other Churches')\n",
    "ses23['Name of Church'] = ses23['Name of Church'].replace('Pure Love Family Ministry','Other Churches')\n",
    "ses23['Name of Church'] = ses23['Name of Church'].replace(\"El's Prayer Palace\",'Other Churches')\n",
    "ses23['Name of Church'] = ses23['Name of Church'].replace('The Royal Church','Other Churches')\n",
    "ses23['Name of Church'] = ses23['Name of Church'].replace('Zion Prayer Min','Other Churches')\n",
    "ses23['Name of Church'] = ses23['Name of Church'].replace('Fruitful Vine','Other Churches')\n",
    "ses23['Name of Church'] = ses23['Name of Church'].replace('Sam Light Min','Other Churches')\n",
    "ses23['Name of Church'] = ses23['Name of Church'].replace('Synagogue Church of All Nations','Other Churches')\n",
    "ses23['Name of Church'] = ses23['Name of Church'].replace('Shiloh Outreach','Other Churches')\n",
    "ses23['Name of Church'] = ses23['Name of Church'].replace('Revail','Other Churches')\n",
    "ses23['Name of Church'] = ses23['Name of Church'].replace('Lighthouse','Lighthouse Chapel International')\n",
    "ses23['Name of Church'] = ses23['Name of Church'].replace('Holy Fire Prophetic Min','Other Churches')\n",
    "ses23['Name of Church'] = ses23['Name of Church'].replace('Rapha Centre','Other Churches')\n",
    "ses23['Name of Church'] = ses23['Name of Church'].replace('First Century','Other Churches')\n",
    "ses23['Name of Church'] = ses23['Name of Church'].replace('Redeemed Christian Church of God','Other Churches')\n",
    "ses23['Name of Church'] = ses23['Name of Church'].replace('Praise Chapel','Other Churches')\n",
    "ses23['Name of Church'] = ses23['Name of Church'].replace('Resurrection Power International','Other Churches')\n",
    "ses23['Name of Church'] = ses23['Name of Church'].replace('True Christian Life Ministry','Other Churches')\n",
    "ses23['Name of Church'] = ses23['Name of Church'].replace('Bread of Life','Other Churches')\n",
    "ses23['Name of Church'] = ses23['Name of Church'].replace('Prevailing House of Prayer','Other Churches')\n",
    "ses23['Name of Church'] = ses23['Name of Church'].replace('Word Of Sanctuary','Other Churches')\n",
    "ses23['Name of Church'] = ses23['Name of Church'].replace('Christian Light Gos.','Other Churches')\n",
    "ses23['Name of Church'] = ses23['Name of Church'].replace('The Royal Chapel','Other Churches')\n",
    "ses23['Name of Church'] = ses23['Name of Church'].replace('Jesus Salvation','Other Churches')\n",
    "ses23['Name of Church'] = ses23['Name of Church'].replace('Word of Testimony','Other Churches')\n",
    "ses23['Name of Church'] = ses23['Name of Church'].replace('Promises Chapel Int.','Other Churches')\n",
    "ses23['Name of Church'] = ses23['Name of Church'].replace('Christ Heavenly','Other Churches')\n",
    "ses23['Name of Church'] = ses23['Name of Church'].replace('Promises Chapel Int.','Other Churches')\n",
    "ses23['Name of Church'] = ses23['Name of Church'].replace('Christ Heavenly','Other Churches')\n",
    "ses23['Name of Church'] = ses23['Name of Church'].replace('1st Baptist Church','Other Churches')\n",
    "ses23['Name of Church'] = ses23['Name of Church'].replace('Elolim Proaouce','Other Churches')\n",
    "ses23['Name of Church'] = ses23['Name of Church'].replace('Faith Word Prayer','Other Churches')\n",
    "ses23['Name of Church'] = ses23['Name of Church'].replace('Joyful life Church','Other Churches')\n",
    "ses23['Name of Church'] = ses23['Name of Church'].replace('Word Of Faith','Other Churches')\n",
    "ses23['Name of Church'] = ses23['Name of Church'].replace('Discovering Ministry','Other Churches')\n",
    "ses23['Name of Church'] = ses23['Name of Church'].replace('Jesus Life Ministry','Other Churches')\n",
    "ses23['Name of Church'] = ses23['Name of Church'].replace('Glory Embassy','Other Churches')\n",
    "ses23['Name of Church'] = ses23['Name of Church'].replace('Grace Mountain','Other Churches')\n",
    "ses23['Name of Church'] = ses23['Name of Church'].replace('Deeper life','Deeper Life')\n",
    "ses23['Name of Church'] = ses23['Name of Church'].replace('Life Cathedral','Other Churches')\n",
    "ses23['Name of Church'] = ses23['Name of Church'].replace('Jesus Power','Other Churches')\n",
    "ses23['Name of Church'] = ses23['Name of Church'].replace('Harvest Temple','Other Churches')\n",
    "ses23['Name of Church'] = ses23['Name of Church'].replace('Desmond Yarjah Ministries','Other Churches')\n",
    "ses23['Name of Church'] = ses23['Name of Church'].replace('Faith Power','Other Churches')\n",
    "ses23['Name of Church'] = ses23['Name of Church'].replace('Blessing Arista center','Other Churches')\n",
    "ses23['Name of Church'] = ses23['Name of Church'].replace('Dominion','Other Churches')\n",
    "ses23['Name of Church'] = ses23['Name of Church'].replace('All Nations','Other Churches')\n",
    "ses23['Name of Church'] = ses23['Name of Church'].replace('Passion Church International','Other Churches')\n",
    "ses23['Name of Church'] = ses23['Name of Church'].replace('Christ Lunie du Nation','Other Churches')\n",
    "ses23['Name of Church'] = ses23['Name of Church'].replace('Gospel Light','Other Churches')\n",
    "ses23['Name of Church'] = ses23['Name of Church'].replace('Fire family','Other Churches')\n",
    "ses23['Name of Church'] = ses23['Name of Church'].replace('The Church on Rock','Other Churches')\n",
    "ses23['Name of Church'] = ses23['Name of Church'].replace('Christian Love Church','Other Churches')\n",
    "ses23['Name of Church'] = ses23['Name of Church'].replace('Winners Chapel International','Other Churches')\n",
    "ses23['Name of Church'] = ses23['Name of Church'].replace('Solution of Christ Ministry','Other Churches')\n",
    "ses23['Name of Church'] = ses23['Name of Church'].replace('Radiant Place','Other Churches')\n",
    "ses23['Name of Church'] = ses23['Name of Church'].replace('Destiny Revival Ministries','Other Churches')\n",
    "ses23['Name of Church'] = ses23['Name of Church'].replace('Builders Christian church','Other Churches')\n",
    "ses23['Name of Church'] = ses23['Name of Church'].replace('Rep. Ministry','Other Churches')\n",
    "ses23['Name of Church'] = ses23['Name of Church'].replace('Spirit of life','Other Churches')\n",
    "ses23['Name of Church'] = ses23['Name of Church'].replace('Torchworld Ministries','Other Churches')\n",
    "ses23['Name of Church'] = ses23['Name of Church'].replace('Resurrection Temple','Other Churches')\n",
    "ses23['Name of Church'] = ses23['Name of Church'].replace('Shallom Chapel','Other Churches')\n",
    "ses23['Name of Church'] = ses23['Name of Church'].replace('Favour Ministry','Other Churches')\n",
    "ses23['Name of Church'] = ses23['Name of Church'].replace('Awesome Grace Network','Other Churches')\n",
    "ses23['Name of Church'] = ses23['Name of Church'].replace('Light of life','Other Churches')\n",
    "ses23['Name of Church'] = ses23['Name of Church'].replace('Spring of Life','Other Churches')\n",
    "ses23['Name of Church'] = ses23['Name of Church'].replace('Jesu est la solute','Other Churches')\n",
    "ses23['Name of Church'] = ses23['Name of Church'].replace('Sheepgate','Other Churches')\n",
    "ses23['Name of Church'] = ses23['Name of Church'].replace('Top Church International','Other Churches')\n",
    "ses23['Name of Church'] = ses23['Name of Church'].replace('Christian Light','Other Churches')\n",
    "ses23['Name of Church'] = ses23['Name of Church'].replace('Life Worship Center','Other Churches')\n",
    "ses23['Name of Church'] = ses23['Name of Church'].replace('Dunamis Grace Chapel','Other Churches')\n",
    "ses23['Name of Church'] = ses23['Name of Church'].replace('Methodist','Other Churches')\n",
    "ses23['Name of Church'] = ses23['Name of Church'].replace('Shiloh Temple','Other Churches')\n",
    "ses23['Name of Church'] = ses23['Name of Church'].replace('Christian Prescence Room','Other Churches')\n",
    "ses23['Name of Church'] = ses23['Name of Church'].replace('Fountain of Revival','Other Churches')\n",
    "ses23['Name of Church'] = ses23['Name of Church'].replace('Christ Love Evangelistic','Other Churches')\n",
    "ses23['Name of Church'] = ses23['Name of Church'].replace('Passion Chapel','Other Churches')\n",
    "ses23['Name of Church'] = ses23['Name of Church'].replace('Life City','Other Churches')\n",
    "ses23['Name of Church'] = ses23['Name of Church'].replace('True Word','Other Churches')\n",
    "ses23['Name of Church'] = ses23['Name of Church'].replace('Mission Temple','Other Churches')\n",
    "ses23['Name of Church'] = ses23['Name of Church'].replace('True Covenant','Other Churches')\n",
    "ses23['Name of Church'] = ses23['Name of Church'].replace('Banner of Love','Other Churches')\n",
    "ses23['Name of Church'] = ses23['Name of Church'].replace('Christ Embassy','Other Churches')\n",
    "ses23['Name of Church'] = ses23['Name of Church'].replace('Methodist','Methodist Church of Ghana')\n",
    "ses23['Name of Church'] = ses23['Name of Church'].replace('CFVC','Other Churches')\n",
    "ses23['Name of Church'] = ses23['Name of Church'].replace('CFVC','Other Churches')"
   ]
  },
  {
   "cell_type": "code",
   "execution_count": 24,
   "id": "8af473e2",
   "metadata": {},
   "outputs": [
    {
     "data": {
      "text/plain": [
       "array(['Other Churches', 'Perez Chapel International',\n",
       "       'Christ Youth Network', 'Calvary Power', 'Church of Pentecost',\n",
       "       'Charis Ministries International', 'Trinity Baptist Church', nan,\n",
       "       'Action Chapel International', 'Royalhouse Chapel International',\n",
       "       'Anglican', 'Harvest Chapel International', 'Possibilities Chapel',\n",
       "       'Roman Catholic', 'Church of Christ',\n",
       "       'International Central Gospel Church', 'Deeper Life',\n",
       "       'Victory Bible Church International', 'Assemblies of God',\n",
       "       'Foursquare Gospel Church', 'Church of God',\n",
       "       'Methodist Church of Ghana', 'Christ Glorious',\n",
       "       'Evangelical Presbyterian Church', 'Nations Chapel',\n",
       "       'Jesus Power Church', 'Global Evangelical',\n",
       "       'Royal Fortress Ministry', \"Potter's'City\", 'Springs of Life',\n",
       "       'Christian Love', 'Charismatic Evangelistic Ministry',\n",
       "       'Presbyterian Church of Ghana', 'Yopougon church',\n",
       "       'Empowerment Worship Center', 'Lighthouse Chapel International',\n",
       "       'Gate of Life Church', 'Fire Camp Universal Mission',\n",
       "       'Christ Apostolic Church', 'Winners Chapel',\n",
       "       'Zion Mission Outreach', 'Covenant Revelation Ministry',\n",
       "       'Church of Missions International', 'Zion Citadel',\n",
       "       'Watchword Chapel', 'Gospel Outreach', 'Church on Missions',\n",
       "       'Baptist Church of Ghana', 'Love Harvest ', 'Grace Temple',\n",
       "       'Destiny International', 'Banner of Grace', 'Church On Missions',\n",
       "       'Faith Temple'], dtype=object)"
      ]
     },
     "execution_count": 24,
     "metadata": {},
     "output_type": "execute_result"
    }
   ],
   "source": [
    "ses23['Name of Church'].unique()"
   ]
  },
  {
   "cell_type": "markdown",
   "id": "63443351",
   "metadata": {},
   "source": [
    "##### DISPLAY THE TITLES IN THIS DATASET."
   ]
  },
  {
   "cell_type": "code",
   "execution_count": 25,
   "id": "b3be88f2",
   "metadata": {},
   "outputs": [
    {
     "data": {
      "text/plain": [
       "array(['Mr', 'Rev ', 'Rev.', 'Pastor', 'ELDER MRS.', 'Mrs.', 'Mrs', 'Ps',\n",
       "       'Ms', 'Ms.', 'Mr.', 'Miss', 'Mrs ', 'Dr.', 'Rev', 'Miss ', 'Mr ',\n",
       "       'REV ', 'REV', 'SP', 'Mr. ', 'Mis', 'Apostle', 'Rev. ',\n",
       "       'Cell leader ', 'Ms ', 'Deacon', 'Cell leader', 'Reverend',\n",
       "       'Minister', 'Madam', 'Ps. ', 'Elder', 'Bro', 'Hon', 'Me', 'Ps.',\n",
       "       'Sir', 'Pastor ', 'Bishop', 'Deaconess ', 'Apostle ', 'Madam ',\n",
       "       'Prophet ', 'Dr', 'Djicopitro', 'Deaconess', 'Evangelist',\n",
       "       'Evangelist ', 'Pas', 'MRS', 'Mrs. ', 'MADAM', 'MR', 'PASTOR',\n",
       "       'MADAM ', 'Elder ', 'F', 'Apt', 'Asafo Maame', 'Reverend ',\n",
       "       'Mr/Ms', 'P. Eld.', 'Evang', 'Presiding Elder', 'M & E', 'M & E ',\n",
       "       'Bishop ', 'Prophet', 'Deacon ', 'mrs', 'Daniel', 'MISS', 'Mrs  ',\n",
       "       'Mes', 'Mt', 'Min', 'Madame ', 'Mr..', 'Pst', 'Mre', 'Mr/Miss',\n",
       "       'PS', 'Apst', 'Prof', 'MRS ', 'PS ', 'Mad', 'Deaconnes', 'Eld',\n",
       "       'Overseer', 'Brother ', 'Mme', 'Evan', 'Rev. Prophet', 'Pat ',\n",
       "       'Rev. Dr', 'Master', 'Ps ', 'Prb', 'Prb ', 'Madam Awortwe',\n",
       "       'Doctor ', 'M', 'MR ', 'mr', 'MS', 'BISHOP', 'PROPHET'],\n",
       "      dtype=object)"
      ]
     },
     "execution_count": 25,
     "metadata": {},
     "output_type": "execute_result"
    }
   ],
   "source": [
    "ses23['Title'].unique()"
   ]
  },
  {
   "cell_type": "markdown",
   "id": "c15d860a",
   "metadata": {},
   "source": [
    "##### CORRECT WRONGLY SPELT TITLES."
   ]
  },
  {
   "cell_type": "code",
   "execution_count": 26,
   "id": "badaaeea",
   "metadata": {},
   "outputs": [],
   "source": [
    "ses23['Title'] = ses23['Title'].replace('Presiding Elderer','Presiding Elder')\n",
    "ses23['Title'] = ses23['Title'].replace('Rev ','Rev')\n",
    "ses23['Title'] = ses23['Title'].replace('Pastor','Ps')\n",
    "ses23['Title'] = ses23['Title'].replace('ELDER MRS.','Elder')\n",
    "ses23['Title'] = ses23['Title'].replace('Mrs.','Mrs')\n",
    "ses23['Title'] = ses23['Title'].replace('Ms','Miss')\n",
    "ses23['Title'] = ses23['Title'].replace('Ms.','Miss')\n",
    "ses23['Title'] = ses23['Title'].replace('Mr.','Mr')\n",
    "ses23['Title'] = ses23['Title'].replace('Mrs ','Mrs')\n",
    "ses23['Title'] = ses23['Title'].replace('Dr.','Dr')\n",
    "ses23['Title'] = ses23['Title'].replace('Miss ','Miss')\n",
    "ses23['Title'] = ses23['Title'].replace('Mr ','Mr')\n",
    "ses23['Title'] = ses23['Title'].replace('REV ','Rev')\n",
    "ses23['Title'] = ses23['Title'].replace('REV','Rev')\n",
    "ses23['Title'] = ses23['Title'].replace('SP','Ps')\n",
    "ses23['Title'] = ses23['Title'].replace('Mr. ','Mr')\n",
    "ses23['Title'] = ses23['Title'].replace('Mis','Miss')\n",
    "ses23['Title'] = ses23['Title'].replace('Rev. ','Rev')\n",
    "ses23['Title'] = ses23['Title'].replace('Cell leader ','Cell leader')\n",
    "ses23['Title'] = ses23['Title'].replace('Ms ','Miss')\n",
    "ses23['Title'] = ses23['Title'].replace('Reverend','Rev')\n",
    "ses23['Title'] = ses23['Title'].replace('Madam','Mrs')\n",
    "ses23['Title'] = ses23['Title'].replace('Ps. ','Ps')\n",
    "ses23['Title'] = ses23['Title'].replace('Bro','Mr')\n",
    "ses23['Title'] = ses23['Title'].replace('Me','Mr')\n",
    "ses23['Title'] = ses23['Title'].replace('Ps.','Ps')\n",
    "ses23['Title'] = ses23['Title'].replace('Sir','Mr')\n",
    "ses23['Title'] = ses23['Title'].replace('Pastor ','Ps')\n",
    "ses23['Title'] = ses23['Title'].replace('Deaconess ','Deaconess')\n",
    "ses23['Title'] = ses23['Title'].replace('Apostle ','Apostle')\n",
    "ses23['Title'] = ses23['Title'].replace('Madam ','Mrs')\n",
    "ses23['Title'] = ses23['Title'].replace('Prophet ','Prophet')\n",
    "ses23['Title'] = ses23['Title'].replace('Evangelist ','Evangelist')\n",
    "ses23['Title'] = ses23['Title'].replace('Pas')\n",
    "ses23['Title'] = ses23['Title'].replace('MRS','Mrs')\n",
    "ses23['Title'] = ses23['Title'].replace('Mrs. ','Mrs')\n",
    "ses23['Title'] = ses23['Title'].replace('MADAM','Mrs')\n",
    "ses23['Title'] = ses23['Title'].replace('MR','Mr')\n",
    "ses23['Title'] = ses23['Title'].replace('PASTOR','Ps')\n",
    "ses23['Title'] = ses23['Title'].replace('MADAM ','Mrs')\n",
    "ses23['Title'] = ses23['Title'].replace('Elder ','Elder')\n",
    "ses23['Title'] = ses23['Title'].replace('Apt', 'Apostle')\n",
    "ses23['Title'] = ses23['Title'].replace('F','Mr')\n",
    "ses23['Title'] = ses23['Title'].replace('Asafo Maame','Mrs')\n",
    "ses23['Title'] = ses23['Title'].replace('Reverend ','Rev')\n",
    "ses23['Title'] = ses23['Title'].replace('Mr/Ms','Mr')\n",
    "ses23['Title'] = ses23['Title'].replace('P. Eld.','Presiding Elder')\n",
    "ses23['Title'] = ses23['Title'].replace('Evang','Evangelist')\n",
    "ses23['Title'] = ses23['Title'].replace('M & E','Mr')\n",
    "ses23['Title'] = ses23['Title'].replace('Bishop ','Bishop')\n",
    "ses23['Title'] = ses23['Title'].replace('Deacon ','Deacon')\n",
    "ses23['Title'] = ses23['Title'].replace('mrs','Mrs')\n",
    "ses23['Title'] = ses23['Title'].replace('Daniel','Mr')\n",
    "ses23['Title'] = ses23['Title'].replace('MISS','Miss')\n",
    "ses23['Title'] = ses23['Title'].replace('Mrs  ','Mrs')\n",
    "ses23['Title'] = ses23['Title'].replace('Mes','Mrs')\n",
    "ses23['Title'] = ses23['Title'].replace('Mt','Mr')\n",
    "ses23['Title'] = ses23['Title'].replace('Min','Mr')\n",
    "ses23['Title'] = ses23['Title'].replace('Madame ','Mrs')\n",
    "ses23['Title'] = ses23['Title'].replace('Mr..','Mr')\n",
    "ses23['Title'] = ses23['Title'].replace('Pst','Ps')\n",
    "ses23['Title'] = ses23['Title'].replace('Mre','Mrs')\n",
    "ses23['Title'] = ses23['Title'].replace('Mr/Miss','Mr')\n",
    "ses23['Title'] = ses23['Title'].replace('PS','Ps')\n",
    "ses23['Title'] = ses23['Title'].replace('Apst','Apostle')\n",
    "ses23['Title'] = ses23['Title'].replace('MRS ','Mrs')\n",
    "ses23['Title'] = ses23['Title'].replace('PS ','Ps')\n",
    "ses23['Title'] = ses23['Title'].replace('Mad','Mrs')\n",
    "ses23['Title'] = ses23['Title'].replace('Deaconnes','Deaconess')\n",
    "ses23['Title'] = ses23['Title'].replace('Eld','Elder')\n",
    "ses23['Title'] = ses23['Title'].replace('Overseer','Ps')\n",
    "ses23['Title'] = ses23['Title'].replace('Brother ','Mr')\n",
    "ses23['Title'] = ses23['Title'].replace('Mme','Mrs')\n",
    "ses23['Title'] = ses23['Title'].replace('Evan','Evangelist')\n",
    "ses23['Title'] = ses23['Title'].replace('Pat ','Ps')\n",
    "ses23['Title'] = ses23['Title'].replace('Master','Mr')\n",
    "ses23['Title'] = ses23['Title'].replace('Ps ','Ps')\n",
    "ses23['Title'] = ses23['Title'].replace('Prb','Prophet')\n",
    "ses23['Title'] = ses23['Title'].replace('Prb ','Prophet')\n",
    "ses23['Title'] = ses23['Title'].replace('Madam Awortwe','Mrs')\n",
    "ses23['Title'] = ses23['Title'].replace('Doctor ','Dr')\n",
    "ses23['Title'] = ses23['Title'].replace('M','Mr')\n",
    "ses23['Title'] = ses23['Title'].replace('MR','Mr')\n",
    "ses23['Title'] = ses23['Title'].replace('mr','Mr')\n",
    "ses23['Title'] = ses23['Title'].replace('MS','Miss')\n",
    "ses23['Title'] = ses23['Title'].replace('BISHOP','Bishop')\n",
    "ses23['Title'] = ses23['Title'].replace('PROPHET','Prophet')\n",
    "ses23['Title'] = ses23['Title'].replace('M & E ','Mr')\n",
    "ses23['Title'] = ses23['Title'].replace('Djicopitro','Mr')\n",
    "ses23['Title'] = ses23['Title'].replace('MR ','Mr')\n",
    "ses23['Title'] = ses23['Title'].replace('Rev.','Rev')\n",
    "ses23['Title'] = ses23['Title'].replace('Minister','Mr')\n",
    "ses23['Title'] = ses23['Title'].replace('Rev. Dr','Rev')\n",
    "ses23['Title'] = ses23['Title'].replace('Rev. Prophet' ,'Prophet')"
   ]
  },
  {
   "cell_type": "code",
   "execution_count": 27,
   "id": "ffdb2697",
   "metadata": {},
   "outputs": [
    {
     "data": {
      "text/plain": [
       "array(['Mr', 'Rev', 'Ps', 'Elder', 'Mrs', 'Miss', 'Dr', 'Apostle',\n",
       "       'Cell leader', 'Deacon', 'Hon', 'Bishop', 'Deaconess', 'Prophet',\n",
       "       'Evangelist', 'Presiding Elder', 'Prof'], dtype=object)"
      ]
     },
     "execution_count": 27,
     "metadata": {},
     "output_type": "execute_result"
    }
   ],
   "source": [
    "ses23['Title'].unique()"
   ]
  },
  {
   "cell_type": "markdown",
   "id": "c47aa6f7",
   "metadata": {},
   "source": [
    "##### DISPLAY THE COUNTRIES IN THIS DATASET."
   ]
  },
  {
   "cell_type": "code",
   "execution_count": 28,
   "id": "be822d6a",
   "metadata": {},
   "outputs": [
    {
     "data": {
      "text/plain": [
       "array(['Ghana', 'Togo', 'GHANA', 'Ghana ', 'Nigeria', 'Gabon',\n",
       "       'Netherlands ', 'Tchad ', 'Benin', 'Tchad', 'Congo', 'France',\n",
       "       'Ghaba', 'GHANA ', 'Ghans', 'Nigeria ', 'United Kingdom ', 'Togo ',\n",
       "       'Senegal', 'Cameroon ', 'Ghanaian ', 'Congo ', 'Gabon ', 'Guinea',\n",
       "       'Benin ', 'Ivory coast', 'Chad', 'Lvory coast ', 'Coast Ivory',\n",
       "       \"Cote D'Ivoire \", 'C I', 'Cote divoire', 'Holland', 'Niger',\n",
       "       'Côté d’Ivoire', 'CAR', 'Burkina Faso', 'Ivory Coast ',\n",
       "       'Cole divore ', 'Swiss', 'Sierra Leone', 'Gabon/Ghana', 'R.D.C',\n",
       "       \"Cote D'Ivorie\", \"Cote D'Ivoire\", 'Ghana/US', 'South Africa ',\n",
       "       'lawsoneleanor920@gmail.com', 'Cote D’Ivoire', 'Cote D’Ivoire ',\n",
       "       'Zambia', 'Abijan', 'C.A.R', 'South Africa', 'CHC',\n",
       "       'darkohilda@gmail.com', \"Cóte D'voire\", 'Cote d ivai', 'Mali',\n",
       "       'Ivory Coast', 'RCI', 'RCI ', 'T Chad', 'UK', 'Cameroon', 'Guana',\n",
       "       'Belgique', 'C. A. R', 'C.I', \"Cote d'Ivoire \", 'Cote D’Ivore',\n",
       "       'Preciouskaledzi77@gmail.com', 'Ghanan', 'C.A.R ',\n",
       "       'Central African Republic ', \"Cote d' ivior\", 'CMR', 'USA',\n",
       "       'CONGO', 'GABON', 'CHAD', 'SENEGAL', 'COTE DIVOIRE',\n",
       "       'BURKINA FASO', 'SOUTH AFRICA', 'ghana'], dtype=object)"
      ]
     },
     "execution_count": 28,
     "metadata": {},
     "output_type": "execute_result"
    }
   ],
   "source": [
    "ses23['Country'].unique()"
   ]
  },
  {
   "cell_type": "markdown",
   "id": "396d40f4",
   "metadata": {},
   "source": [
    "##### CORRECT THE WRONGLY SPELT COUNTRIES."
   ]
  },
  {
   "cell_type": "code",
   "execution_count": 29,
   "id": "1c604a43",
   "metadata": {},
   "outputs": [],
   "source": [
    "ses23['Country'] = ses23['Country'].replace('GHANA','Ghana')\n",
    "ses23['Country'] = ses23['Country'].replace('Ghana ','Ghana')\n",
    "ses23['Country'] = ses23['Country'].replace('Netherlands ','Netherlands')\n",
    "ses23['Country'] = ses23['Country'].replace('Tchad ','Chad')\n",
    "ses23['Country'] = ses23['Country'].replace('Tchad','Chad')\n",
    "ses23['Country'] = ses23['Country'].replace('Ghaba','Ghana')\n",
    "ses23['Country'] = ses23['Country'].replace('GHANA ','Ghana')\n",
    "ses23['Country'] = ses23['Country'].replace('Ghans','Ghana')\n",
    "ses23['Country'] = ses23['Country'].replace('Nigeria ','Nigeria')\n",
    "ses23['Country'] = ses23['Country'].replace('United Kingdom ','United Kingdom')\n",
    "ses23['Country'] = ses23['Country'].replace('Togo ','Togo')\n",
    "ses23['Country'] = ses23['Country'].replace('Cameroon ','Cameroon')\n",
    "ses23['Country'] = ses23['Country'].replace('Ghanaian ','Ghana')\n",
    "ses23['Country'] = ses23['Country'].replace('Congo ','Congo')\n",
    "ses23['Country'] = ses23['Country'].replace('Gabon ','Gabon')\n",
    "ses23['Country'] = ses23['Country'].replace('Benin ','Benin')\n",
    "ses23['Country'] = ses23['Country'].replace('Ivory coast','Côté d’Ivoire')\n",
    "ses23['Country'] = ses23['Country'].replace('Lvory coast ','Côté d’Ivoire')\n",
    "ses23['Country'] = ses23['Country'].replace('Coast Ivory','Côté d’Ivoire')\n",
    "ses23['Country'] = ses23['Country'].replace(\"Cote D'Ivoire \",'Côté d’Ivoire')\n",
    "ses23['Country'] = ses23['Country'].replace('C I','Côté d’Ivoire')\n",
    "ses23['Country'] = ses23['Country'].replace('Cote divoire','Côté d’Ivoire')\n",
    "ses23['Country'] = ses23['Country'].replace('CAR','Central African Republic')\n",
    "ses23['Country'] = ses23['Country'].replace('Ivory Coast ','Côté d’Ivoire')\n",
    "ses23['Country'] = ses23['Country'].replace('Cole divore ','Côté d’Ivoire')\n",
    "ses23['Country'] = ses23['Country'].replace('Gabon/Ghana','Gabon')\n",
    "ses23['Country'] = ses23['Country'].replace('R.D.C','Democratic Republic of Congo')\n",
    "ses23['Country'] = ses23['Country'].replace(\"Cote D'Ivorie\",'Côté d’Ivoire')\n",
    "ses23['Country'] = ses23['Country'].replace('Ghana/US','Ghana')\n",
    "ses23['Country'] = ses23['Country'].replace('South Africa ','South Africa')\n",
    "ses23['Country'] = ses23['Country'].replace('lawsoneleanor920@gmail.com','Ghana')\n",
    "ses23['Country'] = ses23['Country'].replace('Cote D’Ivoire','Côté d’Ivoire')\n",
    "ses23['Country'] = ses23['Country'].replace('Cote D’Ivoire ','Côté d’Ivoire')\n",
    "ses23['Country'] = ses23['Country'].replace('C.A.R','Central African Republic')\n",
    "ses23['Country'] = ses23['Country'].replace('darkohilda@gmail.com','Ghana')\n",
    "ses23['Country'] = ses23['Country'].replace(\"Cóte D'voire\",'Côté d’Ivoire')\n",
    "ses23['Country'] = ses23['Country'].replace('Cote d ivai','Côté d’Ivoire')\n",
    "ses23['Country'] = ses23['Country'].replace('Ivory Coast','Côté d’Ivoire')\n",
    "ses23['Country'] = ses23['Country'].replace('T Chad','Chad')\n",
    "ses23['Country'] = ses23['Country'].replace('UK','United Kingdom')\n",
    "ses23['Country'] = ses23['Country'].replace('C. A. R','Central African Republic')\n",
    "ses23['Country'] = ses23['Country'].replace('C.I','Côté d’Ivoire')\n",
    "ses23['Country'] = ses23['Country'].replace('Cote D’Ivore','Côté d’Ivoire')\n",
    "ses23['Country'] = ses23['Country'].replace('Preciouskaledzi77@gmail.com','Ghana')\n",
    "ses23['Country'] = ses23['Country'].replace('Ghanan','Ghana')\n",
    "ses23['Country'] = ses23['Country'].replace('C.A.R ','Central African Republic')\n",
    "ses23['Country'] = ses23['Country'].replace('Central African Republic ','Central African Republic')\n",
    "ses23['Country'] = ses23['Country'].replace(\"Cote d' ivior\",'Côté d’Ivoire')\n",
    "ses23['Country'] = ses23['Country'].replace('CMR','Cameroon')\n",
    "ses23['Country'] = ses23['Country'].replace('USA','United States of America')\n",
    "ses23['Country'] = ses23['Country'].replace('CONGO','Congo')\n",
    "ses23['Country'] = ses23['Country'].replace('GABON','Gabon')\n",
    "ses23['Country'] = ses23['Country'].replace('CHAD','Chad')\n",
    "ses23['Country'] = ses23['Country'].replace('SENEGAL','Senegal')\n",
    "ses23['Country'] = ses23['Country'].replace('COTE DIVOIRE','Côté d’Ivoire')\n",
    "ses23['Country'] = ses23['Country'].replace('BURKINA FASO','Burkina Faso')\n",
    "ses23['Country'] = ses23['Country'].replace('SOUTH AFRICA','South Africa')\n",
    "ses23['Country'] = ses23['Country'].replace('ghana','Ghana')\n",
    "ses23['Country'] = ses23['Country'].replace('Guana','Ghana')\n",
    "ses23['Country'] = ses23['Country'].replace(\"Cote D'Ivoire\",'Côté d’Ivoire')\n",
    "ses23['Country'] = ses23['Country'].replace(\"Cote d'Ivoire \",'Côté d’Ivoire')\n",
    "ses23['Country'] = ses23['Country'].replace('Abijan','Côté d’Ivoire')\n",
    "ses23['Country'] = ses23['Country'].replace('RCI','Côté d’Ivoire')\n",
    "ses23['Country'] = ses23['Country'].replace('RCI ','Côté d’Ivoire')\n",
    "ses23['Country'] = ses23['Country'].replace('Swiss','Switzerland')\n",
    "ses23['Country'] = ses23['Country'].replace('CHC','Ghana')\n",
    "ses23['Country'] = ses23['Country'].replace('Belgique','Belgium')"
   ]
  },
  {
   "cell_type": "code",
   "execution_count": 30,
   "id": "c0e1e0d5",
   "metadata": {},
   "outputs": [
    {
     "data": {
      "text/plain": [
       "array(['Ghana', 'Togo', 'Nigeria', 'Gabon', 'Netherlands', 'Chad',\n",
       "       'Benin', 'Congo', 'France', 'United Kingdom', 'Senegal',\n",
       "       'Cameroon', 'Guinea', 'Côté d’Ivoire', 'Holland', 'Niger',\n",
       "       'Central African Republic', 'Burkina Faso', 'Switzerland',\n",
       "       'Sierra Leone', 'Democratic Republic of Congo', 'South Africa',\n",
       "       'Zambia', 'Mali', 'Belgium', 'United States of America'],\n",
       "      dtype=object)"
      ]
     },
     "execution_count": 30,
     "metadata": {},
     "output_type": "execute_result"
    }
   ],
   "source": [
    "ses23['Country'].unique()"
   ]
  },
  {
   "cell_type": "markdown",
   "id": "df014461",
   "metadata": {},
   "source": [
    "##### QUESTIONS TO BE ANSWERED"
   ]
  },
  {
   "cell_type": "markdown",
   "id": "e0af89aa",
   "metadata": {},
   "source": [
    "1. How many registrations were recorded each day of SES 2023?\n",
    "\n",
    "2. What is the total number of people who registered for SES 2023?\n",
    "\n",
    "3. How many countries were represented and their number of attendants?\n",
    "\n",
    "4. How many churches were represented?\n",
    "\n",
    "5. What are the different occupations that were present?"
   ]
  },
  {
   "cell_type": "markdown",
   "id": "d7df68d4",
   "metadata": {},
   "source": [
    "##### Question 1 - How many registrations were recorded each day of SES 2023?"
   ]
  },
  {
   "cell_type": "code",
   "execution_count": 38,
   "id": "73511221",
   "metadata": {},
   "outputs": [
    {
     "name": "stderr",
     "output_type": "stream",
     "text": [
      "C:\\Users\\KWABENABOATENG\\AppData\\Local\\Temp\\ipykernel_16104\\3490804231.py:2: UserWarning:\n",
      "\n",
      "Could not infer format, so each element will be parsed individually, falling back to `dateutil`. To ensure parsing is consistent and as-expected, please specify a format.\n",
      "\n"
     ]
    },
    {
     "data": {
      "application/vnd.plotly.v1+json": {
       "config": {
        "plotlyServerURL": "https://plot.ly"
       },
       "data": [
        {
         "alignmentgroup": "True",
         "hovertemplate": "Day of Week=%{x}<br>Number of Submissions=%{y}<extra></extra>",
         "legendgroup": "",
         "marker": {
          "color": "#636efa",
          "pattern": {
           "shape": ""
          }
         },
         "name": "",
         "offsetgroup": "",
         "orientation": "v",
         "showlegend": false,
         "textposition": "auto",
         "type": "bar",
         "x": [
          "Tuesday",
          "Thursday",
          "Wednesday",
          "Friday",
          "Monday",
          "Sunday"
         ],
         "xaxis": "x",
         "y": [
          1065,
          816,
          789,
          502,
          307,
          119
         ],
         "yaxis": "y"
        }
       ],
       "layout": {
        "barmode": "relative",
        "legend": {
         "tracegroupgap": 0
        },
        "template": {
         "data": {
          "bar": [
           {
            "error_x": {
             "color": "#2a3f5f"
            },
            "error_y": {
             "color": "#2a3f5f"
            },
            "marker": {
             "line": {
              "color": "#E5ECF6",
              "width": 0.5
             },
             "pattern": {
              "fillmode": "overlay",
              "size": 10,
              "solidity": 0.2
             }
            },
            "type": "bar"
           }
          ],
          "barpolar": [
           {
            "marker": {
             "line": {
              "color": "#E5ECF6",
              "width": 0.5
             },
             "pattern": {
              "fillmode": "overlay",
              "size": 10,
              "solidity": 0.2
             }
            },
            "type": "barpolar"
           }
          ],
          "carpet": [
           {
            "aaxis": {
             "endlinecolor": "#2a3f5f",
             "gridcolor": "white",
             "linecolor": "white",
             "minorgridcolor": "white",
             "startlinecolor": "#2a3f5f"
            },
            "baxis": {
             "endlinecolor": "#2a3f5f",
             "gridcolor": "white",
             "linecolor": "white",
             "minorgridcolor": "white",
             "startlinecolor": "#2a3f5f"
            },
            "type": "carpet"
           }
          ],
          "choropleth": [
           {
            "colorbar": {
             "outlinewidth": 0,
             "ticks": ""
            },
            "type": "choropleth"
           }
          ],
          "contour": [
           {
            "colorbar": {
             "outlinewidth": 0,
             "ticks": ""
            },
            "colorscale": [
             [
              0,
              "#0d0887"
             ],
             [
              0.1111111111111111,
              "#46039f"
             ],
             [
              0.2222222222222222,
              "#7201a8"
             ],
             [
              0.3333333333333333,
              "#9c179e"
             ],
             [
              0.4444444444444444,
              "#bd3786"
             ],
             [
              0.5555555555555556,
              "#d8576b"
             ],
             [
              0.6666666666666666,
              "#ed7953"
             ],
             [
              0.7777777777777778,
              "#fb9f3a"
             ],
             [
              0.8888888888888888,
              "#fdca26"
             ],
             [
              1,
              "#f0f921"
             ]
            ],
            "type": "contour"
           }
          ],
          "contourcarpet": [
           {
            "colorbar": {
             "outlinewidth": 0,
             "ticks": ""
            },
            "type": "contourcarpet"
           }
          ],
          "heatmap": [
           {
            "colorbar": {
             "outlinewidth": 0,
             "ticks": ""
            },
            "colorscale": [
             [
              0,
              "#0d0887"
             ],
             [
              0.1111111111111111,
              "#46039f"
             ],
             [
              0.2222222222222222,
              "#7201a8"
             ],
             [
              0.3333333333333333,
              "#9c179e"
             ],
             [
              0.4444444444444444,
              "#bd3786"
             ],
             [
              0.5555555555555556,
              "#d8576b"
             ],
             [
              0.6666666666666666,
              "#ed7953"
             ],
             [
              0.7777777777777778,
              "#fb9f3a"
             ],
             [
              0.8888888888888888,
              "#fdca26"
             ],
             [
              1,
              "#f0f921"
             ]
            ],
            "type": "heatmap"
           }
          ],
          "heatmapgl": [
           {
            "colorbar": {
             "outlinewidth": 0,
             "ticks": ""
            },
            "colorscale": [
             [
              0,
              "#0d0887"
             ],
             [
              0.1111111111111111,
              "#46039f"
             ],
             [
              0.2222222222222222,
              "#7201a8"
             ],
             [
              0.3333333333333333,
              "#9c179e"
             ],
             [
              0.4444444444444444,
              "#bd3786"
             ],
             [
              0.5555555555555556,
              "#d8576b"
             ],
             [
              0.6666666666666666,
              "#ed7953"
             ],
             [
              0.7777777777777778,
              "#fb9f3a"
             ],
             [
              0.8888888888888888,
              "#fdca26"
             ],
             [
              1,
              "#f0f921"
             ]
            ],
            "type": "heatmapgl"
           }
          ],
          "histogram": [
           {
            "marker": {
             "pattern": {
              "fillmode": "overlay",
              "size": 10,
              "solidity": 0.2
             }
            },
            "type": "histogram"
           }
          ],
          "histogram2d": [
           {
            "colorbar": {
             "outlinewidth": 0,
             "ticks": ""
            },
            "colorscale": [
             [
              0,
              "#0d0887"
             ],
             [
              0.1111111111111111,
              "#46039f"
             ],
             [
              0.2222222222222222,
              "#7201a8"
             ],
             [
              0.3333333333333333,
              "#9c179e"
             ],
             [
              0.4444444444444444,
              "#bd3786"
             ],
             [
              0.5555555555555556,
              "#d8576b"
             ],
             [
              0.6666666666666666,
              "#ed7953"
             ],
             [
              0.7777777777777778,
              "#fb9f3a"
             ],
             [
              0.8888888888888888,
              "#fdca26"
             ],
             [
              1,
              "#f0f921"
             ]
            ],
            "type": "histogram2d"
           }
          ],
          "histogram2dcontour": [
           {
            "colorbar": {
             "outlinewidth": 0,
             "ticks": ""
            },
            "colorscale": [
             [
              0,
              "#0d0887"
             ],
             [
              0.1111111111111111,
              "#46039f"
             ],
             [
              0.2222222222222222,
              "#7201a8"
             ],
             [
              0.3333333333333333,
              "#9c179e"
             ],
             [
              0.4444444444444444,
              "#bd3786"
             ],
             [
              0.5555555555555556,
              "#d8576b"
             ],
             [
              0.6666666666666666,
              "#ed7953"
             ],
             [
              0.7777777777777778,
              "#fb9f3a"
             ],
             [
              0.8888888888888888,
              "#fdca26"
             ],
             [
              1,
              "#f0f921"
             ]
            ],
            "type": "histogram2dcontour"
           }
          ],
          "mesh3d": [
           {
            "colorbar": {
             "outlinewidth": 0,
             "ticks": ""
            },
            "type": "mesh3d"
           }
          ],
          "parcoords": [
           {
            "line": {
             "colorbar": {
              "outlinewidth": 0,
              "ticks": ""
             }
            },
            "type": "parcoords"
           }
          ],
          "pie": [
           {
            "automargin": true,
            "type": "pie"
           }
          ],
          "scatter": [
           {
            "fillpattern": {
             "fillmode": "overlay",
             "size": 10,
             "solidity": 0.2
            },
            "type": "scatter"
           }
          ],
          "scatter3d": [
           {
            "line": {
             "colorbar": {
              "outlinewidth": 0,
              "ticks": ""
             }
            },
            "marker": {
             "colorbar": {
              "outlinewidth": 0,
              "ticks": ""
             }
            },
            "type": "scatter3d"
           }
          ],
          "scattercarpet": [
           {
            "marker": {
             "colorbar": {
              "outlinewidth": 0,
              "ticks": ""
             }
            },
            "type": "scattercarpet"
           }
          ],
          "scattergeo": [
           {
            "marker": {
             "colorbar": {
              "outlinewidth": 0,
              "ticks": ""
             }
            },
            "type": "scattergeo"
           }
          ],
          "scattergl": [
           {
            "marker": {
             "colorbar": {
              "outlinewidth": 0,
              "ticks": ""
             }
            },
            "type": "scattergl"
           }
          ],
          "scattermapbox": [
           {
            "marker": {
             "colorbar": {
              "outlinewidth": 0,
              "ticks": ""
             }
            },
            "type": "scattermapbox"
           }
          ],
          "scatterpolar": [
           {
            "marker": {
             "colorbar": {
              "outlinewidth": 0,
              "ticks": ""
             }
            },
            "type": "scatterpolar"
           }
          ],
          "scatterpolargl": [
           {
            "marker": {
             "colorbar": {
              "outlinewidth": 0,
              "ticks": ""
             }
            },
            "type": "scatterpolargl"
           }
          ],
          "scatterternary": [
           {
            "marker": {
             "colorbar": {
              "outlinewidth": 0,
              "ticks": ""
             }
            },
            "type": "scatterternary"
           }
          ],
          "surface": [
           {
            "colorbar": {
             "outlinewidth": 0,
             "ticks": ""
            },
            "colorscale": [
             [
              0,
              "#0d0887"
             ],
             [
              0.1111111111111111,
              "#46039f"
             ],
             [
              0.2222222222222222,
              "#7201a8"
             ],
             [
              0.3333333333333333,
              "#9c179e"
             ],
             [
              0.4444444444444444,
              "#bd3786"
             ],
             [
              0.5555555555555556,
              "#d8576b"
             ],
             [
              0.6666666666666666,
              "#ed7953"
             ],
             [
              0.7777777777777778,
              "#fb9f3a"
             ],
             [
              0.8888888888888888,
              "#fdca26"
             ],
             [
              1,
              "#f0f921"
             ]
            ],
            "type": "surface"
           }
          ],
          "table": [
           {
            "cells": {
             "fill": {
              "color": "#EBF0F8"
             },
             "line": {
              "color": "white"
             }
            },
            "header": {
             "fill": {
              "color": "#C8D4E3"
             },
             "line": {
              "color": "white"
             }
            },
            "type": "table"
           }
          ]
         },
         "layout": {
          "annotationdefaults": {
           "arrowcolor": "#2a3f5f",
           "arrowhead": 0,
           "arrowwidth": 1
          },
          "autotypenumbers": "strict",
          "coloraxis": {
           "colorbar": {
            "outlinewidth": 0,
            "ticks": ""
           }
          },
          "colorscale": {
           "diverging": [
            [
             0,
             "#8e0152"
            ],
            [
             0.1,
             "#c51b7d"
            ],
            [
             0.2,
             "#de77ae"
            ],
            [
             0.3,
             "#f1b6da"
            ],
            [
             0.4,
             "#fde0ef"
            ],
            [
             0.5,
             "#f7f7f7"
            ],
            [
             0.6,
             "#e6f5d0"
            ],
            [
             0.7,
             "#b8e186"
            ],
            [
             0.8,
             "#7fbc41"
            ],
            [
             0.9,
             "#4d9221"
            ],
            [
             1,
             "#276419"
            ]
           ],
           "sequential": [
            [
             0,
             "#0d0887"
            ],
            [
             0.1111111111111111,
             "#46039f"
            ],
            [
             0.2222222222222222,
             "#7201a8"
            ],
            [
             0.3333333333333333,
             "#9c179e"
            ],
            [
             0.4444444444444444,
             "#bd3786"
            ],
            [
             0.5555555555555556,
             "#d8576b"
            ],
            [
             0.6666666666666666,
             "#ed7953"
            ],
            [
             0.7777777777777778,
             "#fb9f3a"
            ],
            [
             0.8888888888888888,
             "#fdca26"
            ],
            [
             1,
             "#f0f921"
            ]
           ],
           "sequentialminus": [
            [
             0,
             "#0d0887"
            ],
            [
             0.1111111111111111,
             "#46039f"
            ],
            [
             0.2222222222222222,
             "#7201a8"
            ],
            [
             0.3333333333333333,
             "#9c179e"
            ],
            [
             0.4444444444444444,
             "#bd3786"
            ],
            [
             0.5555555555555556,
             "#d8576b"
            ],
            [
             0.6666666666666666,
             "#ed7953"
            ],
            [
             0.7777777777777778,
             "#fb9f3a"
            ],
            [
             0.8888888888888888,
             "#fdca26"
            ],
            [
             1,
             "#f0f921"
            ]
           ]
          },
          "colorway": [
           "#636efa",
           "#EF553B",
           "#00cc96",
           "#ab63fa",
           "#FFA15A",
           "#19d3f3",
           "#FF6692",
           "#B6E880",
           "#FF97FF",
           "#FECB52"
          ],
          "font": {
           "color": "#2a3f5f"
          },
          "geo": {
           "bgcolor": "white",
           "lakecolor": "white",
           "landcolor": "#E5ECF6",
           "showlakes": true,
           "showland": true,
           "subunitcolor": "white"
          },
          "hoverlabel": {
           "align": "left"
          },
          "hovermode": "closest",
          "mapbox": {
           "style": "light"
          },
          "paper_bgcolor": "white",
          "plot_bgcolor": "#E5ECF6",
          "polar": {
           "angularaxis": {
            "gridcolor": "white",
            "linecolor": "white",
            "ticks": ""
           },
           "bgcolor": "#E5ECF6",
           "radialaxis": {
            "gridcolor": "white",
            "linecolor": "white",
            "ticks": ""
           }
          },
          "scene": {
           "xaxis": {
            "backgroundcolor": "#E5ECF6",
            "gridcolor": "white",
            "gridwidth": 2,
            "linecolor": "white",
            "showbackground": true,
            "ticks": "",
            "zerolinecolor": "white"
           },
           "yaxis": {
            "backgroundcolor": "#E5ECF6",
            "gridcolor": "white",
            "gridwidth": 2,
            "linecolor": "white",
            "showbackground": true,
            "ticks": "",
            "zerolinecolor": "white"
           },
           "zaxis": {
            "backgroundcolor": "#E5ECF6",
            "gridcolor": "white",
            "gridwidth": 2,
            "linecolor": "white",
            "showbackground": true,
            "ticks": "",
            "zerolinecolor": "white"
           }
          },
          "shapedefaults": {
           "line": {
            "color": "#2a3f5f"
           }
          },
          "ternary": {
           "aaxis": {
            "gridcolor": "white",
            "linecolor": "white",
            "ticks": ""
           },
           "baxis": {
            "gridcolor": "white",
            "linecolor": "white",
            "ticks": ""
           },
           "bgcolor": "#E5ECF6",
           "caxis": {
            "gridcolor": "white",
            "linecolor": "white",
            "ticks": ""
           }
          },
          "title": {
           "x": 0.05
          },
          "xaxis": {
           "automargin": true,
           "gridcolor": "white",
           "linecolor": "white",
           "ticks": "",
           "title": {
            "standoff": 15
           },
           "zerolinecolor": "white",
           "zerolinewidth": 2
          },
          "yaxis": {
           "automargin": true,
           "gridcolor": "white",
           "linecolor": "white",
           "ticks": "",
           "title": {
            "standoff": 15
           },
           "zerolinecolor": "white",
           "zerolinewidth": 2
          }
         }
        },
        "title": {
         "text": "Submission by Day of Week"
        },
        "xaxis": {
         "anchor": "y",
         "categoryarray": [
          "Monday",
          "Tuesday",
          "Wednesday",
          "Thursday",
          "Friday",
          "Saturday",
          "Sunday"
         ],
         "categoryorder": "array",
         "domain": [
          0,
          1
         ],
         "title": {
          "text": "Day of Week"
         }
        },
        "yaxis": {
         "anchor": "x",
         "domain": [
          0,
          1
         ],
         "title": {
          "text": "Number of Submissions"
         }
        }
       }
      }
     },
     "metadata": {},
     "output_type": "display_data"
    }
   ],
   "source": [
    "# Convert timestamp column to datetime\n",
    "ses23['Timestamp'] = pd.to_datetime(ses23['Timestamp'])\n",
    "\n",
    "# Plot timestamp distribution\n",
    "timestamp_distribution = ses23['Timestamp'].dt.day_name().value_counts().reset_index()\n",
    "timestamp_distribution.columns = ['Day of Week', 'Count']\n",
    "\n",
    "fig = px.bar(timestamp_distribution, x='Day of Week', y='Count', \n",
    "             title='Submission by Day of Week', labels={'Count': 'Number of Submissions'})\n",
    "fig.update_xaxes(categoryorder='array', categoryarray=['Monday', 'Tuesday', 'Wednesday', 'Thursday', 'Friday', 'Saturday', 'Sunday'])\n",
    "fig.show()"
   ]
  },
  {
   "cell_type": "markdown",
   "id": "5090bc8b",
   "metadata": {},
   "source": [
    "##### Question 2 - What is the total number of people who registered for SES 2023?"
   ]
  },
  {
   "cell_type": "code",
   "execution_count": 39,
   "id": "4bbb2b61",
   "metadata": {},
   "outputs": [
    {
     "name": "stdout",
     "output_type": "stream",
     "text": [
      "Total number of people who registered for the summit: 3598\n"
     ]
    }
   ],
   "source": [
    "# Count the number of registrations\n",
    "num_registrations = len(ses23)\n",
    "\n",
    "print(\"Total number of people who registered for the summit:\", num_registrations)"
   ]
  },
  {
   "cell_type": "markdown",
   "id": "976d9fab",
   "metadata": {},
   "source": [
    "##### Question 3 - How many countries were represented and their number of attendants?"
   ]
  },
  {
   "cell_type": "code",
   "execution_count": 40,
   "id": "f5be6339",
   "metadata": {},
   "outputs": [
    {
     "name": "stdout",
     "output_type": "stream",
     "text": [
      "Total number of countries present: 26\n",
      "\n",
      "Names of the countries present and their value counts:\n",
      "Country\n",
      "Ghana                           3294\n",
      "Côté d’Ivoire                     75\n",
      "Congo                             54\n",
      "Gabon                             49\n",
      "Benin                             35\n",
      "Togo                              20\n",
      "Nigeria                           13\n",
      "Chad                              10\n",
      "Central African Republic           7\n",
      "Cameroon                           7\n",
      "Senegal                            5\n",
      "South Africa                       5\n",
      "France                             4\n",
      "United Kingdom                     3\n",
      "Burkina Faso                       3\n",
      "Guinea                             2\n",
      "Mali                               2\n",
      "Sierra Leone                       2\n",
      "Belgium                            1\n",
      "Zambia                             1\n",
      "Holland                            1\n",
      "Democratic Republic of Congo       1\n",
      "Switzerland                        1\n",
      "Niger                              1\n",
      "Netherlands                        1\n",
      "United States of America           1\n",
      "Name: count, dtype: int64\n"
     ]
    }
   ],
   "source": [
    "# Assuming ses23 is your DataFrame containing the data\n",
    "unique_countries_counts = ses23['Country'].value_counts()\n",
    "\n",
    "print(\"Total number of countries present:\", len(unique_countries_counts))\n",
    "print(\"\\nNames of the countries present and their value counts:\")\n",
    "print(unique_countries_counts)"
   ]
  },
  {
   "cell_type": "code",
   "execution_count": 41,
   "id": "e82c72cb",
   "metadata": {},
   "outputs": [
    {
     "data": {
      "application/vnd.plotly.v1+json": {
       "config": {
        "plotlyServerURL": "https://plot.ly"
       },
       "data": [
        {
         "alignmentgroup": "True",
         "hovertemplate": "Country=%{x}<br>Count=%{y}<extra></extra>",
         "legendgroup": "",
         "marker": {
          "color": "#636efa",
          "pattern": {
           "shape": ""
          }
         },
         "name": "",
         "offsetgroup": "",
         "orientation": "v",
         "showlegend": false,
         "textposition": "auto",
         "type": "bar",
         "x": [
          "Ghana",
          "Côté d’Ivoire",
          "Congo",
          "Gabon",
          "Benin",
          "Togo",
          "Nigeria",
          "Chad",
          "Central African Republic",
          "Cameroon",
          "Senegal",
          "South Africa",
          "France",
          "United Kingdom",
          "Burkina Faso",
          "Guinea",
          "Mali",
          "Sierra Leone",
          "Belgium",
          "Zambia",
          "Holland",
          "Democratic Republic of Congo",
          "Switzerland",
          "Niger",
          "Netherlands",
          "United States of America"
         ],
         "xaxis": "x",
         "y": [
          3294,
          75,
          54,
          49,
          35,
          20,
          13,
          10,
          7,
          7,
          5,
          5,
          4,
          3,
          3,
          2,
          2,
          2,
          1,
          1,
          1,
          1,
          1,
          1,
          1,
          1
         ],
         "yaxis": "y"
        }
       ],
       "layout": {
        "barmode": "relative",
        "legend": {
         "tracegroupgap": 0
        },
        "template": {
         "data": {
          "bar": [
           {
            "error_x": {
             "color": "#2a3f5f"
            },
            "error_y": {
             "color": "#2a3f5f"
            },
            "marker": {
             "line": {
              "color": "#E5ECF6",
              "width": 0.5
             },
             "pattern": {
              "fillmode": "overlay",
              "size": 10,
              "solidity": 0.2
             }
            },
            "type": "bar"
           }
          ],
          "barpolar": [
           {
            "marker": {
             "line": {
              "color": "#E5ECF6",
              "width": 0.5
             },
             "pattern": {
              "fillmode": "overlay",
              "size": 10,
              "solidity": 0.2
             }
            },
            "type": "barpolar"
           }
          ],
          "carpet": [
           {
            "aaxis": {
             "endlinecolor": "#2a3f5f",
             "gridcolor": "white",
             "linecolor": "white",
             "minorgridcolor": "white",
             "startlinecolor": "#2a3f5f"
            },
            "baxis": {
             "endlinecolor": "#2a3f5f",
             "gridcolor": "white",
             "linecolor": "white",
             "minorgridcolor": "white",
             "startlinecolor": "#2a3f5f"
            },
            "type": "carpet"
           }
          ],
          "choropleth": [
           {
            "colorbar": {
             "outlinewidth": 0,
             "ticks": ""
            },
            "type": "choropleth"
           }
          ],
          "contour": [
           {
            "colorbar": {
             "outlinewidth": 0,
             "ticks": ""
            },
            "colorscale": [
             [
              0,
              "#0d0887"
             ],
             [
              0.1111111111111111,
              "#46039f"
             ],
             [
              0.2222222222222222,
              "#7201a8"
             ],
             [
              0.3333333333333333,
              "#9c179e"
             ],
             [
              0.4444444444444444,
              "#bd3786"
             ],
             [
              0.5555555555555556,
              "#d8576b"
             ],
             [
              0.6666666666666666,
              "#ed7953"
             ],
             [
              0.7777777777777778,
              "#fb9f3a"
             ],
             [
              0.8888888888888888,
              "#fdca26"
             ],
             [
              1,
              "#f0f921"
             ]
            ],
            "type": "contour"
           }
          ],
          "contourcarpet": [
           {
            "colorbar": {
             "outlinewidth": 0,
             "ticks": ""
            },
            "type": "contourcarpet"
           }
          ],
          "heatmap": [
           {
            "colorbar": {
             "outlinewidth": 0,
             "ticks": ""
            },
            "colorscale": [
             [
              0,
              "#0d0887"
             ],
             [
              0.1111111111111111,
              "#46039f"
             ],
             [
              0.2222222222222222,
              "#7201a8"
             ],
             [
              0.3333333333333333,
              "#9c179e"
             ],
             [
              0.4444444444444444,
              "#bd3786"
             ],
             [
              0.5555555555555556,
              "#d8576b"
             ],
             [
              0.6666666666666666,
              "#ed7953"
             ],
             [
              0.7777777777777778,
              "#fb9f3a"
             ],
             [
              0.8888888888888888,
              "#fdca26"
             ],
             [
              1,
              "#f0f921"
             ]
            ],
            "type": "heatmap"
           }
          ],
          "heatmapgl": [
           {
            "colorbar": {
             "outlinewidth": 0,
             "ticks": ""
            },
            "colorscale": [
             [
              0,
              "#0d0887"
             ],
             [
              0.1111111111111111,
              "#46039f"
             ],
             [
              0.2222222222222222,
              "#7201a8"
             ],
             [
              0.3333333333333333,
              "#9c179e"
             ],
             [
              0.4444444444444444,
              "#bd3786"
             ],
             [
              0.5555555555555556,
              "#d8576b"
             ],
             [
              0.6666666666666666,
              "#ed7953"
             ],
             [
              0.7777777777777778,
              "#fb9f3a"
             ],
             [
              0.8888888888888888,
              "#fdca26"
             ],
             [
              1,
              "#f0f921"
             ]
            ],
            "type": "heatmapgl"
           }
          ],
          "histogram": [
           {
            "marker": {
             "pattern": {
              "fillmode": "overlay",
              "size": 10,
              "solidity": 0.2
             }
            },
            "type": "histogram"
           }
          ],
          "histogram2d": [
           {
            "colorbar": {
             "outlinewidth": 0,
             "ticks": ""
            },
            "colorscale": [
             [
              0,
              "#0d0887"
             ],
             [
              0.1111111111111111,
              "#46039f"
             ],
             [
              0.2222222222222222,
              "#7201a8"
             ],
             [
              0.3333333333333333,
              "#9c179e"
             ],
             [
              0.4444444444444444,
              "#bd3786"
             ],
             [
              0.5555555555555556,
              "#d8576b"
             ],
             [
              0.6666666666666666,
              "#ed7953"
             ],
             [
              0.7777777777777778,
              "#fb9f3a"
             ],
             [
              0.8888888888888888,
              "#fdca26"
             ],
             [
              1,
              "#f0f921"
             ]
            ],
            "type": "histogram2d"
           }
          ],
          "histogram2dcontour": [
           {
            "colorbar": {
             "outlinewidth": 0,
             "ticks": ""
            },
            "colorscale": [
             [
              0,
              "#0d0887"
             ],
             [
              0.1111111111111111,
              "#46039f"
             ],
             [
              0.2222222222222222,
              "#7201a8"
             ],
             [
              0.3333333333333333,
              "#9c179e"
             ],
             [
              0.4444444444444444,
              "#bd3786"
             ],
             [
              0.5555555555555556,
              "#d8576b"
             ],
             [
              0.6666666666666666,
              "#ed7953"
             ],
             [
              0.7777777777777778,
              "#fb9f3a"
             ],
             [
              0.8888888888888888,
              "#fdca26"
             ],
             [
              1,
              "#f0f921"
             ]
            ],
            "type": "histogram2dcontour"
           }
          ],
          "mesh3d": [
           {
            "colorbar": {
             "outlinewidth": 0,
             "ticks": ""
            },
            "type": "mesh3d"
           }
          ],
          "parcoords": [
           {
            "line": {
             "colorbar": {
              "outlinewidth": 0,
              "ticks": ""
             }
            },
            "type": "parcoords"
           }
          ],
          "pie": [
           {
            "automargin": true,
            "type": "pie"
           }
          ],
          "scatter": [
           {
            "fillpattern": {
             "fillmode": "overlay",
             "size": 10,
             "solidity": 0.2
            },
            "type": "scatter"
           }
          ],
          "scatter3d": [
           {
            "line": {
             "colorbar": {
              "outlinewidth": 0,
              "ticks": ""
             }
            },
            "marker": {
             "colorbar": {
              "outlinewidth": 0,
              "ticks": ""
             }
            },
            "type": "scatter3d"
           }
          ],
          "scattercarpet": [
           {
            "marker": {
             "colorbar": {
              "outlinewidth": 0,
              "ticks": ""
             }
            },
            "type": "scattercarpet"
           }
          ],
          "scattergeo": [
           {
            "marker": {
             "colorbar": {
              "outlinewidth": 0,
              "ticks": ""
             }
            },
            "type": "scattergeo"
           }
          ],
          "scattergl": [
           {
            "marker": {
             "colorbar": {
              "outlinewidth": 0,
              "ticks": ""
             }
            },
            "type": "scattergl"
           }
          ],
          "scattermapbox": [
           {
            "marker": {
             "colorbar": {
              "outlinewidth": 0,
              "ticks": ""
             }
            },
            "type": "scattermapbox"
           }
          ],
          "scatterpolar": [
           {
            "marker": {
             "colorbar": {
              "outlinewidth": 0,
              "ticks": ""
             }
            },
            "type": "scatterpolar"
           }
          ],
          "scatterpolargl": [
           {
            "marker": {
             "colorbar": {
              "outlinewidth": 0,
              "ticks": ""
             }
            },
            "type": "scatterpolargl"
           }
          ],
          "scatterternary": [
           {
            "marker": {
             "colorbar": {
              "outlinewidth": 0,
              "ticks": ""
             }
            },
            "type": "scatterternary"
           }
          ],
          "surface": [
           {
            "colorbar": {
             "outlinewidth": 0,
             "ticks": ""
            },
            "colorscale": [
             [
              0,
              "#0d0887"
             ],
             [
              0.1111111111111111,
              "#46039f"
             ],
             [
              0.2222222222222222,
              "#7201a8"
             ],
             [
              0.3333333333333333,
              "#9c179e"
             ],
             [
              0.4444444444444444,
              "#bd3786"
             ],
             [
              0.5555555555555556,
              "#d8576b"
             ],
             [
              0.6666666666666666,
              "#ed7953"
             ],
             [
              0.7777777777777778,
              "#fb9f3a"
             ],
             [
              0.8888888888888888,
              "#fdca26"
             ],
             [
              1,
              "#f0f921"
             ]
            ],
            "type": "surface"
           }
          ],
          "table": [
           {
            "cells": {
             "fill": {
              "color": "#EBF0F8"
             },
             "line": {
              "color": "white"
             }
            },
            "header": {
             "fill": {
              "color": "#C8D4E3"
             },
             "line": {
              "color": "white"
             }
            },
            "type": "table"
           }
          ]
         },
         "layout": {
          "annotationdefaults": {
           "arrowcolor": "#2a3f5f",
           "arrowhead": 0,
           "arrowwidth": 1
          },
          "autotypenumbers": "strict",
          "coloraxis": {
           "colorbar": {
            "outlinewidth": 0,
            "ticks": ""
           }
          },
          "colorscale": {
           "diverging": [
            [
             0,
             "#8e0152"
            ],
            [
             0.1,
             "#c51b7d"
            ],
            [
             0.2,
             "#de77ae"
            ],
            [
             0.3,
             "#f1b6da"
            ],
            [
             0.4,
             "#fde0ef"
            ],
            [
             0.5,
             "#f7f7f7"
            ],
            [
             0.6,
             "#e6f5d0"
            ],
            [
             0.7,
             "#b8e186"
            ],
            [
             0.8,
             "#7fbc41"
            ],
            [
             0.9,
             "#4d9221"
            ],
            [
             1,
             "#276419"
            ]
           ],
           "sequential": [
            [
             0,
             "#0d0887"
            ],
            [
             0.1111111111111111,
             "#46039f"
            ],
            [
             0.2222222222222222,
             "#7201a8"
            ],
            [
             0.3333333333333333,
             "#9c179e"
            ],
            [
             0.4444444444444444,
             "#bd3786"
            ],
            [
             0.5555555555555556,
             "#d8576b"
            ],
            [
             0.6666666666666666,
             "#ed7953"
            ],
            [
             0.7777777777777778,
             "#fb9f3a"
            ],
            [
             0.8888888888888888,
             "#fdca26"
            ],
            [
             1,
             "#f0f921"
            ]
           ],
           "sequentialminus": [
            [
             0,
             "#0d0887"
            ],
            [
             0.1111111111111111,
             "#46039f"
            ],
            [
             0.2222222222222222,
             "#7201a8"
            ],
            [
             0.3333333333333333,
             "#9c179e"
            ],
            [
             0.4444444444444444,
             "#bd3786"
            ],
            [
             0.5555555555555556,
             "#d8576b"
            ],
            [
             0.6666666666666666,
             "#ed7953"
            ],
            [
             0.7777777777777778,
             "#fb9f3a"
            ],
            [
             0.8888888888888888,
             "#fdca26"
            ],
            [
             1,
             "#f0f921"
            ]
           ]
          },
          "colorway": [
           "#636efa",
           "#EF553B",
           "#00cc96",
           "#ab63fa",
           "#FFA15A",
           "#19d3f3",
           "#FF6692",
           "#B6E880",
           "#FF97FF",
           "#FECB52"
          ],
          "font": {
           "color": "#2a3f5f"
          },
          "geo": {
           "bgcolor": "white",
           "lakecolor": "white",
           "landcolor": "#E5ECF6",
           "showlakes": true,
           "showland": true,
           "subunitcolor": "white"
          },
          "hoverlabel": {
           "align": "left"
          },
          "hovermode": "closest",
          "mapbox": {
           "style": "light"
          },
          "paper_bgcolor": "white",
          "plot_bgcolor": "#E5ECF6",
          "polar": {
           "angularaxis": {
            "gridcolor": "white",
            "linecolor": "white",
            "ticks": ""
           },
           "bgcolor": "#E5ECF6",
           "radialaxis": {
            "gridcolor": "white",
            "linecolor": "white",
            "ticks": ""
           }
          },
          "scene": {
           "xaxis": {
            "backgroundcolor": "#E5ECF6",
            "gridcolor": "white",
            "gridwidth": 2,
            "linecolor": "white",
            "showbackground": true,
            "ticks": "",
            "zerolinecolor": "white"
           },
           "yaxis": {
            "backgroundcolor": "#E5ECF6",
            "gridcolor": "white",
            "gridwidth": 2,
            "linecolor": "white",
            "showbackground": true,
            "ticks": "",
            "zerolinecolor": "white"
           },
           "zaxis": {
            "backgroundcolor": "#E5ECF6",
            "gridcolor": "white",
            "gridwidth": 2,
            "linecolor": "white",
            "showbackground": true,
            "ticks": "",
            "zerolinecolor": "white"
           }
          },
          "shapedefaults": {
           "line": {
            "color": "#2a3f5f"
           }
          },
          "ternary": {
           "aaxis": {
            "gridcolor": "white",
            "linecolor": "white",
            "ticks": ""
           },
           "baxis": {
            "gridcolor": "white",
            "linecolor": "white",
            "ticks": ""
           },
           "bgcolor": "#E5ECF6",
           "caxis": {
            "gridcolor": "white",
            "linecolor": "white",
            "ticks": ""
           }
          },
          "title": {
           "x": 0.05
          },
          "xaxis": {
           "automargin": true,
           "gridcolor": "white",
           "linecolor": "white",
           "ticks": "",
           "title": {
            "standoff": 15
           },
           "zerolinecolor": "white",
           "zerolinewidth": 2
          },
          "yaxis": {
           "automargin": true,
           "gridcolor": "white",
           "linecolor": "white",
           "ticks": "",
           "title": {
            "standoff": 15
           },
           "zerolinecolor": "white",
           "zerolinewidth": 2
          }
         }
        },
        "title": {
         "text": "Count of Unique Countries"
        },
        "xaxis": {
         "anchor": "y",
         "domain": [
          0,
          1
         ],
         "title": {
          "text": "Country"
         }
        },
        "yaxis": {
         "anchor": "x",
         "domain": [
          0,
          1
         ],
         "title": {
          "text": "Count"
         }
        }
       }
      }
     },
     "metadata": {},
     "output_type": "display_data"
    }
   ],
   "source": [
    "# Get unique countries and their count\n",
    "unique_countries = ses23['Country'].value_counts().reset_index()\n",
    "unique_countries.columns = ['Country', 'Count']\n",
    "\n",
    "# Plotting\n",
    "fig = px.bar(unique_countries, x='Country', y='Count', title='Count of Unique Countries')\n",
    "fig.show()"
   ]
  },
  {
   "cell_type": "markdown",
   "id": "47d2cd81",
   "metadata": {},
   "source": [
    "##### Question 4 - How many churches were represented?"
   ]
  },
  {
   "cell_type": "code",
   "execution_count": 42,
   "id": "dfcef63b",
   "metadata": {},
   "outputs": [
    {
     "name": "stdout",
     "output_type": "stream",
     "text": [
      "Total number of countries present: 53\n",
      "\n",
      "Names of the countries present and their value counts:\n",
      "Name of Church\n",
      "Perez Chapel International             2092\n",
      "Other Churches                          661\n",
      "Church of Pentecost                      74\n",
      "Assemblies of God                        48\n",
      "Possibilities Chapel                     34\n",
      "Methodist Church of Ghana                34\n",
      "Banner of Grace                          24\n",
      "International Central Gospel Church      23\n",
      "Lighthouse Chapel International          18\n",
      "Presbyterian Church of Ghana             17\n",
      "Charis Ministries International          16\n",
      "Christ Apostolic Church                  14\n",
      "Roman Catholic                           13\n",
      "Victory Bible Church International        9\n",
      "Church on Missions                        7\n",
      "Action Chapel International               7\n",
      "Grace Temple                              5\n",
      "Harvest Chapel International              4\n",
      "Springs of Life                           4\n",
      "Baptist Church of Ghana                   4\n",
      "Church of God                             4\n",
      "Jesus Power Church                        4\n",
      "Charismatic Evangelistic Ministry         3\n",
      "Fire Camp Universal Mission               3\n",
      "Empowerment Worship Center                3\n",
      "Zion Mission Outreach                     3\n",
      "Winners Chapel                            3\n",
      "Christian Love                            3\n",
      "Faith Temple                              3\n",
      "Potter's'City                             3\n",
      "Global Evangelical                        3\n",
      "Royalhouse Chapel International           3\n",
      "Church On Missions                        2\n",
      "Christ Youth Network                      2\n",
      "Destiny International                     2\n",
      "Calvary Power                             2\n",
      "Love Harvest                              2\n",
      "Trinity Baptist Church                    2\n",
      "Gospel Outreach                           2\n",
      "Watchword Chapel                          2\n",
      "Zion Citadel                              2\n",
      "Church of Missions International          2\n",
      "Covenant Revelation Ministry              2\n",
      "Anglican                                  2\n",
      "Church of Christ                          2\n",
      "Deeper Life                               2\n",
      "Foursquare Gospel Church                  2\n",
      "Gate of Life Church                       2\n",
      "Christ Glorious                           2\n",
      "Evangelical Presbyterian Church           2\n",
      "Yopougon church                           2\n",
      "Nations Chapel                            2\n",
      "Royal Fortress Ministry                   2\n",
      "Name: count, dtype: int64\n"
     ]
    }
   ],
   "source": [
    "# Assuming ses23 is your DataFrame containing the data\n",
    "unique_countries_counts = ses23['Name of Church'].value_counts()\n",
    "\n",
    "print(\"Total number of countries present:\", len(unique_countries_counts))\n",
    "print(\"\\nNames of the countries present and their value counts:\")\n",
    "print(unique_countries_counts)"
   ]
  },
  {
   "cell_type": "code",
   "execution_count": 43,
   "id": "d7b36fb0",
   "metadata": {},
   "outputs": [
    {
     "data": {
      "application/vnd.plotly.v1+json": {
       "config": {
        "plotlyServerURL": "https://plot.ly"
       },
       "data": [
        {
         "alignmentgroup": "True",
         "hovertemplate": "x=%{x}<br>y=%{y}<br>text=%{text}<extra></extra>",
         "legendgroup": "",
         "marker": {
          "color": "#636efa",
          "pattern": {
           "shape": ""
          }
         },
         "name": "",
         "offsetgroup": "",
         "orientation": "v",
         "showlegend": false,
         "text": [
          2092,
          661,
          74,
          48,
          34,
          34,
          24,
          23,
          18,
          17,
          16,
          14,
          13,
          9,
          7,
          7,
          5,
          4,
          4,
          4,
          4,
          4,
          3,
          3,
          3,
          3,
          3,
          3,
          3,
          3,
          3,
          3,
          2,
          2,
          2,
          2,
          2,
          2,
          2,
          2,
          2,
          2,
          2,
          2,
          2,
          2,
          2,
          2,
          2,
          2,
          2,
          2,
          2
         ],
         "textposition": "auto",
         "type": "bar",
         "x": [
          "Perez Chapel International",
          "Other Churches",
          "Church of Pentecost",
          "Assemblies of God",
          "Possibilities Chapel",
          "Methodist Church of Ghana",
          "Banner of Grace",
          "International Central Gospel Church",
          "Lighthouse Chapel International",
          "Presbyterian Church of Ghana",
          "Charis Ministries International",
          "Christ Apostolic Church",
          "Roman Catholic",
          "Victory Bible Church International",
          "Action Chapel International",
          "Church on Missions",
          "Grace Temple",
          "Harvest Chapel International",
          "Springs of Life",
          "Baptist Church of Ghana",
          "Church of God",
          "Jesus Power Church",
          "Christian Love",
          "Royalhouse Chapel International",
          "Global Evangelical",
          "Potter's'City",
          "Faith Temple",
          "Winners Chapel",
          "Zion Mission Outreach",
          "Fire Camp Universal Mission",
          "Charismatic Evangelistic Ministry",
          "Empowerment Worship Center",
          "Covenant Revelation Ministry",
          "Nations Chapel",
          "Yopougon church",
          "Evangelical Presbyterian Church",
          "Christ Glorious",
          "Gate of Life Church",
          "Foursquare Gospel Church",
          "Deeper Life",
          "Church of Christ",
          "Anglican",
          "Zion Citadel",
          "Church of Missions International",
          "Watchword Chapel",
          "Gospel Outreach",
          "Trinity Baptist Church",
          "Love Harvest ",
          "Calvary Power",
          "Destiny International",
          "Christ Youth Network",
          "Church On Missions",
          "Royal Fortress Ministry"
         ],
         "xaxis": "x",
         "y": [
          2092,
          661,
          74,
          48,
          34,
          34,
          24,
          23,
          18,
          17,
          16,
          14,
          13,
          9,
          7,
          7,
          5,
          4,
          4,
          4,
          4,
          4,
          3,
          3,
          3,
          3,
          3,
          3,
          3,
          3,
          3,
          3,
          2,
          2,
          2,
          2,
          2,
          2,
          2,
          2,
          2,
          2,
          2,
          2,
          2,
          2,
          2,
          2,
          2,
          2,
          2,
          2,
          2
         ],
         "yaxis": "y"
        }
       ],
       "layout": {
        "barmode": "relative",
        "legend": {
         "tracegroupgap": 0
        },
        "margin": {
         "t": 60
        },
        "template": {
         "data": {
          "bar": [
           {
            "error_x": {
             "color": "#2a3f5f"
            },
            "error_y": {
             "color": "#2a3f5f"
            },
            "marker": {
             "line": {
              "color": "#E5ECF6",
              "width": 0.5
             },
             "pattern": {
              "fillmode": "overlay",
              "size": 10,
              "solidity": 0.2
             }
            },
            "type": "bar"
           }
          ],
          "barpolar": [
           {
            "marker": {
             "line": {
              "color": "#E5ECF6",
              "width": 0.5
             },
             "pattern": {
              "fillmode": "overlay",
              "size": 10,
              "solidity": 0.2
             }
            },
            "type": "barpolar"
           }
          ],
          "carpet": [
           {
            "aaxis": {
             "endlinecolor": "#2a3f5f",
             "gridcolor": "white",
             "linecolor": "white",
             "minorgridcolor": "white",
             "startlinecolor": "#2a3f5f"
            },
            "baxis": {
             "endlinecolor": "#2a3f5f",
             "gridcolor": "white",
             "linecolor": "white",
             "minorgridcolor": "white",
             "startlinecolor": "#2a3f5f"
            },
            "type": "carpet"
           }
          ],
          "choropleth": [
           {
            "colorbar": {
             "outlinewidth": 0,
             "ticks": ""
            },
            "type": "choropleth"
           }
          ],
          "contour": [
           {
            "colorbar": {
             "outlinewidth": 0,
             "ticks": ""
            },
            "colorscale": [
             [
              0,
              "#0d0887"
             ],
             [
              0.1111111111111111,
              "#46039f"
             ],
             [
              0.2222222222222222,
              "#7201a8"
             ],
             [
              0.3333333333333333,
              "#9c179e"
             ],
             [
              0.4444444444444444,
              "#bd3786"
             ],
             [
              0.5555555555555556,
              "#d8576b"
             ],
             [
              0.6666666666666666,
              "#ed7953"
             ],
             [
              0.7777777777777778,
              "#fb9f3a"
             ],
             [
              0.8888888888888888,
              "#fdca26"
             ],
             [
              1,
              "#f0f921"
             ]
            ],
            "type": "contour"
           }
          ],
          "contourcarpet": [
           {
            "colorbar": {
             "outlinewidth": 0,
             "ticks": ""
            },
            "type": "contourcarpet"
           }
          ],
          "heatmap": [
           {
            "colorbar": {
             "outlinewidth": 0,
             "ticks": ""
            },
            "colorscale": [
             [
              0,
              "#0d0887"
             ],
             [
              0.1111111111111111,
              "#46039f"
             ],
             [
              0.2222222222222222,
              "#7201a8"
             ],
             [
              0.3333333333333333,
              "#9c179e"
             ],
             [
              0.4444444444444444,
              "#bd3786"
             ],
             [
              0.5555555555555556,
              "#d8576b"
             ],
             [
              0.6666666666666666,
              "#ed7953"
             ],
             [
              0.7777777777777778,
              "#fb9f3a"
             ],
             [
              0.8888888888888888,
              "#fdca26"
             ],
             [
              1,
              "#f0f921"
             ]
            ],
            "type": "heatmap"
           }
          ],
          "heatmapgl": [
           {
            "colorbar": {
             "outlinewidth": 0,
             "ticks": ""
            },
            "colorscale": [
             [
              0,
              "#0d0887"
             ],
             [
              0.1111111111111111,
              "#46039f"
             ],
             [
              0.2222222222222222,
              "#7201a8"
             ],
             [
              0.3333333333333333,
              "#9c179e"
             ],
             [
              0.4444444444444444,
              "#bd3786"
             ],
             [
              0.5555555555555556,
              "#d8576b"
             ],
             [
              0.6666666666666666,
              "#ed7953"
             ],
             [
              0.7777777777777778,
              "#fb9f3a"
             ],
             [
              0.8888888888888888,
              "#fdca26"
             ],
             [
              1,
              "#f0f921"
             ]
            ],
            "type": "heatmapgl"
           }
          ],
          "histogram": [
           {
            "marker": {
             "pattern": {
              "fillmode": "overlay",
              "size": 10,
              "solidity": 0.2
             }
            },
            "type": "histogram"
           }
          ],
          "histogram2d": [
           {
            "colorbar": {
             "outlinewidth": 0,
             "ticks": ""
            },
            "colorscale": [
             [
              0,
              "#0d0887"
             ],
             [
              0.1111111111111111,
              "#46039f"
             ],
             [
              0.2222222222222222,
              "#7201a8"
             ],
             [
              0.3333333333333333,
              "#9c179e"
             ],
             [
              0.4444444444444444,
              "#bd3786"
             ],
             [
              0.5555555555555556,
              "#d8576b"
             ],
             [
              0.6666666666666666,
              "#ed7953"
             ],
             [
              0.7777777777777778,
              "#fb9f3a"
             ],
             [
              0.8888888888888888,
              "#fdca26"
             ],
             [
              1,
              "#f0f921"
             ]
            ],
            "type": "histogram2d"
           }
          ],
          "histogram2dcontour": [
           {
            "colorbar": {
             "outlinewidth": 0,
             "ticks": ""
            },
            "colorscale": [
             [
              0,
              "#0d0887"
             ],
             [
              0.1111111111111111,
              "#46039f"
             ],
             [
              0.2222222222222222,
              "#7201a8"
             ],
             [
              0.3333333333333333,
              "#9c179e"
             ],
             [
              0.4444444444444444,
              "#bd3786"
             ],
             [
              0.5555555555555556,
              "#d8576b"
             ],
             [
              0.6666666666666666,
              "#ed7953"
             ],
             [
              0.7777777777777778,
              "#fb9f3a"
             ],
             [
              0.8888888888888888,
              "#fdca26"
             ],
             [
              1,
              "#f0f921"
             ]
            ],
            "type": "histogram2dcontour"
           }
          ],
          "mesh3d": [
           {
            "colorbar": {
             "outlinewidth": 0,
             "ticks": ""
            },
            "type": "mesh3d"
           }
          ],
          "parcoords": [
           {
            "line": {
             "colorbar": {
              "outlinewidth": 0,
              "ticks": ""
             }
            },
            "type": "parcoords"
           }
          ],
          "pie": [
           {
            "automargin": true,
            "type": "pie"
           }
          ],
          "scatter": [
           {
            "fillpattern": {
             "fillmode": "overlay",
             "size": 10,
             "solidity": 0.2
            },
            "type": "scatter"
           }
          ],
          "scatter3d": [
           {
            "line": {
             "colorbar": {
              "outlinewidth": 0,
              "ticks": ""
             }
            },
            "marker": {
             "colorbar": {
              "outlinewidth": 0,
              "ticks": ""
             }
            },
            "type": "scatter3d"
           }
          ],
          "scattercarpet": [
           {
            "marker": {
             "colorbar": {
              "outlinewidth": 0,
              "ticks": ""
             }
            },
            "type": "scattercarpet"
           }
          ],
          "scattergeo": [
           {
            "marker": {
             "colorbar": {
              "outlinewidth": 0,
              "ticks": ""
             }
            },
            "type": "scattergeo"
           }
          ],
          "scattergl": [
           {
            "marker": {
             "colorbar": {
              "outlinewidth": 0,
              "ticks": ""
             }
            },
            "type": "scattergl"
           }
          ],
          "scattermapbox": [
           {
            "marker": {
             "colorbar": {
              "outlinewidth": 0,
              "ticks": ""
             }
            },
            "type": "scattermapbox"
           }
          ],
          "scatterpolar": [
           {
            "marker": {
             "colorbar": {
              "outlinewidth": 0,
              "ticks": ""
             }
            },
            "type": "scatterpolar"
           }
          ],
          "scatterpolargl": [
           {
            "marker": {
             "colorbar": {
              "outlinewidth": 0,
              "ticks": ""
             }
            },
            "type": "scatterpolargl"
           }
          ],
          "scatterternary": [
           {
            "marker": {
             "colorbar": {
              "outlinewidth": 0,
              "ticks": ""
             }
            },
            "type": "scatterternary"
           }
          ],
          "surface": [
           {
            "colorbar": {
             "outlinewidth": 0,
             "ticks": ""
            },
            "colorscale": [
             [
              0,
              "#0d0887"
             ],
             [
              0.1111111111111111,
              "#46039f"
             ],
             [
              0.2222222222222222,
              "#7201a8"
             ],
             [
              0.3333333333333333,
              "#9c179e"
             ],
             [
              0.4444444444444444,
              "#bd3786"
             ],
             [
              0.5555555555555556,
              "#d8576b"
             ],
             [
              0.6666666666666666,
              "#ed7953"
             ],
             [
              0.7777777777777778,
              "#fb9f3a"
             ],
             [
              0.8888888888888888,
              "#fdca26"
             ],
             [
              1,
              "#f0f921"
             ]
            ],
            "type": "surface"
           }
          ],
          "table": [
           {
            "cells": {
             "fill": {
              "color": "#EBF0F8"
             },
             "line": {
              "color": "white"
             }
            },
            "header": {
             "fill": {
              "color": "#C8D4E3"
             },
             "line": {
              "color": "white"
             }
            },
            "type": "table"
           }
          ]
         },
         "layout": {
          "annotationdefaults": {
           "arrowcolor": "#2a3f5f",
           "arrowhead": 0,
           "arrowwidth": 1
          },
          "autotypenumbers": "strict",
          "coloraxis": {
           "colorbar": {
            "outlinewidth": 0,
            "ticks": ""
           }
          },
          "colorscale": {
           "diverging": [
            [
             0,
             "#8e0152"
            ],
            [
             0.1,
             "#c51b7d"
            ],
            [
             0.2,
             "#de77ae"
            ],
            [
             0.3,
             "#f1b6da"
            ],
            [
             0.4,
             "#fde0ef"
            ],
            [
             0.5,
             "#f7f7f7"
            ],
            [
             0.6,
             "#e6f5d0"
            ],
            [
             0.7,
             "#b8e186"
            ],
            [
             0.8,
             "#7fbc41"
            ],
            [
             0.9,
             "#4d9221"
            ],
            [
             1,
             "#276419"
            ]
           ],
           "sequential": [
            [
             0,
             "#0d0887"
            ],
            [
             0.1111111111111111,
             "#46039f"
            ],
            [
             0.2222222222222222,
             "#7201a8"
            ],
            [
             0.3333333333333333,
             "#9c179e"
            ],
            [
             0.4444444444444444,
             "#bd3786"
            ],
            [
             0.5555555555555556,
             "#d8576b"
            ],
            [
             0.6666666666666666,
             "#ed7953"
            ],
            [
             0.7777777777777778,
             "#fb9f3a"
            ],
            [
             0.8888888888888888,
             "#fdca26"
            ],
            [
             1,
             "#f0f921"
            ]
           ],
           "sequentialminus": [
            [
             0,
             "#0d0887"
            ],
            [
             0.1111111111111111,
             "#46039f"
            ],
            [
             0.2222222222222222,
             "#7201a8"
            ],
            [
             0.3333333333333333,
             "#9c179e"
            ],
            [
             0.4444444444444444,
             "#bd3786"
            ],
            [
             0.5555555555555556,
             "#d8576b"
            ],
            [
             0.6666666666666666,
             "#ed7953"
            ],
            [
             0.7777777777777778,
             "#fb9f3a"
            ],
            [
             0.8888888888888888,
             "#fdca26"
            ],
            [
             1,
             "#f0f921"
            ]
           ]
          },
          "colorway": [
           "#636efa",
           "#EF553B",
           "#00cc96",
           "#ab63fa",
           "#FFA15A",
           "#19d3f3",
           "#FF6692",
           "#B6E880",
           "#FF97FF",
           "#FECB52"
          ],
          "font": {
           "color": "#2a3f5f"
          },
          "geo": {
           "bgcolor": "white",
           "lakecolor": "white",
           "landcolor": "#E5ECF6",
           "showlakes": true,
           "showland": true,
           "subunitcolor": "white"
          },
          "hoverlabel": {
           "align": "left"
          },
          "hovermode": "closest",
          "mapbox": {
           "style": "light"
          },
          "paper_bgcolor": "white",
          "plot_bgcolor": "#E5ECF6",
          "polar": {
           "angularaxis": {
            "gridcolor": "white",
            "linecolor": "white",
            "ticks": ""
           },
           "bgcolor": "#E5ECF6",
           "radialaxis": {
            "gridcolor": "white",
            "linecolor": "white",
            "ticks": ""
           }
          },
          "scene": {
           "xaxis": {
            "backgroundcolor": "#E5ECF6",
            "gridcolor": "white",
            "gridwidth": 2,
            "linecolor": "white",
            "showbackground": true,
            "ticks": "",
            "zerolinecolor": "white"
           },
           "yaxis": {
            "backgroundcolor": "#E5ECF6",
            "gridcolor": "white",
            "gridwidth": 2,
            "linecolor": "white",
            "showbackground": true,
            "ticks": "",
            "zerolinecolor": "white"
           },
           "zaxis": {
            "backgroundcolor": "#E5ECF6",
            "gridcolor": "white",
            "gridwidth": 2,
            "linecolor": "white",
            "showbackground": true,
            "ticks": "",
            "zerolinecolor": "white"
           }
          },
          "shapedefaults": {
           "line": {
            "color": "#2a3f5f"
           }
          },
          "ternary": {
           "aaxis": {
            "gridcolor": "white",
            "linecolor": "white",
            "ticks": ""
           },
           "baxis": {
            "gridcolor": "white",
            "linecolor": "white",
            "ticks": ""
           },
           "bgcolor": "#E5ECF6",
           "caxis": {
            "gridcolor": "white",
            "linecolor": "white",
            "ticks": ""
           }
          },
          "title": {
           "x": 0.05
          },
          "xaxis": {
           "automargin": true,
           "gridcolor": "white",
           "linecolor": "white",
           "ticks": "",
           "title": {
            "standoff": 15
           },
           "zerolinecolor": "white",
           "zerolinewidth": 2
          },
          "yaxis": {
           "automargin": true,
           "gridcolor": "white",
           "linecolor": "white",
           "ticks": "",
           "title": {
            "standoff": 15
           },
           "zerolinecolor": "white",
           "zerolinewidth": 2
          }
         }
        },
        "title": {
         "text": "TOTAL NUMBER OF CHURCHES RECORDED IN SES 2023"
        },
        "xaxis": {
         "anchor": "y",
         "domain": [
          0,
          1
         ],
         "tickangle": 45,
         "title": {
          "text": "Title"
         }
        },
        "yaxis": {
         "anchor": "x",
         "domain": [
          0,
          1
         ],
         "title": {
          "text": "Count"
         }
        }
       }
      }
     },
     "metadata": {},
     "output_type": "display_data"
    }
   ],
   "source": [
    "# Calculate title counts\n",
    "Total_title = ses23['Name of Church'].value_counts()\n",
    "\n",
    "# Sort in descending order\n",
    "Total_title = Total_title.sort_values(ascending=False)\n",
    "\n",
    "# Create the plot\n",
    "fig = px.bar(x=Total_title.index, y=Total_title.values, text=Total_title.values,)\n",
    "\n",
    "# Customize the plot\n",
    "fig.update_layout(title='TOTAL NUMBER OF CHURCHES RECORDED IN SES 2023',\n",
    "                  xaxis_title='Title',\n",
    "                  yaxis_title='Count',\n",
    "                  xaxis={'tickangle': 45})\n",
    "\n",
    "# Show the plot\n",
    "fig.show()"
   ]
  },
  {
   "cell_type": "markdown",
   "id": "5fa5a6f7",
   "metadata": {},
   "source": [
    "##### Question 5 - What are the different occupations that were present?"
   ]
  },
  {
   "cell_type": "code",
   "execution_count": 44,
   "id": "ddf0ec53",
   "metadata": {},
   "outputs": [
    {
     "data": {
      "application/vnd.plotly.v1+json": {
       "config": {
        "plotlyServerURL": "https://plot.ly"
       },
       "data": [
        {
         "alignmentgroup": "True",
         "hovertemplate": "Occupation=%{x}<br>Count=%{y}<extra></extra>",
         "legendgroup": "",
         "marker": {
          "color": "#636efa",
          "pattern": {
           "shape": ""
          }
         },
         "name": "",
         "offsetgroup": "",
         "orientation": "v",
         "showlegend": false,
         "textposition": "auto",
         "type": "bar",
         "x": [
          "Clergy",
          "Office Workers",
          "Students",
          "Business Owners",
          "Artisans",
          "Civil Servants",
          "Educationists"
         ],
         "xaxis": "x",
         "y": [
          3487,
          72,
          18,
          9,
          9,
          2,
          1
         ],
         "yaxis": "y"
        }
       ],
       "layout": {
        "barmode": "relative",
        "legend": {
         "tracegroupgap": 0
        },
        "template": {
         "data": {
          "bar": [
           {
            "error_x": {
             "color": "#2a3f5f"
            },
            "error_y": {
             "color": "#2a3f5f"
            },
            "marker": {
             "line": {
              "color": "#E5ECF6",
              "width": 0.5
             },
             "pattern": {
              "fillmode": "overlay",
              "size": 10,
              "solidity": 0.2
             }
            },
            "type": "bar"
           }
          ],
          "barpolar": [
           {
            "marker": {
             "line": {
              "color": "#E5ECF6",
              "width": 0.5
             },
             "pattern": {
              "fillmode": "overlay",
              "size": 10,
              "solidity": 0.2
             }
            },
            "type": "barpolar"
           }
          ],
          "carpet": [
           {
            "aaxis": {
             "endlinecolor": "#2a3f5f",
             "gridcolor": "white",
             "linecolor": "white",
             "minorgridcolor": "white",
             "startlinecolor": "#2a3f5f"
            },
            "baxis": {
             "endlinecolor": "#2a3f5f",
             "gridcolor": "white",
             "linecolor": "white",
             "minorgridcolor": "white",
             "startlinecolor": "#2a3f5f"
            },
            "type": "carpet"
           }
          ],
          "choropleth": [
           {
            "colorbar": {
             "outlinewidth": 0,
             "ticks": ""
            },
            "type": "choropleth"
           }
          ],
          "contour": [
           {
            "colorbar": {
             "outlinewidth": 0,
             "ticks": ""
            },
            "colorscale": [
             [
              0,
              "#0d0887"
             ],
             [
              0.1111111111111111,
              "#46039f"
             ],
             [
              0.2222222222222222,
              "#7201a8"
             ],
             [
              0.3333333333333333,
              "#9c179e"
             ],
             [
              0.4444444444444444,
              "#bd3786"
             ],
             [
              0.5555555555555556,
              "#d8576b"
             ],
             [
              0.6666666666666666,
              "#ed7953"
             ],
             [
              0.7777777777777778,
              "#fb9f3a"
             ],
             [
              0.8888888888888888,
              "#fdca26"
             ],
             [
              1,
              "#f0f921"
             ]
            ],
            "type": "contour"
           }
          ],
          "contourcarpet": [
           {
            "colorbar": {
             "outlinewidth": 0,
             "ticks": ""
            },
            "type": "contourcarpet"
           }
          ],
          "heatmap": [
           {
            "colorbar": {
             "outlinewidth": 0,
             "ticks": ""
            },
            "colorscale": [
             [
              0,
              "#0d0887"
             ],
             [
              0.1111111111111111,
              "#46039f"
             ],
             [
              0.2222222222222222,
              "#7201a8"
             ],
             [
              0.3333333333333333,
              "#9c179e"
             ],
             [
              0.4444444444444444,
              "#bd3786"
             ],
             [
              0.5555555555555556,
              "#d8576b"
             ],
             [
              0.6666666666666666,
              "#ed7953"
             ],
             [
              0.7777777777777778,
              "#fb9f3a"
             ],
             [
              0.8888888888888888,
              "#fdca26"
             ],
             [
              1,
              "#f0f921"
             ]
            ],
            "type": "heatmap"
           }
          ],
          "heatmapgl": [
           {
            "colorbar": {
             "outlinewidth": 0,
             "ticks": ""
            },
            "colorscale": [
             [
              0,
              "#0d0887"
             ],
             [
              0.1111111111111111,
              "#46039f"
             ],
             [
              0.2222222222222222,
              "#7201a8"
             ],
             [
              0.3333333333333333,
              "#9c179e"
             ],
             [
              0.4444444444444444,
              "#bd3786"
             ],
             [
              0.5555555555555556,
              "#d8576b"
             ],
             [
              0.6666666666666666,
              "#ed7953"
             ],
             [
              0.7777777777777778,
              "#fb9f3a"
             ],
             [
              0.8888888888888888,
              "#fdca26"
             ],
             [
              1,
              "#f0f921"
             ]
            ],
            "type": "heatmapgl"
           }
          ],
          "histogram": [
           {
            "marker": {
             "pattern": {
              "fillmode": "overlay",
              "size": 10,
              "solidity": 0.2
             }
            },
            "type": "histogram"
           }
          ],
          "histogram2d": [
           {
            "colorbar": {
             "outlinewidth": 0,
             "ticks": ""
            },
            "colorscale": [
             [
              0,
              "#0d0887"
             ],
             [
              0.1111111111111111,
              "#46039f"
             ],
             [
              0.2222222222222222,
              "#7201a8"
             ],
             [
              0.3333333333333333,
              "#9c179e"
             ],
             [
              0.4444444444444444,
              "#bd3786"
             ],
             [
              0.5555555555555556,
              "#d8576b"
             ],
             [
              0.6666666666666666,
              "#ed7953"
             ],
             [
              0.7777777777777778,
              "#fb9f3a"
             ],
             [
              0.8888888888888888,
              "#fdca26"
             ],
             [
              1,
              "#f0f921"
             ]
            ],
            "type": "histogram2d"
           }
          ],
          "histogram2dcontour": [
           {
            "colorbar": {
             "outlinewidth": 0,
             "ticks": ""
            },
            "colorscale": [
             [
              0,
              "#0d0887"
             ],
             [
              0.1111111111111111,
              "#46039f"
             ],
             [
              0.2222222222222222,
              "#7201a8"
             ],
             [
              0.3333333333333333,
              "#9c179e"
             ],
             [
              0.4444444444444444,
              "#bd3786"
             ],
             [
              0.5555555555555556,
              "#d8576b"
             ],
             [
              0.6666666666666666,
              "#ed7953"
             ],
             [
              0.7777777777777778,
              "#fb9f3a"
             ],
             [
              0.8888888888888888,
              "#fdca26"
             ],
             [
              1,
              "#f0f921"
             ]
            ],
            "type": "histogram2dcontour"
           }
          ],
          "mesh3d": [
           {
            "colorbar": {
             "outlinewidth": 0,
             "ticks": ""
            },
            "type": "mesh3d"
           }
          ],
          "parcoords": [
           {
            "line": {
             "colorbar": {
              "outlinewidth": 0,
              "ticks": ""
             }
            },
            "type": "parcoords"
           }
          ],
          "pie": [
           {
            "automargin": true,
            "type": "pie"
           }
          ],
          "scatter": [
           {
            "fillpattern": {
             "fillmode": "overlay",
             "size": 10,
             "solidity": 0.2
            },
            "type": "scatter"
           }
          ],
          "scatter3d": [
           {
            "line": {
             "colorbar": {
              "outlinewidth": 0,
              "ticks": ""
             }
            },
            "marker": {
             "colorbar": {
              "outlinewidth": 0,
              "ticks": ""
             }
            },
            "type": "scatter3d"
           }
          ],
          "scattercarpet": [
           {
            "marker": {
             "colorbar": {
              "outlinewidth": 0,
              "ticks": ""
             }
            },
            "type": "scattercarpet"
           }
          ],
          "scattergeo": [
           {
            "marker": {
             "colorbar": {
              "outlinewidth": 0,
              "ticks": ""
             }
            },
            "type": "scattergeo"
           }
          ],
          "scattergl": [
           {
            "marker": {
             "colorbar": {
              "outlinewidth": 0,
              "ticks": ""
             }
            },
            "type": "scattergl"
           }
          ],
          "scattermapbox": [
           {
            "marker": {
             "colorbar": {
              "outlinewidth": 0,
              "ticks": ""
             }
            },
            "type": "scattermapbox"
           }
          ],
          "scatterpolar": [
           {
            "marker": {
             "colorbar": {
              "outlinewidth": 0,
              "ticks": ""
             }
            },
            "type": "scatterpolar"
           }
          ],
          "scatterpolargl": [
           {
            "marker": {
             "colorbar": {
              "outlinewidth": 0,
              "ticks": ""
             }
            },
            "type": "scatterpolargl"
           }
          ],
          "scatterternary": [
           {
            "marker": {
             "colorbar": {
              "outlinewidth": 0,
              "ticks": ""
             }
            },
            "type": "scatterternary"
           }
          ],
          "surface": [
           {
            "colorbar": {
             "outlinewidth": 0,
             "ticks": ""
            },
            "colorscale": [
             [
              0,
              "#0d0887"
             ],
             [
              0.1111111111111111,
              "#46039f"
             ],
             [
              0.2222222222222222,
              "#7201a8"
             ],
             [
              0.3333333333333333,
              "#9c179e"
             ],
             [
              0.4444444444444444,
              "#bd3786"
             ],
             [
              0.5555555555555556,
              "#d8576b"
             ],
             [
              0.6666666666666666,
              "#ed7953"
             ],
             [
              0.7777777777777778,
              "#fb9f3a"
             ],
             [
              0.8888888888888888,
              "#fdca26"
             ],
             [
              1,
              "#f0f921"
             ]
            ],
            "type": "surface"
           }
          ],
          "table": [
           {
            "cells": {
             "fill": {
              "color": "#EBF0F8"
             },
             "line": {
              "color": "white"
             }
            },
            "header": {
             "fill": {
              "color": "#C8D4E3"
             },
             "line": {
              "color": "white"
             }
            },
            "type": "table"
           }
          ]
         },
         "layout": {
          "annotationdefaults": {
           "arrowcolor": "#2a3f5f",
           "arrowhead": 0,
           "arrowwidth": 1
          },
          "autotypenumbers": "strict",
          "coloraxis": {
           "colorbar": {
            "outlinewidth": 0,
            "ticks": ""
           }
          },
          "colorscale": {
           "diverging": [
            [
             0,
             "#8e0152"
            ],
            [
             0.1,
             "#c51b7d"
            ],
            [
             0.2,
             "#de77ae"
            ],
            [
             0.3,
             "#f1b6da"
            ],
            [
             0.4,
             "#fde0ef"
            ],
            [
             0.5,
             "#f7f7f7"
            ],
            [
             0.6,
             "#e6f5d0"
            ],
            [
             0.7,
             "#b8e186"
            ],
            [
             0.8,
             "#7fbc41"
            ],
            [
             0.9,
             "#4d9221"
            ],
            [
             1,
             "#276419"
            ]
           ],
           "sequential": [
            [
             0,
             "#0d0887"
            ],
            [
             0.1111111111111111,
             "#46039f"
            ],
            [
             0.2222222222222222,
             "#7201a8"
            ],
            [
             0.3333333333333333,
             "#9c179e"
            ],
            [
             0.4444444444444444,
             "#bd3786"
            ],
            [
             0.5555555555555556,
             "#d8576b"
            ],
            [
             0.6666666666666666,
             "#ed7953"
            ],
            [
             0.7777777777777778,
             "#fb9f3a"
            ],
            [
             0.8888888888888888,
             "#fdca26"
            ],
            [
             1,
             "#f0f921"
            ]
           ],
           "sequentialminus": [
            [
             0,
             "#0d0887"
            ],
            [
             0.1111111111111111,
             "#46039f"
            ],
            [
             0.2222222222222222,
             "#7201a8"
            ],
            [
             0.3333333333333333,
             "#9c179e"
            ],
            [
             0.4444444444444444,
             "#bd3786"
            ],
            [
             0.5555555555555556,
             "#d8576b"
            ],
            [
             0.6666666666666666,
             "#ed7953"
            ],
            [
             0.7777777777777778,
             "#fb9f3a"
            ],
            [
             0.8888888888888888,
             "#fdca26"
            ],
            [
             1,
             "#f0f921"
            ]
           ]
          },
          "colorway": [
           "#636efa",
           "#EF553B",
           "#00cc96",
           "#ab63fa",
           "#FFA15A",
           "#19d3f3",
           "#FF6692",
           "#B6E880",
           "#FF97FF",
           "#FECB52"
          ],
          "font": {
           "color": "#2a3f5f"
          },
          "geo": {
           "bgcolor": "white",
           "lakecolor": "white",
           "landcolor": "#E5ECF6",
           "showlakes": true,
           "showland": true,
           "subunitcolor": "white"
          },
          "hoverlabel": {
           "align": "left"
          },
          "hovermode": "closest",
          "mapbox": {
           "style": "light"
          },
          "paper_bgcolor": "white",
          "plot_bgcolor": "#E5ECF6",
          "polar": {
           "angularaxis": {
            "gridcolor": "white",
            "linecolor": "white",
            "ticks": ""
           },
           "bgcolor": "#E5ECF6",
           "radialaxis": {
            "gridcolor": "white",
            "linecolor": "white",
            "ticks": ""
           }
          },
          "scene": {
           "xaxis": {
            "backgroundcolor": "#E5ECF6",
            "gridcolor": "white",
            "gridwidth": 2,
            "linecolor": "white",
            "showbackground": true,
            "ticks": "",
            "zerolinecolor": "white"
           },
           "yaxis": {
            "backgroundcolor": "#E5ECF6",
            "gridcolor": "white",
            "gridwidth": 2,
            "linecolor": "white",
            "showbackground": true,
            "ticks": "",
            "zerolinecolor": "white"
           },
           "zaxis": {
            "backgroundcolor": "#E5ECF6",
            "gridcolor": "white",
            "gridwidth": 2,
            "linecolor": "white",
            "showbackground": true,
            "ticks": "",
            "zerolinecolor": "white"
           }
          },
          "shapedefaults": {
           "line": {
            "color": "#2a3f5f"
           }
          },
          "ternary": {
           "aaxis": {
            "gridcolor": "white",
            "linecolor": "white",
            "ticks": ""
           },
           "baxis": {
            "gridcolor": "white",
            "linecolor": "white",
            "ticks": ""
           },
           "bgcolor": "#E5ECF6",
           "caxis": {
            "gridcolor": "white",
            "linecolor": "white",
            "ticks": ""
           }
          },
          "title": {
           "x": 0.05
          },
          "xaxis": {
           "automargin": true,
           "gridcolor": "white",
           "linecolor": "white",
           "ticks": "",
           "title": {
            "standoff": 15
           },
           "zerolinecolor": "white",
           "zerolinewidth": 2
          },
          "yaxis": {
           "automargin": true,
           "gridcolor": "white",
           "linecolor": "white",
           "ticks": "",
           "title": {
            "standoff": 15
           },
           "zerolinecolor": "white",
           "zerolinewidth": 2
          }
         }
        },
        "title": {
         "text": "Occupations Distribution"
        },
        "xaxis": {
         "anchor": "y",
         "domain": [
          0,
          1
         ],
         "title": {
          "text": "Occupation"
         }
        },
        "yaxis": {
         "anchor": "x",
         "domain": [
          0,
          1
         ],
         "title": {
          "text": "Count"
         }
        }
       }
      }
     },
     "metadata": {},
     "output_type": "display_data"
    }
   ],
   "source": [
    "# Assuming ses23 is your DataFrame containing the data\n",
    "# Replace 'Occupation' with the actual column name in your DataFrame\n",
    "occupation_counts = ses23['Occupation'].value_counts().reset_index()\n",
    "occupation_counts.columns = ['Occupation', 'Count']\n",
    "\n",
    "# Plotting\n",
    "fig = px.bar(occupation_counts, x='Occupation', y='Count', title='Occupations Distribution')\n",
    "fig.show()"
   ]
  },
  {
   "cell_type": "code",
   "execution_count": 45,
   "id": "99cabf89",
   "metadata": {},
   "outputs": [
    {
     "data": {
      "application/vnd.plotly.v1+json": {
       "config": {
        "plotlyServerURL": "https://plot.ly"
       },
       "data": [
        {
         "alignmentgroup": "True",
         "hovertemplate": "x=%{x}<br>y=%{y}<br>text=%{text}<extra></extra>",
         "legendgroup": "",
         "marker": {
          "color": "#636efa",
          "pattern": {
           "shape": ""
          }
         },
         "name": "",
         "offsetgroup": "",
         "orientation": "v",
         "showlegend": false,
         "text": [
          1466,
          973,
          600,
          232,
          200,
          31,
          24,
          13,
          11,
          10,
          10,
          10,
          10,
          2,
          2,
          2,
          2
         ],
         "textposition": "auto",
         "type": "bar",
         "x": [
          "Mr",
          "Mrs",
          "Miss",
          "Ps",
          "Rev",
          "Apostle",
          "Elder",
          "Evangelist",
          "Deaconess",
          "Dr",
          "Deacon",
          "Bishop",
          "Prophet",
          "Presiding Elder",
          "Cell leader",
          "Hon",
          "Prof"
         ],
         "xaxis": "x",
         "y": [
          1466,
          973,
          600,
          232,
          200,
          31,
          24,
          13,
          11,
          10,
          10,
          10,
          10,
          2,
          2,
          2,
          2
         ],
         "yaxis": "y"
        }
       ],
       "layout": {
        "barmode": "relative",
        "legend": {
         "tracegroupgap": 0
        },
        "margin": {
         "t": 60
        },
        "template": {
         "data": {
          "bar": [
           {
            "error_x": {
             "color": "#2a3f5f"
            },
            "error_y": {
             "color": "#2a3f5f"
            },
            "marker": {
             "line": {
              "color": "#E5ECF6",
              "width": 0.5
             },
             "pattern": {
              "fillmode": "overlay",
              "size": 10,
              "solidity": 0.2
             }
            },
            "type": "bar"
           }
          ],
          "barpolar": [
           {
            "marker": {
             "line": {
              "color": "#E5ECF6",
              "width": 0.5
             },
             "pattern": {
              "fillmode": "overlay",
              "size": 10,
              "solidity": 0.2
             }
            },
            "type": "barpolar"
           }
          ],
          "carpet": [
           {
            "aaxis": {
             "endlinecolor": "#2a3f5f",
             "gridcolor": "white",
             "linecolor": "white",
             "minorgridcolor": "white",
             "startlinecolor": "#2a3f5f"
            },
            "baxis": {
             "endlinecolor": "#2a3f5f",
             "gridcolor": "white",
             "linecolor": "white",
             "minorgridcolor": "white",
             "startlinecolor": "#2a3f5f"
            },
            "type": "carpet"
           }
          ],
          "choropleth": [
           {
            "colorbar": {
             "outlinewidth": 0,
             "ticks": ""
            },
            "type": "choropleth"
           }
          ],
          "contour": [
           {
            "colorbar": {
             "outlinewidth": 0,
             "ticks": ""
            },
            "colorscale": [
             [
              0,
              "#0d0887"
             ],
             [
              0.1111111111111111,
              "#46039f"
             ],
             [
              0.2222222222222222,
              "#7201a8"
             ],
             [
              0.3333333333333333,
              "#9c179e"
             ],
             [
              0.4444444444444444,
              "#bd3786"
             ],
             [
              0.5555555555555556,
              "#d8576b"
             ],
             [
              0.6666666666666666,
              "#ed7953"
             ],
             [
              0.7777777777777778,
              "#fb9f3a"
             ],
             [
              0.8888888888888888,
              "#fdca26"
             ],
             [
              1,
              "#f0f921"
             ]
            ],
            "type": "contour"
           }
          ],
          "contourcarpet": [
           {
            "colorbar": {
             "outlinewidth": 0,
             "ticks": ""
            },
            "type": "contourcarpet"
           }
          ],
          "heatmap": [
           {
            "colorbar": {
             "outlinewidth": 0,
             "ticks": ""
            },
            "colorscale": [
             [
              0,
              "#0d0887"
             ],
             [
              0.1111111111111111,
              "#46039f"
             ],
             [
              0.2222222222222222,
              "#7201a8"
             ],
             [
              0.3333333333333333,
              "#9c179e"
             ],
             [
              0.4444444444444444,
              "#bd3786"
             ],
             [
              0.5555555555555556,
              "#d8576b"
             ],
             [
              0.6666666666666666,
              "#ed7953"
             ],
             [
              0.7777777777777778,
              "#fb9f3a"
             ],
             [
              0.8888888888888888,
              "#fdca26"
             ],
             [
              1,
              "#f0f921"
             ]
            ],
            "type": "heatmap"
           }
          ],
          "heatmapgl": [
           {
            "colorbar": {
             "outlinewidth": 0,
             "ticks": ""
            },
            "colorscale": [
             [
              0,
              "#0d0887"
             ],
             [
              0.1111111111111111,
              "#46039f"
             ],
             [
              0.2222222222222222,
              "#7201a8"
             ],
             [
              0.3333333333333333,
              "#9c179e"
             ],
             [
              0.4444444444444444,
              "#bd3786"
             ],
             [
              0.5555555555555556,
              "#d8576b"
             ],
             [
              0.6666666666666666,
              "#ed7953"
             ],
             [
              0.7777777777777778,
              "#fb9f3a"
             ],
             [
              0.8888888888888888,
              "#fdca26"
             ],
             [
              1,
              "#f0f921"
             ]
            ],
            "type": "heatmapgl"
           }
          ],
          "histogram": [
           {
            "marker": {
             "pattern": {
              "fillmode": "overlay",
              "size": 10,
              "solidity": 0.2
             }
            },
            "type": "histogram"
           }
          ],
          "histogram2d": [
           {
            "colorbar": {
             "outlinewidth": 0,
             "ticks": ""
            },
            "colorscale": [
             [
              0,
              "#0d0887"
             ],
             [
              0.1111111111111111,
              "#46039f"
             ],
             [
              0.2222222222222222,
              "#7201a8"
             ],
             [
              0.3333333333333333,
              "#9c179e"
             ],
             [
              0.4444444444444444,
              "#bd3786"
             ],
             [
              0.5555555555555556,
              "#d8576b"
             ],
             [
              0.6666666666666666,
              "#ed7953"
             ],
             [
              0.7777777777777778,
              "#fb9f3a"
             ],
             [
              0.8888888888888888,
              "#fdca26"
             ],
             [
              1,
              "#f0f921"
             ]
            ],
            "type": "histogram2d"
           }
          ],
          "histogram2dcontour": [
           {
            "colorbar": {
             "outlinewidth": 0,
             "ticks": ""
            },
            "colorscale": [
             [
              0,
              "#0d0887"
             ],
             [
              0.1111111111111111,
              "#46039f"
             ],
             [
              0.2222222222222222,
              "#7201a8"
             ],
             [
              0.3333333333333333,
              "#9c179e"
             ],
             [
              0.4444444444444444,
              "#bd3786"
             ],
             [
              0.5555555555555556,
              "#d8576b"
             ],
             [
              0.6666666666666666,
              "#ed7953"
             ],
             [
              0.7777777777777778,
              "#fb9f3a"
             ],
             [
              0.8888888888888888,
              "#fdca26"
             ],
             [
              1,
              "#f0f921"
             ]
            ],
            "type": "histogram2dcontour"
           }
          ],
          "mesh3d": [
           {
            "colorbar": {
             "outlinewidth": 0,
             "ticks": ""
            },
            "type": "mesh3d"
           }
          ],
          "parcoords": [
           {
            "line": {
             "colorbar": {
              "outlinewidth": 0,
              "ticks": ""
             }
            },
            "type": "parcoords"
           }
          ],
          "pie": [
           {
            "automargin": true,
            "type": "pie"
           }
          ],
          "scatter": [
           {
            "fillpattern": {
             "fillmode": "overlay",
             "size": 10,
             "solidity": 0.2
            },
            "type": "scatter"
           }
          ],
          "scatter3d": [
           {
            "line": {
             "colorbar": {
              "outlinewidth": 0,
              "ticks": ""
             }
            },
            "marker": {
             "colorbar": {
              "outlinewidth": 0,
              "ticks": ""
             }
            },
            "type": "scatter3d"
           }
          ],
          "scattercarpet": [
           {
            "marker": {
             "colorbar": {
              "outlinewidth": 0,
              "ticks": ""
             }
            },
            "type": "scattercarpet"
           }
          ],
          "scattergeo": [
           {
            "marker": {
             "colorbar": {
              "outlinewidth": 0,
              "ticks": ""
             }
            },
            "type": "scattergeo"
           }
          ],
          "scattergl": [
           {
            "marker": {
             "colorbar": {
              "outlinewidth": 0,
              "ticks": ""
             }
            },
            "type": "scattergl"
           }
          ],
          "scattermapbox": [
           {
            "marker": {
             "colorbar": {
              "outlinewidth": 0,
              "ticks": ""
             }
            },
            "type": "scattermapbox"
           }
          ],
          "scatterpolar": [
           {
            "marker": {
             "colorbar": {
              "outlinewidth": 0,
              "ticks": ""
             }
            },
            "type": "scatterpolar"
           }
          ],
          "scatterpolargl": [
           {
            "marker": {
             "colorbar": {
              "outlinewidth": 0,
              "ticks": ""
             }
            },
            "type": "scatterpolargl"
           }
          ],
          "scatterternary": [
           {
            "marker": {
             "colorbar": {
              "outlinewidth": 0,
              "ticks": ""
             }
            },
            "type": "scatterternary"
           }
          ],
          "surface": [
           {
            "colorbar": {
             "outlinewidth": 0,
             "ticks": ""
            },
            "colorscale": [
             [
              0,
              "#0d0887"
             ],
             [
              0.1111111111111111,
              "#46039f"
             ],
             [
              0.2222222222222222,
              "#7201a8"
             ],
             [
              0.3333333333333333,
              "#9c179e"
             ],
             [
              0.4444444444444444,
              "#bd3786"
             ],
             [
              0.5555555555555556,
              "#d8576b"
             ],
             [
              0.6666666666666666,
              "#ed7953"
             ],
             [
              0.7777777777777778,
              "#fb9f3a"
             ],
             [
              0.8888888888888888,
              "#fdca26"
             ],
             [
              1,
              "#f0f921"
             ]
            ],
            "type": "surface"
           }
          ],
          "table": [
           {
            "cells": {
             "fill": {
              "color": "#EBF0F8"
             },
             "line": {
              "color": "white"
             }
            },
            "header": {
             "fill": {
              "color": "#C8D4E3"
             },
             "line": {
              "color": "white"
             }
            },
            "type": "table"
           }
          ]
         },
         "layout": {
          "annotationdefaults": {
           "arrowcolor": "#2a3f5f",
           "arrowhead": 0,
           "arrowwidth": 1
          },
          "autotypenumbers": "strict",
          "coloraxis": {
           "colorbar": {
            "outlinewidth": 0,
            "ticks": ""
           }
          },
          "colorscale": {
           "diverging": [
            [
             0,
             "#8e0152"
            ],
            [
             0.1,
             "#c51b7d"
            ],
            [
             0.2,
             "#de77ae"
            ],
            [
             0.3,
             "#f1b6da"
            ],
            [
             0.4,
             "#fde0ef"
            ],
            [
             0.5,
             "#f7f7f7"
            ],
            [
             0.6,
             "#e6f5d0"
            ],
            [
             0.7,
             "#b8e186"
            ],
            [
             0.8,
             "#7fbc41"
            ],
            [
             0.9,
             "#4d9221"
            ],
            [
             1,
             "#276419"
            ]
           ],
           "sequential": [
            [
             0,
             "#0d0887"
            ],
            [
             0.1111111111111111,
             "#46039f"
            ],
            [
             0.2222222222222222,
             "#7201a8"
            ],
            [
             0.3333333333333333,
             "#9c179e"
            ],
            [
             0.4444444444444444,
             "#bd3786"
            ],
            [
             0.5555555555555556,
             "#d8576b"
            ],
            [
             0.6666666666666666,
             "#ed7953"
            ],
            [
             0.7777777777777778,
             "#fb9f3a"
            ],
            [
             0.8888888888888888,
             "#fdca26"
            ],
            [
             1,
             "#f0f921"
            ]
           ],
           "sequentialminus": [
            [
             0,
             "#0d0887"
            ],
            [
             0.1111111111111111,
             "#46039f"
            ],
            [
             0.2222222222222222,
             "#7201a8"
            ],
            [
             0.3333333333333333,
             "#9c179e"
            ],
            [
             0.4444444444444444,
             "#bd3786"
            ],
            [
             0.5555555555555556,
             "#d8576b"
            ],
            [
             0.6666666666666666,
             "#ed7953"
            ],
            [
             0.7777777777777778,
             "#fb9f3a"
            ],
            [
             0.8888888888888888,
             "#fdca26"
            ],
            [
             1,
             "#f0f921"
            ]
           ]
          },
          "colorway": [
           "#636efa",
           "#EF553B",
           "#00cc96",
           "#ab63fa",
           "#FFA15A",
           "#19d3f3",
           "#FF6692",
           "#B6E880",
           "#FF97FF",
           "#FECB52"
          ],
          "font": {
           "color": "#2a3f5f"
          },
          "geo": {
           "bgcolor": "white",
           "lakecolor": "white",
           "landcolor": "#E5ECF6",
           "showlakes": true,
           "showland": true,
           "subunitcolor": "white"
          },
          "hoverlabel": {
           "align": "left"
          },
          "hovermode": "closest",
          "mapbox": {
           "style": "light"
          },
          "paper_bgcolor": "white",
          "plot_bgcolor": "#E5ECF6",
          "polar": {
           "angularaxis": {
            "gridcolor": "white",
            "linecolor": "white",
            "ticks": ""
           },
           "bgcolor": "#E5ECF6",
           "radialaxis": {
            "gridcolor": "white",
            "linecolor": "white",
            "ticks": ""
           }
          },
          "scene": {
           "xaxis": {
            "backgroundcolor": "#E5ECF6",
            "gridcolor": "white",
            "gridwidth": 2,
            "linecolor": "white",
            "showbackground": true,
            "ticks": "",
            "zerolinecolor": "white"
           },
           "yaxis": {
            "backgroundcolor": "#E5ECF6",
            "gridcolor": "white",
            "gridwidth": 2,
            "linecolor": "white",
            "showbackground": true,
            "ticks": "",
            "zerolinecolor": "white"
           },
           "zaxis": {
            "backgroundcolor": "#E5ECF6",
            "gridcolor": "white",
            "gridwidth": 2,
            "linecolor": "white",
            "showbackground": true,
            "ticks": "",
            "zerolinecolor": "white"
           }
          },
          "shapedefaults": {
           "line": {
            "color": "#2a3f5f"
           }
          },
          "ternary": {
           "aaxis": {
            "gridcolor": "white",
            "linecolor": "white",
            "ticks": ""
           },
           "baxis": {
            "gridcolor": "white",
            "linecolor": "white",
            "ticks": ""
           },
           "bgcolor": "#E5ECF6",
           "caxis": {
            "gridcolor": "white",
            "linecolor": "white",
            "ticks": ""
           }
          },
          "title": {
           "x": 0.05
          },
          "xaxis": {
           "automargin": true,
           "gridcolor": "white",
           "linecolor": "white",
           "ticks": "",
           "title": {
            "standoff": 15
           },
           "zerolinecolor": "white",
           "zerolinewidth": 2
          },
          "yaxis": {
           "automargin": true,
           "gridcolor": "white",
           "linecolor": "white",
           "ticks": "",
           "title": {
            "standoff": 15
           },
           "zerolinecolor": "white",
           "zerolinewidth": 2
          }
         }
        },
        "title": {
         "text": "TOTAL NUMBER OF TITLE OF PARTICIPANT THAT CAME FOR THE SES 2023"
        },
        "xaxis": {
         "anchor": "y",
         "domain": [
          0,
          1
         ],
         "tickangle": 45,
         "title": {
          "text": "Title"
         }
        },
        "yaxis": {
         "anchor": "x",
         "domain": [
          0,
          1
         ],
         "title": {
          "text": "Count"
         }
        }
       }
      }
     },
     "metadata": {},
     "output_type": "display_data"
    }
   ],
   "source": [
    "# Calculate title counts\n",
    "Total_title = ses23['Title'].value_counts()\n",
    "\n",
    "# Sort in descending order\n",
    "Total_title = Total_title.sort_values(ascending=False)\n",
    "\n",
    "# Create the plot\n",
    "fig = px.bar(x=Total_title.index, y=Total_title.values, text=Total_title.values,)\n",
    "\n",
    "# Customize the plot\n",
    "fig.update_layout(title='TOTAL NUMBER OF TITLE OF PARTICIPANT THAT CAME FOR THE SES 2023',\n",
    "                  xaxis_title='Title',\n",
    "                  yaxis_title='Count',\n",
    "                  xaxis={'tickangle': 45})\n",
    "\n",
    "# Show the plot\n",
    "fig.show()"
   ]
  },
  {
   "cell_type": "markdown",
   "id": "707eb3ff",
   "metadata": {},
   "source": [
    "##### CONVERT TIMESTAMP INTO DATETIME"
   ]
  },
  {
   "cell_type": "code",
   "execution_count": 46,
   "id": "23ea42a5",
   "metadata": {},
   "outputs": [],
   "source": [
    "# Convert 'Timestamp' column to datetime\n",
    "ses23['Timestamp'] = pd.to_datetime(ses23['Timestamp'], errors='coerce')"
   ]
  },
  {
   "cell_type": "code",
   "execution_count": 47,
   "id": "991d13b1",
   "metadata": {},
   "outputs": [],
   "source": [
    "# Convert timestamp column to datetime\n",
    "ses23['Timestamp'] = pd.to_datetime(ses23['Timestamp'])\n",
    "# Analyze distribution of timestamps\n",
    "timestamp_distribution = ses23['Timestamp'].dt.day_name().value_counts()"
   ]
  },
  {
   "cell_type": "code",
   "execution_count": 48,
   "id": "91daee18",
   "metadata": {},
   "outputs": [
    {
     "ename": "NameError",
     "evalue": "name 'world' is not defined",
     "output_type": "error",
     "traceback": [
      "\u001b[1;31m---------------------------------------------------------------------------\u001b[0m",
      "\u001b[1;31mNameError\u001b[0m                                 Traceback (most recent call last)",
      "Cell \u001b[1;32mIn[48], line 2\u001b[0m\n\u001b[0;32m      1\u001b[0m \u001b[38;5;66;03m# Select only the countries from the world map that are in your dataset\u001b[39;00m\n\u001b[1;32m----> 2\u001b[0m countries_to_plot \u001b[38;5;241m=\u001b[39m \u001b[43mworld\u001b[49m[ses23[\u001b[38;5;124m'\u001b[39m\u001b[38;5;124mCountry\u001b[39m\u001b[38;5;124m'\u001b[39m]\u001b[38;5;241m.\u001b[39misin(country_names)]\n\u001b[0;32m      4\u001b[0m \u001b[38;5;66;03m# Plot the map\u001b[39;00m\n\u001b[0;32m      5\u001b[0m fig, ax \u001b[38;5;241m=\u001b[39m plt\u001b[38;5;241m.\u001b[39msubplots(figsize\u001b[38;5;241m=\u001b[39m(\u001b[38;5;241m10\u001b[39m, \u001b[38;5;241m6\u001b[39m))\n",
      "\u001b[1;31mNameError\u001b[0m: name 'world' is not defined"
     ]
    }
   ],
   "source": [
    "# Select only the countries from the world map that are in your dataset\n",
    "countries_to_plot = world[ses23['Country'].isin(country_names)]\n",
    "\n",
    "# Plot the map\n",
    "fig, ax = plt.subplots(figsize=(10, 6))\n",
    "world.plot(ax=ax, color='lightgrey')  # Plot world map as background\n",
    "countries_to_plot.plot(ax=ax, color='blue', edgecolor='black')  # Plot selected countries\n",
    "ax.set_title('Selected Countries')\n",
    "\n",
    "# Show plot\n",
    "plt.show()"
   ]
  }
 ],
 "metadata": {
  "kernelspec": {
   "display_name": "Python 3 (ipykernel)",
   "language": "python",
   "name": "python3"
  },
  "language_info": {
   "codemirror_mode": {
    "name": "ipython",
    "version": 3
   },
   "file_extension": ".py",
   "mimetype": "text/x-python",
   "name": "python",
   "nbconvert_exporter": "python",
   "pygments_lexer": "ipython3",
   "version": "3.11.1"
  }
 },
 "nbformat": 4,
 "nbformat_minor": 5
}
