{
 "cells": [
  {
   "cell_type": "markdown",
   "id": "d6f4c93f",
   "metadata": {},
   "source": [
    "## <center>SUPERNATURAL EMPOWERMENT SUMMIT, '23 </center>"
   ]
  },
  {
   "cell_type": "markdown",
   "id": "7d5bede5",
   "metadata": {},
   "source": [
    "### IMPORT PACKAGES"
   ]
  },
  {
   "cell_type": "code",
   "execution_count": null,
   "id": "4b650685",
   "metadata": {},
   "outputs": [],
   "source": [
    "#Data Handling\n",
    "import numpy as np\n",
    "import pandas as pd\n",
    "\n",
    "#Visualizations\n",
    "import seaborn as sns\n",
    "import plotly.express as px\n",
    "import matplotlib.pyplot as plt\n",
    "\n",
    "from termcolor import colored\n",
    "\n",
    "# Feature Processing (Scikit-learn processing, etc. )\n",
    "from sklearn.preprocessing import LabelEncoder\n",
    "\n",
    "# Evaluation Metrics\n",
    "from sklearn.model_selection import train_test_split\n",
    "from catboost import CatBoostClassifier\n",
    "from sklearn.metrics import f1_score, recall_score, precision_score, fbeta_score, accuracy_score, roc_auc_score\n",
    "from sklearn.metrics import confusion_matrix\n",
    "from sklearn.feature_selection import RFE\n",
    "\n",
    "#Other packages\n",
    "import warnings\n",
    "warnings.filterwarnings('always') "
   ]
  },
  {
   "cell_type": "code",
   "execution_count": null,
   "id": "8ee1cdea",
   "metadata": {},
   "outputs": [],
   "source": [
    "# Overview of the dataset\n",
    "\n",
    "ses23 = pd.read_csv(\"C:/Users/KWABENABOATENG/Desktop/DATA ANALYSIS/PERSONAL/SES 2023/SUPERNATURAL-EMPOWERMENT-SUMMIT---2023/SES '23.csv\")\n",
    "ses23"
   ]
  },
  {
   "cell_type": "code",
   "execution_count": null,
   "id": "ae2acdc5",
   "metadata": {},
   "outputs": [],
   "source": [
    "# Check the shape of the dataset.\n",
    "\n",
    "ses23.shape"
   ]
  },
  {
   "cell_type": "code",
   "execution_count": null,
   "id": "7588c705",
   "metadata": {},
   "outputs": [],
   "source": [
    "ses23.info()"
   ]
  },
  {
   "cell_type": "code",
   "execution_count": null,
   "id": "7a220ea9",
   "metadata": {},
   "outputs": [],
   "source": [
    "ses23.isnull()"
   ]
  },
  {
   "cell_type": "code",
   "execution_count": null,
   "id": "cb2f37c6",
   "metadata": {},
   "outputs": [],
   "source": [
    "ses23.isnull().sum()"
   ]
  },
  {
   "cell_type": "code",
   "execution_count": null,
   "id": "837c3693",
   "metadata": {},
   "outputs": [],
   "source": [
    "# Check for the total null values.\n",
    "\n",
    "ses23.isnull().sum().sum()"
   ]
  },
  {
   "cell_type": "code",
   "execution_count": null,
   "id": "cbe19800",
   "metadata": {},
   "outputs": [],
   "source": [
    "ses23"
   ]
  },
  {
   "cell_type": "markdown",
   "id": "bc28dfe4",
   "metadata": {},
   "source": [
    "### INSIGHTS\n",
    "\n",
    "In this data sets, there are;\n",
    "* 3598 rows & 10 columns."
   ]
  },
  {
   "cell_type": "code",
   "execution_count": null,
   "id": "d77cc63f",
   "metadata": {},
   "outputs": [],
   "source": [
    "#Check for missing values in this dataset.\n",
    "\n",
    "ses23.isna().sum()"
   ]
  },
  {
   "cell_type": "markdown",
   "id": "1a2fb0e6",
   "metadata": {},
   "source": [
    "#### INSIGHTS\n",
    "\n",
    "There were missing values in four columns of the dataset.<br>\n",
    "They are:\n",
    "* WhatsApp column       - 2715 missing values.\n",
    "* Email Address column  - 2131 missing values.\n",
    "* Occupation column     - 3389 missing values.\n",
    "* Name of Church column - 410 missing values."
   ]
  },
  {
   "cell_type": "code",
   "execution_count": null,
   "id": "e07e7670",
   "metadata": {},
   "outputs": [],
   "source": [
    "ses23.describe(include='all')"
   ]
  },
  {
   "cell_type": "markdown",
   "id": "9cb3b090",
   "metadata": {},
   "source": [
    "### FEATURE ENGINEERING"
   ]
  },
  {
   "cell_type": "code",
   "execution_count": null,
   "id": "8af941a2",
   "metadata": {},
   "outputs": [],
   "source": [
    "#Create a copy of the original test dataset\n",
    "\n",
    "ses23.copy = ses23.copy()"
   ]
  },
  {
   "cell_type": "code",
   "execution_count": null,
   "id": "47ce997d",
   "metadata": {},
   "outputs": [],
   "source": [
    "ses23.drop (columns=['Timestamp', 'WhatsApp Number', 'Email Address'], inplace = True)"
   ]
  },
  {
   "cell_type": "code",
   "execution_count": null,
   "id": "a982cc43",
   "metadata": {},
   "outputs": [],
   "source": [
    "ses23"
   ]
  },
  {
   "cell_type": "code",
   "execution_count": null,
   "id": "8265104b",
   "metadata": {},
   "outputs": [],
   "source": [
    "ses23.isnull()"
   ]
  },
  {
   "cell_type": "code",
   "execution_count": null,
   "id": "f231752d",
   "metadata": {},
   "outputs": [],
   "source": [
    "ses23.isnull().sum()"
   ]
  },
  {
   "cell_type": "code",
   "execution_count": null,
   "id": "2eed595d",
   "metadata": {},
   "outputs": [],
   "source": [
    "ses23['Occupation'].fillna('Pastor', inplace=True)"
   ]
  },
  {
   "cell_type": "code",
   "execution_count": null,
   "id": "c033b3d9",
   "metadata": {},
   "outputs": [],
   "source": [
    "ses23['Name of Church'].fillna('Perez Chapel', inplace=True)"
   ]
  },
  {
   "cell_type": "code",
   "execution_count": null,
   "id": "4c228077",
   "metadata": {},
   "outputs": [],
   "source": [
    "ses23['Name of Church'].unique()"
   ]
  },
  {
   "cell_type": "code",
   "execution_count": null,
   "id": "51044ca9",
   "metadata": {},
   "outputs": [],
   "source": [
    "ses23.replace(to_replace='PEREZ', value = 'Perez Chapel')\n",
    "ses23.replace(to_replace='Perz Chapel', value = 'Perez Chapel')\n",
    "ses23.replace(to_replace='PCI DOME', value = 'Perez Chapel')\n",
    "ses23.replace(to_replace='Dome ', value = 'Perez Chapel')\n",
    "ses23.replace(to_replace='Perez Chapel', value = 'Perez Chapel')\n",
    "ses23.replace(to_replace='Perez Dome ', value = 'Perez Chapel')\n",
    "ses23.replace(to_replace='Perez ', value = 'Perez Chapel')\n",
    "ses23.replace(to_replace='Perez Aflao ', value = 'Perez Chapel')\n",
    "ses23.replace(to_replace='PCM', value = 'Perez Chapel')\n",
    "ses23.replace(to_replace='PCI Denu', value = 'Perez Chapel')\n",
    "ses23.replace(to_replace='PCI Denu', value = 'Perez Chapel')\n",
    "ses23.replace(to_replace='Perez Amanfro', value = 'Perez Chapel')\n",
    "ses23.replace(to_replace='Perez- zoeland ', value = 'Perez Chapel')\n",
    "ses23.replace(to_replace='Pci', value = 'Perez Chapel')\n",
    "ses23.replace(to_replace='Zoeland', value = 'Perez Chapel')\n",
    "ses23.replace(to_replace='PCi', value = 'Perez Chapel')\n",
    "ses23.replace(to_replace='PCI-Tesano', value = 'Perez Chapel')\n",
    "ses23.replace(to_replace='Zoe', value = 'Perez Chapel')\n",
    "ses23.replace(to_replace='Perez/ Dome', value = 'Perez Chapel')\n",
    "ses23.replace(to_replace='Perez H.Q', value = 'Perez Chapel')\n",
    "ses23.replace(to_replace='Perez K.K.', value = 'Perez Chapel')\n",
    "ses23.replace(to_replace='Perez chapel international -Odorkor', value = 'Perez Chapel')\n",
    "ses23.replace(to_replace='Perez Chapel international ', value = 'Perez Chapel')\n",
    "ses23.replace(to_replace='Perez Spintex', value = 'Perez Chapel')\n",
    "ses23.replace(to_replace='Perez (Spintex)', value = 'Perez Chapel')\n",
    "ses23.replace(to_replace='Perez Brazzaville', value = 'Perez Chapel')\n",
    "ses23.replace(to_replace='PCI/ French', value = 'Perez Chapel')\n",
    "ses23.replace(to_replace='Perez Manhean', value = 'Perez Chapel')\n",
    "ses23.replace(to_replace='Pci Dzorwulu', value = 'Perez Chapel')\n",
    "ses23.replace(to_replace='KANDA PCZ', value = 'Perez Chapel')\n",
    "ses23.replace(to_replace='Perez Afiaman', value = 'Perez Chapel')\n",
    "ses23.replace(to_replace='Perez Mankesim', value = 'Perez Chapel')\n",
    "ses23.replace(to_replace='PEREZ TESANO', value = 'Perez Chapel')\n",
    "ses23.replace(to_replace='PCI MANKESIM', value = 'Perez Chapel')\n",
    "ses23.replace(to_replace='Dome ', value = 'Perez Chapel')\n",
    "ses23.replace(to_replace='Dome ', value = 'Perez Chapel')\n",
    "ses23.replace(to_replace='Dome ', value = 'Perez Chapel')\n",
    "ses23.replace(to_replace='Dome ', value = 'Perez Chapel')\n",
    "ses23.replace(to_replace='Dome ', value = 'Perez Chapel')\n",
    "ses23.replace(to_replace='Dome ', value = 'Perez Chapel')\n",
    "ses23.replace(to_replace='Dome ', value = 'Perez Chapel')\n",
    "ses23.replace(to_replace='Dome ', value = 'Perez Chapel')\n",
    "ses23.replace(to_replace='Dome ', value = 'Perez Chapel')\n",
    "ses23.replace(to_replace='Dome ', value = 'Perez Chapel')\n",
    "ses23.replace(to_replace='Dome ', value = 'Perez Chapel')\n",
    "ses23.replace(to_replace='Dome ', value = 'Perez Chapel')\n",
    "ses23.replace(to_replace='Dome ', value = 'Perez Chapel')\n",
    "ses23.replace(to_replace='Dome ', value = 'Perez Chapel')\n",
    "ses23.replace(to_replace='Dome ', value = 'Perez Chapel')\n",
    "ses23.replace(to_replace='Dome ', value = 'Perez Chapel')\n",
    "ses23.replace(to_replace='Dome ', value = 'Perez Chapel')"
   ]
  },
  {
   "cell_type": "code",
   "execution_count": null,
   "id": "760aa79c",
   "metadata": {},
   "outputs": [],
   "source": []
  },
  {
   "cell_type": "code",
   "execution_count": null,
   "id": "3a94a559",
   "metadata": {},
   "outputs": [],
   "source": []
  },
  {
   "cell_type": "code",
   "execution_count": null,
   "id": "6f22704f",
   "metadata": {},
   "outputs": [],
   "source": []
  },
  {
   "cell_type": "code",
   "execution_count": null,
   "id": "7fea7a3b",
   "metadata": {},
   "outputs": [],
   "source": [
    "ses23"
   ]
  },
  {
   "cell_type": "code",
   "execution_count": null,
   "id": "a61154cd",
   "metadata": {},
   "outputs": [],
   "source": []
  },
  {
   "cell_type": "code",
   "execution_count": null,
   "id": "db0b150d",
   "metadata": {},
   "outputs": [],
   "source": []
  },
  {
   "cell_type": "code",
   "execution_count": null,
   "id": "0b0d0eab",
   "metadata": {},
   "outputs": [],
   "source": []
  },
  {
   "cell_type": "code",
   "execution_count": null,
   "id": "1760d018",
   "metadata": {},
   "outputs": [],
   "source": []
  },
  {
   "cell_type": "code",
   "execution_count": null,
   "id": "6f4b81a6",
   "metadata": {},
   "outputs": [],
   "source": []
  },
  {
   "cell_type": "code",
   "execution_count": null,
   "id": "034b91ef",
   "metadata": {},
   "outputs": [],
   "source": []
  },
  {
   "cell_type": "code",
   "execution_count": null,
   "id": "0b5ba6e9",
   "metadata": {},
   "outputs": [],
   "source": []
  },
  {
   "cell_type": "code",
   "execution_count": null,
   "id": "8554c18f",
   "metadata": {},
   "outputs": [],
   "source": []
  },
  {
   "cell_type": "code",
   "execution_count": null,
   "id": "15635de7",
   "metadata": {},
   "outputs": [],
   "source": []
  },
  {
   "cell_type": "code",
   "execution_count": null,
   "id": "3f31a16c",
   "metadata": {},
   "outputs": [],
   "source": []
  },
  {
   "cell_type": "code",
   "execution_count": null,
   "id": "f16a8fd1",
   "metadata": {},
   "outputs": [],
   "source": []
  },
  {
   "cell_type": "code",
   "execution_count": null,
   "id": "2cf0c9f9",
   "metadata": {},
   "outputs": [],
   "source": []
  },
  {
   "cell_type": "code",
   "execution_count": null,
   "id": "49f91f86",
   "metadata": {},
   "outputs": [],
   "source": [
    "ses23['Title'].unique()"
   ]
  },
  {
   "cell_type": "code",
   "execution_count": null,
   "id": "ed1c564e",
   "metadata": {},
   "outputs": [],
   "source": [
    "ses23['Title'] = ses23['Title'].replace('Presiding Elderer','Presiding Elder')\n",
    "ses23['Title'] = ses23['Title'].replace('Rev ','Rev')\n",
    "ses23['Title'] = ses23['Title'].replace('Pastor','Ps')\n",
    "ses23['Title'] = ses23['Title'].replace('ELDER MRS.','Elder Mrs')\n",
    "ses23['Title'] = ses23['Title'].replace('Mrs.','Mrs')\n",
    "ses23['Title'] = ses23['Title'].replace('Ms','Miss')\n",
    "ses23['Title'] = ses23['Title'].replace('Ms.','Miss')\n",
    "ses23['Title'] = ses23['Title'].replace('Mr.','Mr')\n",
    "ses23['Title'] = ses23['Title'].replace('Mrs ','Mrs')\n",
    "ses23['Title'] = ses23['Title'].replace('Dr.','Dr')\n",
    "ses23['Title'] = ses23['Title'].replace('Miss ','Miss')\n",
    "ses23['Title'] = ses23['Title'].replace('Mr ','Mr')\n",
    "ses23['Title'] = ses23['Title'].replace('REV ','Rev')\n",
    "ses23['Title'] = ses23['Title'].replace('REV','Rev')\n",
    "ses23['Title'] = ses23['Title'].replace('SP','Ps')\n",
    "ses23['Title'] = ses23['Title'].replace('Mr. ','Mr')\n",
    "ses23['Title'] = ses23['Title'].replace('Mis','Miss')\n",
    "ses23['Title'] = ses23['Title'].replace('Rev. ','Rev')\n",
    "ses23['Title'] = ses23['Title'].replace('Cell leader ','Cell leader')\n",
    "ses23['Title'] = ses23['Title'].replace('Ms ','Miss')\n",
    "ses23['Title'] = ses23['Title'].replace('Reverend','Rev')\n",
    "ses23['Title'] = ses23['Title'].replace('Madam','Mrs')\n",
    "ses23['Title'] = ses23['Title'].replace('Ps. ','Ps')\n",
    "ses23['Title'] = ses23['Title'].replace('Bro','Mr')\n",
    "ses23['Title'] = ses23['Title'].replace('Me','Mr')\n",
    "ses23['Title'] = ses23['Title'].replace('Ps.','Ps')\n",
    "ses23['Title'] = ses23['Title'].replace('Sir','Mr')\n",
    "ses23['Title'] = ses23['Title'].replace('Pastor ','Ps')\n",
    "ses23['Title'] = ses23['Title'].replace('Deaconess ','Deaconess')\n",
    "ses23['Title'] = ses23['Title'].replace('Apostle ','Apostle')\n",
    "ses23['Title'] = ses23['Title'].replace('Madam ','Mrs')\n",
    "ses23['Title'] = ses23['Title'].replace('Prophet ','Prophet')\n",
    "ses23['Title'] = ses23['Title'].replace('Evangelist ','Evangelist')\n",
    "ses23['Title'] = ses23['Title'].replace('Pas')\n",
    "ses23['Title'] = ses23['Title'].replace('MRS','Mrs')\n",
    "ses23['Title'] = ses23['Title'].replace('Mrs. ','Mrs')\n",
    "ses23['Title'] = ses23['Title'].replace('MADAM','Mrs')\n",
    "ses23['Title'] = ses23['Title'].replace('MR','Mr')\n",
    "ses23['Title'] = ses23['Title'].replace('PASTOR','Ps')\n",
    "ses23['Title'] = ses23['Title'].replace('MADAM ','Mrs')\n",
    "ses23['Title'] = ses23['Title'].replace('Elder ','Elder')\n",
    "ses23['Title'] = ses23['Title'].replace('Apt', 'Apostle')\n",
    "ses23['Title'] = ses23['Title'].replace('F','Mr')\n",
    "ses23['Title'] = ses23['Title'].replace('Asafo Maame','Mrs')\n",
    "ses23['Title'] = ses23['Title'].replace('Reverend ','Rev')\n",
    "ses23['Title'] = ses23['Title'].replace('Mr/Ms','Mr')\n",
    "ses23['Title'] = ses23['Title'].replace('P. Eld.','Presiding Elder')\n",
    "ses23['Title'] = ses23['Title'].replace('Evang','Evangelist')\n",
    "ses23['Title'] = ses23['Title'].replace('M & E','Mr')\n",
    "ses23['Title'] = ses23['Title'].replace('Bishop ','Bishop')\n",
    "ses23['Title'] = ses23['Title'].replace('Deacon ','Deacon')\n",
    "ses23['Title'] = ses23['Title'].replace('mrs','Mrs')\n",
    "ses23['Title'] = ses23['Title'].replace('Daniel','Mr')\n",
    "ses23['Title'] = ses23['Title'].replace('MISS','Miss')\n",
    "ses23['Title'] = ses23['Title'].replace('Mrs  ','Mrs')\n",
    "ses23['Title'] = ses23['Title'].replace('Mes','Mrs')\n",
    "ses23['Title'] = ses23['Title'].replace('Mt','Mr')\n",
    "ses23['Title'] = ses23['Title'].replace('Min','Mr')\n",
    "ses23['Title'] = ses23['Title'].replace('Madame ','Mrs')\n",
    "ses23['Title'] = ses23['Title'].replace('Mr..','Mr')\n",
    "ses23['Title'] = ses23['Title'].replace('Pst','Ps')\n",
    "ses23['Title'] = ses23['Title'].replace('Mre','Mrs')\n",
    "ses23['Title'] = ses23['Title'].replace('Mr/Miss','Mr')\n",
    "ses23['Title'] = ses23['Title'].replace('PS','Ps')\n",
    "ses23['Title'] = ses23['Title'].replace('Apst','Apostle')\n",
    "ses23['Title'] = ses23['Title'].replace('MRS ','Mrs')\n",
    "ses23['Title'] = ses23['Title'].replace('PS ','Ps')\n",
    "ses23['Title'] = ses23['Title'].replace('Mad','Mrs')\n",
    "ses23['Title'] = ses23['Title'].replace('Deaconnes','Deaconess')\n",
    "ses23['Title'] = ses23['Title'].replace('Eld','Elder')\n",
    "ses23['Title'] = ses23['Title'].replace('Overseer','Ps')\n",
    "ses23['Title'] = ses23['Title'].replace('Brother ','Mr')\n",
    "ses23['Title'] = ses23['Title'].replace('Mme','Mrs')\n",
    "ses23['Title'] = ses23['Title'].replace('Evan','Evangelist')\n",
    "ses23['Title'] = ses23['Title'].replace('Pat ','Ps')\n",
    "ses23['Title'] = ses23['Title'].replace('Master','Mr')\n",
    "ses23['Title'] = ses23['Title'].replace('Ps ','Ps')\n",
    "ses23['Title'] = ses23['Title'].replace('Prb','Prophet')\n",
    "ses23['Title'] = ses23['Title'].replace('Prb ','Prophet')\n",
    "ses23['Title'] = ses23['Title'].replace('Madam Awortwe','Mrs')\n",
    "ses23['Title'] = ses23['Title'].replace('Doctor ','Dr')\n",
    "ses23['Title'] = ses23['Title'].replace('M','Mr')\n",
    "ses23['Title'] = ses23['Title'].replace('MR','Mr')\n",
    "ses23['Title'] = ses23['Title'].replace('mr','Mr')\n",
    "ses23['Title'] = ses23['Title'].replace('MS','Miss')\n",
    "ses23['Title'] = ses23['Title'].replace('BISHOP','Bishop')\n",
    "ses23['Title'] = ses23['Title'].replace('PROPHET','Prophet')\n",
    "ses23['Title'] = ses23['Title'].replace('M & E ','Mr')\n",
    "ses23['Title'] = ses23['Title'].replace('Djicopitro','Mr')\n",
    "ses23['Title'] = ses23['Title'].replace('MR ','Mr')\n",
    "ses23['Title'] = ses23['Title'].replace('Rev.','Rev')\n",
    "ses23['Title'] = ses23['Title'].replace('Minister','Mr')\n",
    "ses23['Title'] = ses23['Title'].replace('Rev. Dr','Rev')\n",
    "ses23['Title'] = ses23['Title'].replace('Rev. Prophet' ,'Prophet')"
   ]
  },
  {
   "cell_type": "code",
   "execution_count": null,
   "id": "87daafc9",
   "metadata": {},
   "outputs": [],
   "source": [
    "ses23['Title'].unique()"
   ]
  },
  {
   "cell_type": "code",
   "execution_count": null,
   "id": "1a6872bb",
   "metadata": {},
   "outputs": [],
   "source": [
    "print(\"These are the unique titles and their count in this dataset: \")\n",
    "\n",
    "ses23['Title'].value_counts()"
   ]
  },
  {
   "cell_type": "code",
   "execution_count": null,
   "id": "90d35446",
   "metadata": {},
   "outputs": [],
   "source": [
    "Total_title = ses23['Title'].value_counts()\n",
    "\n",
    "# Sort in descending order\n",
    "Total_title  = Total_title .sort_values(ascending=True)\n",
    "\n",
    "# Set up the figure and axes\n",
    "fig, ax = plt.subplots()\n",
    "\n",
    "# Create a bar plot\n",
    "ax.bar(Total_title .index, Total_title.values)\n",
    "\n",
    "# Customize the plot\n",
    "ax.set_title('TOTAL NUMBER OF TITLE THAT CAME FOR THE SES 2023')\n",
    "ax.set_xlabel('Title')\n",
    "ax.set_ylabel('Count')\n",
    "\n",
    "# Rotate x-axis labels if needed\n",
    "plt.xticks(rotation=90)\n",
    "\n",
    "# Display the plot\n",
    "plt.show()"
   ]
  },
  {
   "cell_type": "code",
   "execution_count": null,
   "id": "4f15b48e",
   "metadata": {},
   "outputs": [],
   "source": [
    "ses23['Country'].unique()"
   ]
  },
  {
   "cell_type": "code",
   "execution_count": null,
   "id": "30a3e592",
   "metadata": {},
   "outputs": [],
   "source": [
    "ses23['Country'] = ses23['Country'].replace('GHANA','Ghana')\n",
    "ses23['Country'] = ses23['Country'].replace('Ghana ','Ghana')\n",
    "ses23['Country'] = ses23['Country'].replace('Netherlands ','Netherlands')\n",
    "ses23['Country'] = ses23['Country'].replace('Tchad ','Chad')\n",
    "ses23['Country'] = ses23['Country'].replace('Tchad','Chad')\n",
    "ses23['Country'] = ses23['Country'].replace('Ghaba','Ghana')\n",
    "ses23['Country'] = ses23['Country'].replace('GHANA ','Ghana')\n",
    "ses23['Country'] = ses23['Country'].replace('Ghans','Ghana')\n",
    "ses23['Country'] = ses23['Country'].replace('Nigeria ','Nigeria')\n",
    "ses23['Country'] = ses23['Country'].replace('United Kingdom ','United Kingdom')\n",
    "ses23['Country'] = ses23['Country'].replace('Togo ','Togo')\n",
    "ses23['Country'] = ses23['Country'].replace('Cameroon ','Cameroon')\n",
    "ses23['Country'] = ses23['Country'].replace('Ghanaian ','Ghana')\n",
    "ses23['Country'] = ses23['Country'].replace('Congo ','Congo')\n",
    "ses23['Country'] = ses23['Country'].replace('Gabon ','Gabon')\n",
    "ses23['Country'] = ses23['Country'].replace('Benin ','Benin')\n",
    "ses23['Country'] = ses23['Country'].replace('Ivory coast','Côté d’Ivoire')\n",
    "ses23['Country'] = ses23['Country'].replace('Lvory coast ','Côté d’Ivoire')\n",
    "ses23['Country'] = ses23['Country'].replace('Coast Ivory','Côté d’Ivoire')\n",
    "ses23['Country'] = ses23['Country'].replace(\"Cote D'Ivoire \",'Côté d’Ivoire')\n",
    "ses23['Country'] = ses23['Country'].replace('C I','Côté d’Ivoire')\n",
    "ses23['Country'] = ses23['Country'].replace('Cote divoire','Côté d’Ivoire')\n",
    "ses23['Country'] = ses23['Country'].replace('CAR','Central African Republic')\n",
    "ses23['Country'] = ses23['Country'].replace('Ivory Coast ','Côté d’Ivoire')\n",
    "ses23['Country'] = ses23['Country'].replace('Cole divore ','Côté d’Ivoire')\n",
    "ses23['Country'] = ses23['Country'].replace('Gabon/Ghana','Gabon')\n",
    "ses23['Country'] = ses23['Country'].replace('R.D.C','Democratic Republic of Congo')\n",
    "ses23['Country'] = ses23['Country'].replace(\"Cote D'Ivorie\",'Côté d’Ivoire')\n",
    "ses23['Country'] = ses23['Country'].replace('Ghana/US','Ghana')\n",
    "ses23['Country'] = ses23['Country'].replace('South Africa ','South Africa')\n",
    "ses23['Country'] = ses23['Country'].replace('lawsoneleanor920@gmail.com','Ghana')\n",
    "ses23['Country'] = ses23['Country'].replace('Cote D’Ivoire','Côté d’Ivoire')\n",
    "ses23['Country'] = ses23['Country'].replace('Cote D’Ivoire ','Côté d’Ivoire')\n",
    "ses23['Country'] = ses23['Country'].replace('C.A.R','Central African Republic')\n",
    "ses23['Country'] = ses23['Country'].replace('darkohilda@gmail.com','Ghana')\n",
    "ses23['Country'] = ses23['Country'].replace(\"Cóte D'voire\",'Côté d’Ivoire')\n",
    "ses23['Country'] = ses23['Country'].replace('Cote d ivai','Côté d’Ivoire')\n",
    "ses23['Country'] = ses23['Country'].replace('Ivory Coast','Côté d’Ivoire')\n",
    "ses23['Country'] = ses23['Country'].replace('T Chad','Chad')\n",
    "ses23['Country'] = ses23['Country'].replace('UK','United Kingdom')\n",
    "ses23['Country'] = ses23['Country'].replace('C. A. R','Central African Republic')\n",
    "ses23['Country'] = ses23['Country'].replace('C.I','Côté d’Ivoire')\n",
    "ses23['Country'] = ses23['Country'].replace('Cote D’Ivore','Côté d’Ivoire')\n",
    "ses23['Country'] = ses23['Country'].replace('Preciouskaledzi77@gmail.com','Ghana')\n",
    "ses23['Country'] = ses23['Country'].replace('Ghanan','Ghana')\n",
    "ses23['Country'] = ses23['Country'].replace('C.A.R ','Central African Republic')\n",
    "ses23['Country'] = ses23['Country'].replace('Central African Republic ','Central African Republic')\n",
    "ses23['Country'] = ses23['Country'].replace(\"Cote d' ivior\",'Côté d’Ivoire')\n",
    "ses23['Country'] = ses23['Country'].replace('CMR','Cameroon')\n",
    "ses23['Country'] = ses23['Country'].replace('USA','United States of America')\n",
    "ses23['Country'] = ses23['Country'].replace('CONGO','Congo')\n",
    "ses23['Country'] = ses23['Country'].replace('GABON','Gabon')\n",
    "ses23['Country'] = ses23['Country'].replace('CHAD','Chad')\n",
    "ses23['Country'] = ses23['Country'].replace('SENEGAL','Senegal')\n",
    "ses23['Country'] = ses23['Country'].replace('COTE DIVOIRE','Côté d’Ivoire')\n",
    "ses23['Country'] = ses23['Country'].replace('BURKINA FASO','Burkina Faso')\n",
    "ses23['Country'] = ses23['Country'].replace('SOUTH AFRICA','South Africa')\n",
    "ses23['Country'] = ses23['Country'].replace('ghana','Ghana')\n",
    "ses23['Country'] = ses23['Country'].replace('Guana','Ghana')\n",
    "ses23['Country'] = ses23['Country'].replace(\"Cote D'Ivoire\",'Côté d’Ivoire')\n",
    "ses23['Country'] = ses23['Country'].replace(\"Cote d'Ivoire \",'Côté d’Ivoire')\n",
    "ses23['Country'] = ses23['Country'].replace('Abijan','Côté d’Ivoire')\n",
    "ses23['Country'] = ses23['Country'].replace('RCI','Côté d’Ivoire')\n",
    "ses23['Country'] = ses23['Country'].replace('RCI ','Côté d’Ivoire')\n",
    "ses23['Country'] = ses23['Country'].replace('Swiss','Switzerland')\n",
    "ses23['Country'] = ses23['Country'].replace('CHC','Ghana')"
   ]
  },
  {
   "cell_type": "code",
   "execution_count": null,
   "id": "918464bb",
   "metadata": {},
   "outputs": [],
   "source": [
    "ses23['Country'].unique()"
   ]
  },
  {
   "cell_type": "code",
   "execution_count": null,
   "id": "a3136a45",
   "metadata": {},
   "outputs": [],
   "source": [
    "ses23['Country'].value_counts()"
   ]
  },
  {
   "cell_type": "code",
   "execution_count": null,
   "id": "bbce5850",
   "metadata": {},
   "outputs": [],
   "source": [
    "ses23['Occupation'].unique()"
   ]
  },
  {
   "cell_type": "code",
   "execution_count": null,
   "id": "d45548c6",
   "metadata": {},
   "outputs": [],
   "source": [
    "ses23['Occupation'].value_counts()"
   ]
  },
  {
   "cell_type": "code",
   "execution_count": null,
   "id": "51742e77",
   "metadata": {},
   "outputs": [],
   "source": []
  },
  {
   "cell_type": "code",
   "execution_count": null,
   "id": "92e4cb3a",
   "metadata": {},
   "outputs": [],
   "source": []
  },
  {
   "cell_type": "code",
   "execution_count": null,
   "id": "12341d9c",
   "metadata": {},
   "outputs": [],
   "source": []
  },
  {
   "cell_type": "code",
   "execution_count": null,
   "id": "5fd6a598",
   "metadata": {},
   "outputs": [],
   "source": []
  }
 ],
 "metadata": {
  "kernelspec": {
   "display_name": "Python 3 (ipykernel)",
   "language": "python",
   "name": "python3"
  },
  "language_info": {
   "codemirror_mode": {
    "name": "ipython",
    "version": 3
   },
   "file_extension": ".py",
   "mimetype": "text/x-python",
   "name": "python",
   "nbconvert_exporter": "python",
   "pygments_lexer": "ipython3",
   "version": "3.11.1"
  }
 },
 "nbformat": 4,
 "nbformat_minor": 5
}
